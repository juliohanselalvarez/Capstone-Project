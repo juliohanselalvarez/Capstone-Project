{
 "cells": [
  {
   "cell_type": "code",
   "execution_count": 1,
   "id": "576fabb8",
   "metadata": {
    "extensions": {
     "jupyter_dashboards": {
      "version": 1,
      "views": {
       "grid_default": {},
       "report_default": {
        "hidden": true
       }
      }
     }
    }
   },
   "outputs": [],
   "source": [
    "#import libraries for use\n",
    "import pandas as pd\n",
    "import keras as k\n",
    "import numpy as np\n",
    "import matplotlib\n",
    "import matplotlib.pyplot as plt\n",
    "import math\n",
    "from keras.models import model_from_json\n",
    "import ipywidgets as widgets\n",
    "from ipywidgets import interact\n",
    "from IPython.display import display, Markdown"
   ]
  },
  {
   "cell_type": "code",
   "execution_count": 2,
   "id": "0f37b9c9",
   "metadata": {
    "extensions": {
     "jupyter_dashboards": {
      "version": 1,
      "views": {
       "grid_default": {},
       "report_default": {
        "hidden": true
       }
      }
     }
    }
   },
   "outputs": [],
   "source": [
    "# # load json and create model\n",
    "# json_file = open('model.json', 'r')\n",
    "# loaded_model_json = json_file.read()\n",
    "# json_file.close()\n",
    "# loaded_model = model_from_json(loaded_model_json)\n",
    "# # load weights into new model\n",
    "# loaded_model.load_weights(\"model.h5\")\n",
    "# print(\"Loaded model from disk\")"
   ]
  },
  {
   "cell_type": "code",
   "execution_count": 3,
   "id": "ba1b395f",
   "metadata": {
    "extensions": {
     "jupyter_dashboards": {
      "version": 1,
      "views": {
       "grid_default": {},
       "report_default": {
        "hidden": true
       }
      }
     }
    }
   },
   "outputs": [],
   "source": [
    "#Import Clean Data\n",
    "csv = pd.read_excel('csv_clean.xlsx')"
   ]
  },
  {
   "cell_type": "code",
   "execution_count": 4,
   "id": "cf744ca4",
   "metadata": {
    "extensions": {
     "jupyter_dashboards": {
      "version": 1,
      "views": {
       "grid_default": {},
       "report_default": {
        "hidden": false
       }
      }
     }
    }
   },
   "outputs": [],
   "source": [
    "#Markdown('<h1>Test</h1><br/>')"
   ]
  },
  {
   "cell_type": "code",
   "execution_count": 5,
   "id": "99ddf8d9",
   "metadata": {
    "extensions": {
     "jupyter_dashboards": {
      "version": 1,
      "views": {
       "grid_default": {},
       "report_default": {
        "hidden": true
       }
      }
     }
    }
   },
   "outputs": [],
   "source": [
    "maxDate = np.max(csv['FormattedDate'])"
   ]
  },
  {
   "cell_type": "code",
   "execution_count": 6,
   "id": "fc4e47a2",
   "metadata": {
    "extensions": {
     "jupyter_dashboards": {
      "version": 1,
      "views": {
       "grid_default": {},
       "report_default": {
        "hidden": false
       }
      }
     }
    }
   },
   "outputs": [
    {
     "data": {
      "text/markdown": [
       "<h1>Data Available Until 2021-07-06</h1><br/>"
      ],
      "text/plain": [
       "<IPython.core.display.Markdown object>"
      ]
     },
     "execution_count": 6,
     "metadata": {},
     "output_type": "execute_result"
    }
   ],
   "source": [
    "Markdown('<h1>Data Available Until {}</h1><br/>'.format(maxDate.date()))"
   ]
  },
  {
   "cell_type": "code",
   "execution_count": 7,
   "id": "1eb07535",
   "metadata": {
    "extensions": {
     "jupyter_dashboards": {
      "version": 1,
      "views": {
       "grid_default": {},
       "report_default": {
        "hidden": false
       }
      }
     }
    }
   },
   "outputs": [
    {
     "data": {
      "text/markdown": [
       "<h1>Probability Next Day will have positive price fluctuation: 94%</h1><br/>"
      ],
      "text/plain": [
       "<IPython.core.display.Markdown object>"
      ]
     },
     "execution_count": 7,
     "metadata": {},
     "output_type": "execute_result"
    }
   ],
   "source": [
    "Markdown('<h1>Probability Next Day will have positive price fluctuation: {}</h1><br/>'.format(str(int(np.round(csv.iloc[-1]['Predictions'] * 100))) + '%'))"
   ]
  },
  {
   "cell_type": "code",
   "execution_count": 8,
   "id": "67079b21",
   "metadata": {
    "extensions": {
     "jupyter_dashboards": {
      "version": 1,
      "views": {
       "grid_default": {},
       "report_default": {
        "hidden": false
       }
      }
     }
    }
   },
   "outputs": [
    {
     "data": {
      "text/markdown": [
       "<h3>Move slider to see more data before last available day of data.</h3><br/>"
      ],
      "text/plain": [
       "<IPython.core.display.Markdown object>"
      ]
     },
     "execution_count": 8,
     "metadata": {},
     "output_type": "execute_result"
    }
   ],
   "source": [
    "Markdown('<h3>Move slider to see more data before last available day of data.</h3><br/>'.format(maxDate))"
   ]
  },
  {
   "cell_type": "code",
   "execution_count": 9,
   "id": "34aaedc5",
   "metadata": {
    "extensions": {
     "jupyter_dashboards": {
      "version": 1,
      "views": {
       "grid_default": {},
       "report_default": {
        "hidden": false
       }
      }
     }
    }
   },
   "outputs": [
    {
     "data": {
      "application/vnd.jupyter.widget-view+json": {
       "model_id": "72ef51a70f6843d1be16a20e8c1a0662",
       "version_major": 2,
       "version_minor": 0
      },
      "text/plain": [
       "interactive(children=(IntSlider(value=100, continuous_update=False, description='Days', max=300, min=30), Outp…"
      ]
     },
     "metadata": {},
     "output_type": "display_data"
    },
    {
     "data": {
      "text/plain": [
       "<function __main__.my_function(Days=100)>"
      ]
     },
     "execution_count": 9,
     "metadata": {},
     "output_type": "execute_result"
    }
   ],
   "source": [
    "def my_function(Days=100):\n",
    "    return csv.iloc[-Days:].plot('FormattedDate', 'Close', title='Closing Prices',xlabel='Date',ylabel='Closing Price'), \\\n",
    "    csv.iloc[-Days:].plot('FormattedDate', 'NextDayFluctuation', title='Day over Day Fluctuations',xlabel='Date',ylabel='Day over Day Fluctuation'), \\\n",
    "    csv.iloc[-Days:].plot.scatter(x='Predictions', y='Days1Fluctuation', title='Model Prediction vs Day of Fluctuation',xlabel='Model Predictions of Increase',ylabel='Actual Closing Fluctuation'), \\\n",
    "    print('Day over day positive increases seen in past {} days : {}'.format(Days, np.sum(csv['DaySawIncrease'].iloc[-Days:]))), \\\n",
    "    print('Model has been correct using a 50% cutoff {} of the time in the past {} days.'.format(str(int(np.round(np.average((csv['DaySawIncrease'].iloc[-Days:] == True & csv['Predictions'].iloc[-Days:].ge(0.5)) | (csv['DaySawIncrease'].iloc[-Days:] != True & csv['Predictions'].iloc[-Days:].lt(0.5))),2) * 100)) + \"%\", Days))\n",
    "\n",
    "\n",
    "interact(my_function,Days=widgets.IntSlider(min=30, max=300, value=100,step=1,continuous_update=False, title='Days Since last available day'))"
   ]
  },
  {
   "cell_type": "code",
   "execution_count": 10,
   "id": "97688e2e",
   "metadata": {
    "extensions": {
     "jupyter_dashboards": {
      "version": 1,
      "views": {
       "grid_default": {},
       "report_default": {
        "hidden": false
       }
      }
     }
    }
   },
   "outputs": [
    {
     "data": {
      "text/markdown": [
       "<h3>Below is a histogram of the model predictions.</h3><br/>"
      ],
      "text/plain": [
       "<IPython.core.display.Markdown object>"
      ]
     },
     "execution_count": 10,
     "metadata": {},
     "output_type": "execute_result"
    }
   ],
   "source": [
    "Markdown('<h3>Below is a histogram of the model predictions.</h3><br/>')"
   ]
  },
  {
   "cell_type": "code",
   "execution_count": 11,
   "id": "8113b666",
   "metadata": {
    "extensions": {
     "jupyter_dashboards": {
      "version": 1,
      "views": {
       "grid_default": {},
       "report_default": {
        "hidden": false
       }
      }
     }
    }
   },
   "outputs": [
    {
     "data": {
      "text/plain": [
       "<AxesSubplot:title={'center':'Prediction Frequency'}, ylabel='Frequency'>"
      ]
     },
     "execution_count": 11,
     "metadata": {},
     "output_type": "execute_result"
    },
    {
     "data": {
      "image/png": "[encoded data removed]",
      "text/plain": [
       "<Figure size 432x288 with 1 Axes>"
      ]
     },
     "metadata": {
      "needs_background": "light"
     },
     "output_type": "display_data"
    }
   ],
   "source": [
    "#Plot Closing prices and Fluctuations\n",
    "# csv.plot('FormattedDate', 'Close')\n",
    "csv['Predictions'].plot.hist(bins=10, title='Prediction Frequency')"
   ]
  },
  {
   "cell_type": "code",
   "execution_count": 12,
   "id": "d8a3eb66",
   "metadata": {
    "extensions": {
     "jupyter_dashboards": {
      "version": 1,
      "views": {
       "grid_default": {},
       "report_default": {
        "hidden": false
       }
      }
     }
    }
   },
   "outputs": [],
   "source": [
    "# csv.plot('FormattedDate', 'NextDayFluctuation')\n",
    "# print(np.average((csv['DaySawIncrease'].iloc[-300:] == True & csv['Predictions'].iloc[-300:].ge(0.5)) | (csv['DaySawIncrease'].iloc[-300:] != True & csv['Predictions'].iloc[-300:].lt(0.5))))"
   ]
  },
  {
   "cell_type": "code",
   "execution_count": 13,
   "id": "aeb3e29e",
   "metadata": {
    "extensions": {
     "jupyter_dashboards": {
      "version": 1,
      "views": {
       "grid_default": {},
       "report_default": {
        "hidden": true
       }
      }
     }
    }
   },
   "outputs": [],
   "source": [
    "# (csv['DaySawIncrease'].iloc[-10:] != True & csv['Predictions'].iloc[-10:].lt(0.5))"
   ]
  },
  {
   "cell_type": "code",
   "execution_count": 14,
   "id": "413f8795",
   "metadata": {
    "extensions": {
     "jupyter_dashboards": {
      "version": 1,
      "views": {
       "grid_default": {},
       "report_default": {
        "hidden": true
       }
      }
     }
    }
   },
   "outputs": [],
   "source": [
    "# import statsmodels.api as sm\n",
    "# x_cols = ['Days1Fluctuation','Days3Fluctuation','Days7Fluctuation','Days15Fluctuation', \\\n",
    "#  'Days30Fluctuation','Days90Fluctuation','Days180Fluctuation','Days360Fluctuation', \\\n",
    "#  'Days1FluctuationVolume','Days3FluctuationVolume','Days7FluctuationVolume','Days15FluctuationVolume', \\\n",
    "#   'Days30FluctuationVolume','Days90FluctuationVolume','Days180FluctuationVolume','Days360FluctuationVolume', \\\n",
    "#             'CloseToHigh','CloseToLow']\n",
    "# X = csv[x_cols].iloc[-200:-10]\n",
    "# y = csv['DaySawIncrease'].iloc[-200:-10]\n",
    "# logit_model=sm.Logit(y,X)\n",
    "# result=logit_model.fit()"
   ]
  },
  {
   "cell_type": "code",
   "execution_count": 15,
   "id": "1f37a062",
   "metadata": {
    "extensions": {
     "jupyter_dashboards": {
      "version": 1,
      "views": {
       "grid_default": {},
       "report_default": {
        "hidden": true
       }
      }
     }
    }
   },
   "outputs": [],
   "source": [
    "# print(result.summary2())"
   ]
  },
  {
   "cell_type": "code",
   "execution_count": 16,
   "id": "81711239",
   "metadata": {
    "extensions": {
     "jupyter_dashboards": {
      "version": 1,
      "views": {
       "grid_default": {},
       "report_default": {
        "hidden": true
       }
      }
     }
    }
   },
   "outputs": [],
   "source": [
    "# x_col_see = ['Date','Close','RollingNextDay','RollingAvg1Days', 'NextDayFluctuation','Days1Fluctuation','DaySawIncrease']\n",
    "# csv[x_col_see]"
   ]
  },
  {
   "cell_type": "code",
   "execution_count": 17,
   "id": "d5a6714e",
   "metadata": {
    "extensions": {
     "jupyter_dashboards": {
      "version": 1,
      "views": {
       "grid_default": {},
       "report_default": {
        "hidden": true
       }
      }
     }
    }
   },
   "outputs": [],
   "source": [
    "#csv.set_index('Date')\n",
    "from sklearn.cluster import KMeans\n",
    "x_cols_cluster = ['NextDayFluctuation','Days1Fluctuation']\n",
    "kmeans_dataset = csv[x_cols_cluster].iloc[-500:-1]\n",
    "kmeans = KMeans(n_clusters=5, random_state=42).fit(kmeans_dataset)\n",
    "kmeans_dataset['kmeans_labels'] = kmeans.labels_"
   ]
  },
  {
   "cell_type": "code",
   "execution_count": 18,
   "id": "332ba08d",
   "metadata": {
    "extensions": {
     "jupyter_dashboards": {
      "version": 1,
      "views": {
       "grid_default": {},
       "report_default": {
        "hidden": false
       }
      }
     }
    }
   },
   "outputs": [
    {
     "data": {
      "text/plain": [
       "<AxesSubplot:xlabel='Days1Fluctuation', ylabel='NextDayFluctuation'>"
      ]
     },
     "execution_count": 18,
     "metadata": {},
     "output_type": "execute_result"
    },
    {
     "data": {
      "image/png": "[encoded data removed]",
      "text/plain": [
       "<Figure size 432x288 with 1 Axes>"
      ]
     },
     "metadata": {
      "needs_background": "light"
     },
     "output_type": "display_data"
    }
   ],
   "source": [
    "colors = {0:'red', 1:'green', 2:'blue', 3:'yellow',4:'purple',5:'gray',6:'pink'}\n",
    "kmeans_dataset.plot(x='Days1Fluctuation',y='NextDayFluctuation',kind='scatter',c = kmeans_dataset['kmeans_labels'].map(colors), xlim=(-0.1,0.1),ylim=(-0.1,0.1))"
   ]
  },
  {
   "cell_type": "code",
   "execution_count": 19,
   "id": "3905e784",
   "metadata": {
    "extensions": {
     "jupyter_dashboards": {
      "version": 1,
      "views": {
       "grid_default": {},
       "report_default": {
        "hidden": false
       }
      }
     }
    }
   },
   "outputs": [
    {
     "data": {
      "text/plain": [
       "0.6891464277163555"
      ]
     },
     "execution_count": 19,
     "metadata": {},
     "output_type": "execute_result"
    }
   ],
   "source": [
    "kmeans.inertia_"
   ]
  },
  {
   "cell_type": "code",
   "execution_count": 20,
   "id": "93094f00",
   "metadata": {
    "extensions": {
     "jupyter_dashboards": {
      "version": 1,
      "views": {
       "grid_default": {},
       "report_default": {
        "hidden": false
       }
      }
     }
    }
   },
   "outputs": [
    {
     "data": {
      "text/html": [
       "<div>\n",
       "<style scoped>\n",
       "    .dataframe tbody tr th:only-of-type {\n",
       "        vertical-align: middle;\n",
       "    }\n",
       "\n",
       "    .dataframe tbody tr th {\n",
       "        vertical-align: top;\n",
       "    }\n",
       "\n",
       "    .dataframe thead th {\n",
       "        text-align: right;\n",
       "    }\n",
       "</style>\n",
       "<table border=\"1\" class=\"dataframe\">\n",
       "  <thead>\n",
       "    <tr style=\"text-align: right;\">\n",
       "      <th></th>\n",
       "      <th>NextDayFluctuation</th>\n",
       "      <th>Days1Fluctuation</th>\n",
       "    </tr>\n",
       "    <tr>\n",
       "      <th>kmeans_labels</th>\n",
       "      <th></th>\n",
       "      <th></th>\n",
       "    </tr>\n",
       "  </thead>\n",
       "  <tbody>\n",
       "    <tr>\n",
       "      <th>0</th>\n",
       "      <td>-0.063210</td>\n",
       "      <td>-0.003051</td>\n",
       "    </tr>\n",
       "    <tr>\n",
       "      <th>1</th>\n",
       "      <td>0.010742</td>\n",
       "      <td>-0.065934</td>\n",
       "    </tr>\n",
       "    <tr>\n",
       "      <th>2</th>\n",
       "      <td>-0.001574</td>\n",
       "      <td>0.075506</td>\n",
       "    </tr>\n",
       "    <tr>\n",
       "      <th>3</th>\n",
       "      <td>0.005260</td>\n",
       "      <td>0.005400</td>\n",
       "    </tr>\n",
       "    <tr>\n",
       "      <th>4</th>\n",
       "      <td>0.078348</td>\n",
       "      <td>-0.007493</td>\n",
       "    </tr>\n",
       "  </tbody>\n",
       "</table>\n",
       "</div>"
      ],
      "text/plain": [
       "               NextDayFluctuation  Days1Fluctuation\n",
       "kmeans_labels                                      \n",
       "0                       -0.063210         -0.003051\n",
       "1                        0.010742         -0.065934\n",
       "2                       -0.001574          0.075506\n",
       "3                        0.005260          0.005400\n",
       "4                        0.078348         -0.007493"
      ]
     },
     "execution_count": 20,
     "metadata": {},
     "output_type": "execute_result"
    }
   ],
   "source": [
    "kmeans_dataset.groupby(['kmeans_labels']).mean()"
   ]
  },
  {
   "cell_type": "code",
   "execution_count": null,
   "id": "0a4a0739",
   "metadata": {
    "extensions": {
     "jupyter_dashboards": {
      "version": 1,
      "views": {
       "grid_default": {},
       "report_default": {
        "hidden": true
       }
      }
     }
    }
   },
   "outputs": [],
   "source": []
  }
 ],
 "metadata": {
  "extensions": {
   "jupyter_dashboards": {
    "activeView": "report_default",
    "version": 1,
    "views": {
     "grid_default": {
      "cellMargin": 10,
      "defaultCellHeight": 20,
      "maxColumns": 12,
      "name": "grid",
      "type": "grid"
     },
     "report_default": {
      "name": "report",
      "type": "report"
     }
    }
   }
  },
  "kernelspec": {
   "display_name": "Python 3",
   "language": "python",
   "name": "python3"
  },
  "language_info": {
   "codemirror_mode": {
    "name": "ipython",
    "version": 3
   },
   "file_extension": ".py",
   "mimetype": "text/x-python",
   "name": "python",
   "nbconvert_exporter": "python",
   "pygments_lexer": "ipython3",
   "version": "3.8.10"
  }
 },
 "nbformat": 4,
 "nbformat_minor": 5
}

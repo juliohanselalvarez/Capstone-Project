{
 "cells": [
  {
   "cell_type": "code",
   "execution_count": 1,
   "metadata": {
    "extensions": {
     "jupyter_dashboards": {
      "version": 1,
      "views": {
       "grid_default": {},
       "report_default": {}
      }
     }
    }
   },
   "outputs": [],
   "source": [
    "#import libraries for use\n",
    "import pandas as pd\n",
    "import keras as k\n",
    "from keras.models import model_from_json\n",
    "import numpy as np\n",
    "import matplotlib\n",
    "import math\n",
    "import openpyxl"
   ]
  },
  {
   "cell_type": "code",
   "execution_count": 2,
   "metadata": {
    "extensions": {
     "jupyter_dashboards": {
      "version": 1,
      "views": {
       "grid_default": {},
       "report_default": {}
      }
     }
    }
   },
   "outputs": [],
   "source": [
    "#Import data from https://www.kaggle.com/sudalairajkumar/cryptocurrencypricehistory?select=coin_Bitcoin.csv\n",
    "#Saved in same folder as file\n",
    "csv = pd.read_csv('coin_Bitcoin.csv')\n",
    "csv = csv[csv['Volume'] > 0]"
   ]
  },
  {
   "cell_type": "code",
   "execution_count": 3,
   "metadata": {
    "extensions": {
     "jupyter_dashboards": {
      "version": 1,
      "views": {
       "grid_default": {},
       "report_default": {}
      }
     }
    }
   },
   "outputs": [
    {
     "name": "stdout",
     "output_type": "stream",
     "text": [
      "<class 'pandas.core.frame.DataFrame'>\n",
      "Int64Index: 2749 entries, 242 to 2990\n",
      "Data columns (total 10 columns):\n",
      " #   Column     Non-Null Count  Dtype  \n",
      "---  ------     --------------  -----  \n",
      " 0   SNo        2749 non-null   int64  \n",
      " 1   Name       2749 non-null   object \n",
      " 2   Symbol     2749 non-null   object \n",
      " 3   Date       2749 non-null   object \n",
      " 4   High       2749 non-null   float64\n",
      " 5   Low        2749 non-null   float64\n",
      " 6   Open       2749 non-null   float64\n",
      " 7   Close      2749 non-null   float64\n",
      " 8   Volume     2749 non-null   float64\n",
      " 9   Marketcap  2749 non-null   float64\n",
      "dtypes: float64(6), int64(1), object(3)\n",
      "memory usage: 236.2+ KB\n"
     ]
    }
   ],
   "source": [
    "#Describe data of csv\n",
    "csv.info()"
   ]
  },
  {
   "cell_type": "code",
   "execution_count": 4,
   "metadata": {
    "extensions": {
     "jupyter_dashboards": {
      "version": 1,
      "views": {
       "grid_default": {},
       "report_default": {}
      }
     }
    }
   },
   "outputs": [
    {
     "data": {
      "text/html": [
       "<div>\n",
       "<style scoped>\n",
       "    .dataframe tbody tr th:only-of-type {\n",
       "        vertical-align: middle;\n",
       "    }\n",
       "\n",
       "    .dataframe tbody tr th {\n",
       "        vertical-align: top;\n",
       "    }\n",
       "\n",
       "    .dataframe thead th {\n",
       "        text-align: right;\n",
       "    }\n",
       "</style>\n",
       "<table border=\"1\" class=\"dataframe\">\n",
       "  <thead>\n",
       "    <tr style=\"text-align: right;\">\n",
       "      <th></th>\n",
       "      <th>SNo</th>\n",
       "      <th>Name</th>\n",
       "      <th>Symbol</th>\n",
       "      <th>Date</th>\n",
       "      <th>High</th>\n",
       "      <th>Low</th>\n",
       "      <th>Open</th>\n",
       "      <th>Close</th>\n",
       "      <th>Volume</th>\n",
       "      <th>Marketcap</th>\n",
       "    </tr>\n",
       "  </thead>\n",
       "  <tbody>\n",
       "    <tr>\n",
       "      <th>242</th>\n",
       "      <td>243</td>\n",
       "      <td>Bitcoin</td>\n",
       "      <td>BTC</td>\n",
       "      <td>2013-12-27 23:59:59</td>\n",
       "      <td>777.510010</td>\n",
       "      <td>713.599976</td>\n",
       "      <td>763.280029</td>\n",
       "      <td>735.070007</td>\n",
       "      <td>46862700.0</td>\n",
       "      <td>8.955395e+09</td>\n",
       "    </tr>\n",
       "    <tr>\n",
       "      <th>243</th>\n",
       "      <td>244</td>\n",
       "      <td>Bitcoin</td>\n",
       "      <td>BTC</td>\n",
       "      <td>2013-12-28 23:59:59</td>\n",
       "      <td>747.059998</td>\n",
       "      <td>705.349976</td>\n",
       "      <td>737.979980</td>\n",
       "      <td>727.830017</td>\n",
       "      <td>32505800.0</td>\n",
       "      <td>8.869919e+09</td>\n",
       "    </tr>\n",
       "    <tr>\n",
       "      <th>244</th>\n",
       "      <td>245</td>\n",
       "      <td>Bitcoin</td>\n",
       "      <td>BTC</td>\n",
       "      <td>2013-12-29 23:59:59</td>\n",
       "      <td>748.609985</td>\n",
       "      <td>714.440002</td>\n",
       "      <td>728.049988</td>\n",
       "      <td>745.049988</td>\n",
       "      <td>19011300.0</td>\n",
       "      <td>9.082104e+09</td>\n",
       "    </tr>\n",
       "    <tr>\n",
       "      <th>245</th>\n",
       "      <td>246</td>\n",
       "      <td>Bitcoin</td>\n",
       "      <td>BTC</td>\n",
       "      <td>2013-12-30 23:59:59</td>\n",
       "      <td>766.599976</td>\n",
       "      <td>740.239990</td>\n",
       "      <td>741.349976</td>\n",
       "      <td>756.130005</td>\n",
       "      <td>20707700.0</td>\n",
       "      <td>9.217168e+09</td>\n",
       "    </tr>\n",
       "    <tr>\n",
       "      <th>246</th>\n",
       "      <td>247</td>\n",
       "      <td>Bitcoin</td>\n",
       "      <td>BTC</td>\n",
       "      <td>2013-12-31 23:59:59</td>\n",
       "      <td>760.580017</td>\n",
       "      <td>738.169983</td>\n",
       "      <td>760.320007</td>\n",
       "      <td>754.010010</td>\n",
       "      <td>20897300.0</td>\n",
       "      <td>9.191325e+09</td>\n",
       "    </tr>\n",
       "  </tbody>\n",
       "</table>\n",
       "</div>"
      ],
      "text/plain": [
       "     SNo     Name Symbol                 Date        High         Low  \\\n",
       "242  243  Bitcoin    BTC  2013-12-27 23:59:59  777.510010  713.599976   \n",
       "243  244  Bitcoin    BTC  2013-12-28 23:59:59  747.059998  705.349976   \n",
       "244  245  Bitcoin    BTC  2013-12-29 23:59:59  748.609985  714.440002   \n",
       "245  246  Bitcoin    BTC  2013-12-30 23:59:59  766.599976  740.239990   \n",
       "246  247  Bitcoin    BTC  2013-12-31 23:59:59  760.580017  738.169983   \n",
       "\n",
       "           Open       Close      Volume     Marketcap  \n",
       "242  763.280029  735.070007  46862700.0  8.955395e+09  \n",
       "243  737.979980  727.830017  32505800.0  8.869919e+09  \n",
       "244  728.049988  745.049988  19011300.0  9.082104e+09  \n",
       "245  741.349976  756.130005  20707700.0  9.217168e+09  \n",
       "246  760.320007  754.010010  20897300.0  9.191325e+09  "
      ]
     },
     "execution_count": 4,
     "metadata": {},
     "output_type": "execute_result"
    }
   ],
   "source": [
    "#Show a few of the top rows of the data\n",
    "csv.head()"
   ]
  },
  {
   "cell_type": "code",
   "execution_count": 5,
   "metadata": {
    "extensions": {
     "jupyter_dashboards": {
      "version": 1,
      "views": {
       "grid_default": {},
       "report_default": {}
      }
     }
    }
   },
   "outputs": [
    {
     "data": {
      "text/html": [
       "<div>\n",
       "<style scoped>\n",
       "    .dataframe tbody tr th:only-of-type {\n",
       "        vertical-align: middle;\n",
       "    }\n",
       "\n",
       "    .dataframe tbody tr th {\n",
       "        vertical-align: top;\n",
       "    }\n",
       "\n",
       "    .dataframe thead th {\n",
       "        text-align: right;\n",
       "    }\n",
       "</style>\n",
       "<table border=\"1\" class=\"dataframe\">\n",
       "  <thead>\n",
       "    <tr style=\"text-align: right;\">\n",
       "      <th></th>\n",
       "      <th>SNo</th>\n",
       "      <th>Name</th>\n",
       "      <th>Symbol</th>\n",
       "      <th>Date</th>\n",
       "      <th>High</th>\n",
       "      <th>Low</th>\n",
       "      <th>Open</th>\n",
       "      <th>Close</th>\n",
       "      <th>Volume</th>\n",
       "      <th>Marketcap</th>\n",
       "    </tr>\n",
       "  </thead>\n",
       "  <tbody>\n",
       "    <tr>\n",
       "      <th>2981</th>\n",
       "      <td>2982</td>\n",
       "      <td>Bitcoin</td>\n",
       "      <td>BTC</td>\n",
       "      <td>2021-06-27 23:59:59</td>\n",
       "      <td>34656.127356</td>\n",
       "      <td>32071.757148</td>\n",
       "      <td>32287.523211</td>\n",
       "      <td>34649.644588</td>\n",
       "      <td>3.551164e+10</td>\n",
       "      <td>6.494617e+11</td>\n",
       "    </tr>\n",
       "    <tr>\n",
       "      <th>2982</th>\n",
       "      <td>2983</td>\n",
       "      <td>Bitcoin</td>\n",
       "      <td>BTC</td>\n",
       "      <td>2021-06-28 23:59:59</td>\n",
       "      <td>35219.891791</td>\n",
       "      <td>33902.075892</td>\n",
       "      <td>34679.122222</td>\n",
       "      <td>34434.335314</td>\n",
       "      <td>3.389252e+10</td>\n",
       "      <td>6.454428e+11</td>\n",
       "    </tr>\n",
       "    <tr>\n",
       "      <th>2983</th>\n",
       "      <td>2984</td>\n",
       "      <td>Bitcoin</td>\n",
       "      <td>BTC</td>\n",
       "      <td>2021-06-29 23:59:59</td>\n",
       "      <td>36542.111018</td>\n",
       "      <td>34252.484892</td>\n",
       "      <td>34475.559697</td>\n",
       "      <td>35867.777735</td>\n",
       "      <td>3.790146e+10</td>\n",
       "      <td>6.723334e+11</td>\n",
       "    </tr>\n",
       "    <tr>\n",
       "      <th>2984</th>\n",
       "      <td>2985</td>\n",
       "      <td>Bitcoin</td>\n",
       "      <td>BTC</td>\n",
       "      <td>2021-06-30 23:59:59</td>\n",
       "      <td>36074.759757</td>\n",
       "      <td>34086.151878</td>\n",
       "      <td>35908.388054</td>\n",
       "      <td>35040.837249</td>\n",
       "      <td>3.405904e+10</td>\n",
       "      <td>6.568525e+11</td>\n",
       "    </tr>\n",
       "    <tr>\n",
       "      <th>2985</th>\n",
       "      <td>2986</td>\n",
       "      <td>Bitcoin</td>\n",
       "      <td>BTC</td>\n",
       "      <td>2021-07-01 23:59:59</td>\n",
       "      <td>35035.982712</td>\n",
       "      <td>32883.781226</td>\n",
       "      <td>35035.982712</td>\n",
       "      <td>33572.117653</td>\n",
       "      <td>3.783896e+10</td>\n",
       "      <td>6.293393e+11</td>\n",
       "    </tr>\n",
       "    <tr>\n",
       "      <th>2986</th>\n",
       "      <td>2987</td>\n",
       "      <td>Bitcoin</td>\n",
       "      <td>BTC</td>\n",
       "      <td>2021-07-02 23:59:59</td>\n",
       "      <td>33939.588699</td>\n",
       "      <td>32770.680780</td>\n",
       "      <td>33549.600177</td>\n",
       "      <td>33897.048590</td>\n",
       "      <td>3.872897e+10</td>\n",
       "      <td>6.354508e+11</td>\n",
       "    </tr>\n",
       "    <tr>\n",
       "      <th>2987</th>\n",
       "      <td>2988</td>\n",
       "      <td>Bitcoin</td>\n",
       "      <td>BTC</td>\n",
       "      <td>2021-07-03 23:59:59</td>\n",
       "      <td>34909.259899</td>\n",
       "      <td>33402.696536</td>\n",
       "      <td>33854.421362</td>\n",
       "      <td>34668.548402</td>\n",
       "      <td>2.438396e+10</td>\n",
       "      <td>6.499397e+11</td>\n",
       "    </tr>\n",
       "    <tr>\n",
       "      <th>2988</th>\n",
       "      <td>2989</td>\n",
       "      <td>Bitcoin</td>\n",
       "      <td>BTC</td>\n",
       "      <td>2021-07-04 23:59:59</td>\n",
       "      <td>35937.567147</td>\n",
       "      <td>34396.477458</td>\n",
       "      <td>34665.564866</td>\n",
       "      <td>35287.779766</td>\n",
       "      <td>2.492431e+10</td>\n",
       "      <td>6.615748e+11</td>\n",
       "    </tr>\n",
       "    <tr>\n",
       "      <th>2989</th>\n",
       "      <td>2990</td>\n",
       "      <td>Bitcoin</td>\n",
       "      <td>BTC</td>\n",
       "      <td>2021-07-05 23:59:59</td>\n",
       "      <td>35284.344430</td>\n",
       "      <td>33213.661034</td>\n",
       "      <td>35284.344430</td>\n",
       "      <td>33746.002456</td>\n",
       "      <td>2.672155e+10</td>\n",
       "      <td>6.326962e+11</td>\n",
       "    </tr>\n",
       "    <tr>\n",
       "      <th>2990</th>\n",
       "      <td>2991</td>\n",
       "      <td>Bitcoin</td>\n",
       "      <td>BTC</td>\n",
       "      <td>2021-07-06 23:59:59</td>\n",
       "      <td>35038.536363</td>\n",
       "      <td>33599.916169</td>\n",
       "      <td>33723.509655</td>\n",
       "      <td>34235.193451</td>\n",
       "      <td>2.650126e+10</td>\n",
       "      <td>6.418992e+11</td>\n",
       "    </tr>\n",
       "  </tbody>\n",
       "</table>\n",
       "</div>"
      ],
      "text/plain": [
       "       SNo     Name Symbol                 Date          High           Low  \\\n",
       "2981  2982  Bitcoin    BTC  2021-06-27 23:59:59  34656.127356  32071.757148   \n",
       "2982  2983  Bitcoin    BTC  2021-06-28 23:59:59  35219.891791  33902.075892   \n",
       "2983  2984  Bitcoin    BTC  2021-06-29 23:59:59  36542.111018  34252.484892   \n",
       "2984  2985  Bitcoin    BTC  2021-06-30 23:59:59  36074.759757  34086.151878   \n",
       "2985  2986  Bitcoin    BTC  2021-07-01 23:59:59  35035.982712  32883.781226   \n",
       "2986  2987  Bitcoin    BTC  2021-07-02 23:59:59  33939.588699  32770.680780   \n",
       "2987  2988  Bitcoin    BTC  2021-07-03 23:59:59  34909.259899  33402.696536   \n",
       "2988  2989  Bitcoin    BTC  2021-07-04 23:59:59  35937.567147  34396.477458   \n",
       "2989  2990  Bitcoin    BTC  2021-07-05 23:59:59  35284.344430  33213.661034   \n",
       "2990  2991  Bitcoin    BTC  2021-07-06 23:59:59  35038.536363  33599.916169   \n",
       "\n",
       "              Open         Close        Volume     Marketcap  \n",
       "2981  32287.523211  34649.644588  3.551164e+10  6.494617e+11  \n",
       "2982  34679.122222  34434.335314  3.389252e+10  6.454428e+11  \n",
       "2983  34475.559697  35867.777735  3.790146e+10  6.723334e+11  \n",
       "2984  35908.388054  35040.837249  3.405904e+10  6.568525e+11  \n",
       "2985  35035.982712  33572.117653  3.783896e+10  6.293393e+11  \n",
       "2986  33549.600177  33897.048590  3.872897e+10  6.354508e+11  \n",
       "2987  33854.421362  34668.548402  2.438396e+10  6.499397e+11  \n",
       "2988  34665.564866  35287.779766  2.492431e+10  6.615748e+11  \n",
       "2989  35284.344430  33746.002456  2.672155e+10  6.326962e+11  \n",
       "2990  33723.509655  34235.193451  2.650126e+10  6.418992e+11  "
      ]
     },
     "execution_count": 5,
     "metadata": {},
     "output_type": "execute_result"
    }
   ],
   "source": [
    "#Show a few of the bottom rows of the data\n",
    "csv.tail(10)"
   ]
  },
  {
   "cell_type": "code",
   "execution_count": 6,
   "metadata": {
    "extensions": {
     "jupyter_dashboards": {
      "version": 1,
      "views": {
       "grid_default": {},
       "report_default": {}
      }
     }
    }
   },
   "outputs": [
    {
     "data": {
      "text/html": [
       "<div>\n",
       "<style scoped>\n",
       "    .dataframe tbody tr th:only-of-type {\n",
       "        vertical-align: middle;\n",
       "    }\n",
       "\n",
       "    .dataframe tbody tr th {\n",
       "        vertical-align: top;\n",
       "    }\n",
       "\n",
       "    .dataframe thead th {\n",
       "        text-align: right;\n",
       "    }\n",
       "</style>\n",
       "<table border=\"1\" class=\"dataframe\">\n",
       "  <thead>\n",
       "    <tr style=\"text-align: right;\">\n",
       "      <th></th>\n",
       "      <th>SNo</th>\n",
       "      <th>High</th>\n",
       "      <th>Low</th>\n",
       "      <th>Open</th>\n",
       "      <th>Close</th>\n",
       "      <th>Volume</th>\n",
       "      <th>Marketcap</th>\n",
       "    </tr>\n",
       "  </thead>\n",
       "  <tbody>\n",
       "    <tr>\n",
       "      <th>count</th>\n",
       "      <td>2749.000000</td>\n",
       "      <td>2749.000000</td>\n",
       "      <td>2749.000000</td>\n",
       "      <td>2749.000000</td>\n",
       "      <td>2749.000000</td>\n",
       "      <td>2.749000e+03</td>\n",
       "      <td>2.749000e+03</td>\n",
       "    </tr>\n",
       "    <tr>\n",
       "      <th>mean</th>\n",
       "      <td>1617.000000</td>\n",
       "      <td>7477.294496</td>\n",
       "      <td>7036.727796</td>\n",
       "      <td>7268.361953</td>\n",
       "      <td>7280.272226</td>\n",
       "      <td>1.186644e+10</td>\n",
       "      <td>1.312580e+11</td>\n",
       "    </tr>\n",
       "    <tr>\n",
       "      <th>std</th>\n",
       "      <td>793.712269</td>\n",
       "      <td>11969.528338</td>\n",
       "      <td>11170.691310</td>\n",
       "      <td>11603.570695</td>\n",
       "      <td>11613.792111</td>\n",
       "      <td>1.941175e+10</td>\n",
       "      <td>2.169846e+11</td>\n",
       "    </tr>\n",
       "    <tr>\n",
       "      <th>min</th>\n",
       "      <td>243.000000</td>\n",
       "      <td>211.731003</td>\n",
       "      <td>171.509995</td>\n",
       "      <td>176.897003</td>\n",
       "      <td>178.102997</td>\n",
       "      <td>2.857830e+06</td>\n",
       "      <td>2.444379e+09</td>\n",
       "    </tr>\n",
       "    <tr>\n",
       "      <th>25%</th>\n",
       "      <td>930.000000</td>\n",
       "      <td>508.220001</td>\n",
       "      <td>482.951996</td>\n",
       "      <td>495.454987</td>\n",
       "      <td>495.665985</td>\n",
       "      <td>4.872260e+07</td>\n",
       "      <td>6.944861e+09</td>\n",
       "    </tr>\n",
       "    <tr>\n",
       "      <th>50%</th>\n",
       "      <td>1617.000000</td>\n",
       "      <td>3743.387971</td>\n",
       "      <td>3619.182130</td>\n",
       "      <td>3671.369989</td>\n",
       "      <td>3671.203705</td>\n",
       "      <td>2.219410e+09</td>\n",
       "      <td>6.406376e+10</td>\n",
       "    </tr>\n",
       "    <tr>\n",
       "      <th>75%</th>\n",
       "      <td>2304.000000</td>\n",
       "      <td>9164.362260</td>\n",
       "      <td>8727.089844</td>\n",
       "      <td>8912.524340</td>\n",
       "      <td>8909.953651</td>\n",
       "      <td>1.757206e+10</td>\n",
       "      <td>1.589499e+11</td>\n",
       "    </tr>\n",
       "    <tr>\n",
       "      <th>max</th>\n",
       "      <td>2991.000000</td>\n",
       "      <td>64863.098908</td>\n",
       "      <td>62208.964366</td>\n",
       "      <td>63523.754869</td>\n",
       "      <td>63503.457930</td>\n",
       "      <td>3.509679e+11</td>\n",
       "      <td>1.186364e+12</td>\n",
       "    </tr>\n",
       "  </tbody>\n",
       "</table>\n",
       "</div>"
      ],
      "text/plain": [
       "               SNo          High           Low          Open         Close  \\\n",
       "count  2749.000000   2749.000000   2749.000000   2749.000000   2749.000000   \n",
       "mean   1617.000000   7477.294496   7036.727796   7268.361953   7280.272226   \n",
       "std     793.712269  11969.528338  11170.691310  11603.570695  11613.792111   \n",
       "min     243.000000    211.731003    171.509995    176.897003    178.102997   \n",
       "25%     930.000000    508.220001    482.951996    495.454987    495.665985   \n",
       "50%    1617.000000   3743.387971   3619.182130   3671.369989   3671.203705   \n",
       "75%    2304.000000   9164.362260   8727.089844   8912.524340   8909.953651   \n",
       "max    2991.000000  64863.098908  62208.964366  63523.754869  63503.457930   \n",
       "\n",
       "             Volume     Marketcap  \n",
       "count  2.749000e+03  2.749000e+03  \n",
       "mean   1.186644e+10  1.312580e+11  \n",
       "std    1.941175e+10  2.169846e+11  \n",
       "min    2.857830e+06  2.444379e+09  \n",
       "25%    4.872260e+07  6.944861e+09  \n",
       "50%    2.219410e+09  6.406376e+10  \n",
       "75%    1.757206e+10  1.589499e+11  \n",
       "max    3.509679e+11  1.186364e+12  "
      ]
     },
     "execution_count": 6,
     "metadata": {},
     "output_type": "execute_result"
    }
   ],
   "source": [
    "#Describe the general distribution of the numeric columns\n",
    "csv.describe()"
   ]
  },
  {
   "cell_type": "code",
   "execution_count": 7,
   "metadata": {
    "extensions": {
     "jupyter_dashboards": {
      "version": 1,
      "views": {
       "grid_default": {},
       "report_default": {}
      }
     }
    }
   },
   "outputs": [
    {
     "data": {
      "text/plain": [
       "<AxesSubplot:xlabel='FormattedDate'>"
      ]
     },
     "execution_count": 7,
     "metadata": {},
     "output_type": "execute_result"
    },
    {
     "data": {
      "image/png": "[encoded data removed]",
      "text/plain": [
       "<Figure size 432x288 with 1 Axes>"
      ]
     },
     "metadata": {
      "needs_background": "light"
     },
     "output_type": "display_data"
    }
   ],
   "source": [
    "csv['FormattedDate'] = pd.to_datetime(csv['Date'])\n",
    "csv['RollingAvg7Days'] = csv['Close'].shift().rolling(window=7).mean()\n",
    "csv.plot('FormattedDate', 'Close')"
   ]
  },
  {
   "cell_type": "code",
   "execution_count": 8,
   "metadata": {
    "extensions": {
     "jupyter_dashboards": {
      "version": 1,
      "views": {
       "grid_default": {},
       "report_default": {}
      }
     }
    }
   },
   "outputs": [
    {
     "data": {
      "text/plain": [
       "<AxesSubplot:xlabel='FormattedDate'>"
      ]
     },
     "execution_count": 8,
     "metadata": {},
     "output_type": "execute_result"
    },
    {
     "data": {
      "image/png": "[encoded data removed]",
      "text/plain": [
       "<Figure size 432x288 with 1 Axes>"
      ]
     },
     "metadata": {
      "needs_background": "light"
     },
     "output_type": "display_data"
    }
   ],
   "source": [
    "csv.plot('FormattedDate', 'RollingAvg7Days')"
   ]
  },
  {
   "cell_type": "code",
   "execution_count": 9,
   "metadata": {
    "extensions": {
     "jupyter_dashboards": {
      "version": 1,
      "views": {
       "grid_default": {},
       "report_default": {}
      }
     }
    }
   },
   "outputs": [],
   "source": [
    "#Add Different Rolling Averages for Closing and Volume over time\n",
    "csv['RollingNextDay'] = csv['Close'].shift(-1).rolling(window=1).mean()\n",
    "csv['RollingAvg1Days'] = csv['Close'].shift().rolling(window=1).mean()\n",
    "csv['RollingAvg3Days'] = csv['Close'].shift().rolling(window=3).mean()\n",
    "csv['RollingAvg15Days'] = csv['Close'].shift().rolling(window=15).mean()\n",
    "csv['RollingAvg30Days'] = csv['Close'].shift().rolling(window=30).mean()\n",
    "csv['RollingAvg90Days'] = csv['Close'].shift().rolling(window=90).mean()\n",
    "csv['RollingAvg180Days'] = csv['Close'].shift().rolling(window=180).mean()\n",
    "csv['RollingAvg360Days'] = csv['Close'].shift().rolling(window=360).mean()\n",
    "\n",
    "csv['RollingVolumeAvg1Days'] = csv['Volume'].shift().rolling(window=1).mean()\n",
    "csv['RollingVolumeAvg3Days'] = csv['Volume'].shift().rolling(window=3).mean()\n",
    "csv['RollingVolumeAvg7Days'] = csv['Volume'].shift().rolling(window=7).mean()\n",
    "csv['RollingVolumeAvg15Days'] = csv['Volume'].shift().rolling(window=15).mean()\n",
    "csv['RollingVolumeAvg30Days'] = csv['Volume'].shift().rolling(window=30).mean()\n",
    "csv['RollingVolumeAvg90Days'] = csv['Volume'].shift().rolling(window=90).mean()\n",
    "csv['RollingVolumeAvg180Days'] = csv['Volume'].shift().rolling(window=180).mean()\n",
    "csv['RollingVolumeAvg360Days'] = csv['Volume'].shift().rolling(window=360).mean()\n"
   ]
  },
  {
   "cell_type": "code",
   "execution_count": 10,
   "metadata": {
    "extensions": {
     "jupyter_dashboards": {
      "version": 1,
      "views": {
       "grid_default": {},
       "report_default": {}
      }
     }
    }
   },
   "outputs": [],
   "source": [
    "#Create the day's fluctuation given recent time periods, try to standardize\n",
    "csv['NextDayFluctuation'] = (csv['RollingNextDay'] / csv['Close']) -1\n",
    "csv['Days1Fluctuation'] = (csv['Close'] / csv['RollingAvg1Days']) -1\n",
    "csv['Days3Fluctuation'] = (csv['Close'] / csv['RollingAvg3Days']) -1\n",
    "csv['Days7Fluctuation'] = (csv['Close'] / csv['RollingAvg7Days']) -1\n",
    "csv['Days15Fluctuation'] = (csv['Close'] / csv['RollingAvg15Days']) -1\n",
    "csv['Days30Fluctuation'] = (csv['Close'] / csv['RollingAvg30Days']) -1\n",
    "csv['Days90Fluctuation'] = (csv['Close'] / csv['RollingAvg90Days']) -1\n",
    "csv['Days180Fluctuation'] = (csv['Close'] / csv['RollingAvg180Days']) -1\n",
    "csv['Days360Fluctuation'] = (csv['Close'] / csv['RollingAvg360Days']) -1\n",
    "\n",
    "#Create the same for Volume numbers, try to standardize\n",
    "csv['Days1FluctuationVolume'] = (csv['Volume'] / csv['RollingVolumeAvg1Days']) -1\n",
    "csv['Days3FluctuationVolume'] = (csv['Volume'] / csv['RollingVolumeAvg3Days']) -1\n",
    "csv['Days7FluctuationVolume'] = (csv['Volume'] / csv['RollingVolumeAvg7Days']) -1\n",
    "csv['Days15FluctuationVolume'] = (csv['Volume'] / csv['RollingVolumeAvg15Days']) -1\n",
    "csv['Days30FluctuationVolume'] = (csv['Volume'] / csv['RollingVolumeAvg30Days']) -1\n",
    "csv['Days90FluctuationVolume'] = (csv['Volume'] / csv['RollingVolumeAvg90Days']) -1\n",
    "csv['Days180FluctuationVolume'] = (csv['Volume'] / csv['RollingVolumeAvg180Days']) -1\n",
    "csv['Days360FluctuationVolume'] = (csv['Volume'] / csv['RollingVolumeAvg360Days']) -1\n",
    "\n",
    "#Add a nunmber to indicate where the close is compared to low and high\n",
    "csv['CloseToHigh'] = csv['Close']/csv['High']\n",
    "csv['CloseToLow'] = csv['Close']/csv['Low']"
   ]
  },
  {
   "cell_type": "code",
   "execution_count": 11,
   "metadata": {
    "extensions": {
     "jupyter_dashboards": {
      "version": 1,
      "views": {
       "grid_default": {},
       "report_default": {}
      }
     }
    }
   },
   "outputs": [
    {
     "data": {
      "text/plain": [
       "<AxesSubplot:xlabel='FormattedDate'>"
      ]
     },
     "execution_count": 11,
     "metadata": {},
     "output_type": "execute_result"
    },
    {
     "data": {
      "image/png": "[encoded data removed]",
      "text/plain": [
       "<Figure size 432x288 with 1 Axes>"
      ]
     },
     "metadata": {
      "needs_background": "light"
     },
     "output_type": "display_data"
    }
   ],
   "source": [
    "#Plot 1 day fluctuations\n",
    "csv.plot('FormattedDate', 'NextDayFluctuation')"
   ]
  },
  {
   "cell_type": "code",
   "execution_count": 12,
   "metadata": {
    "extensions": {
     "jupyter_dashboards": {
      "version": 1,
      "views": {
       "grid_default": {},
       "report_default": {}
      }
     }
    }
   },
   "outputs": [],
   "source": [
    "#Create some flags for large increases and decreases\n",
    "csv['Over0PercentIncrease'] = csv['NextDayFluctuation'].gt(0.00)"
   ]
  },
  {
   "cell_type": "code",
   "execution_count": 13,
   "metadata": {
    "extensions": {
     "jupyter_dashboards": {
      "version": 1,
      "views": {
       "grid_default": {},
       "report_default": {}
      }
     }
    }
   },
   "outputs": [
    {
     "name": "stdout",
     "output_type": "stream",
     "text": [
      "1473\n"
     ]
    }
   ],
   "source": [
    "#See how often over 10% occurs\n",
    "print(csv['Over0PercentIncrease'].sum())\n",
    "weights_for_0 = 2.0\n",
    "weights_for_1 = 1.0"
   ]
  },
  {
   "cell_type": "code",
   "execution_count": 14,
   "metadata": {
    "extensions": {
     "jupyter_dashboards": {
      "version": 1,
      "views": {
       "grid_default": {},
       "report_default": {}
      }
     }
    }
   },
   "outputs": [
    {
     "data": {
      "text/plain": [
       "0.5358312113495817"
      ]
     },
     "execution_count": 14,
     "metadata": {},
     "output_type": "execute_result"
    }
   ],
   "source": [
    "#See how often a positive % occurs\n",
    "csv['Over0PercentIncrease'].mean()"
   ]
  },
  {
   "cell_type": "code",
   "execution_count": 15,
   "metadata": {
    "extensions": {
     "jupyter_dashboards": {
      "version": 1,
      "views": {
       "grid_default": {},
       "report_default": {}
      }
     }
    }
   },
   "outputs": [],
   "source": [
    "#Run initial model\n",
    "import tensorflow as tf\n",
    "from tensorflow import keras\n",
    "from tensorflow.keras import layers"
   ]
  },
  {
   "cell_type": "code",
   "execution_count": 16,
   "metadata": {
    "extensions": {
     "jupyter_dashboards": {
      "version": 1,
      "views": {
       "grid_default": {},
       "report_default": {}
      }
     }
    }
   },
   "outputs": [],
   "source": [
    "#Selecting columns which will go into model, only those cases with values\n",
    "csv = csv[csv.notnull().all(1)]\n",
    "y_pos = csv['Over0PercentIncrease']\n",
    "x_columns = ['Days1Fluctuation','Days3Fluctuation','Days7Fluctuation','Days15Fluctuation', \\\n",
    " 'Days30Fluctuation','Days90Fluctuation','Days180Fluctuation','Days360Fluctuation', \\\n",
    "'Days1FluctuationVolume','Days3FluctuationVolume','Days7FluctuationVolume','Days15FluctuationVolume', \\\n",
    " 'Days30FluctuationVolume','Days90FluctuationVolume','Days180FluctuationVolume','Days360FluctuationVolume', \\\n",
    "            'CloseToHigh','CloseToLow']"
   ]
  },
  {
   "cell_type": "code",
   "execution_count": 17,
   "metadata": {},
   "outputs": [
    {
     "name": "stdout",
     "output_type": "stream",
     "text": [
      "True\n",
      "[ 0.0344187   0.02789059  0.02243661 -0.02574925 -0.07012554 -0.09078958\n",
      " -0.27461166 -0.38076728  0.467365    0.11785284 -0.15453616  0.00517518\n",
      "  0.17684453 -0.08701363  0.02034756 -0.12234104  0.99332264  1.03576812]\n"
     ]
    }
   ],
   "source": [
    "#Get x dataframe with values\n",
    "x = csv[x_columns]\n",
    "\n",
    "#Set up data as numpy arrays\n",
    "y_numpy = y_pos.to_numpy()\n",
    "x_numpy = x.to_numpy()\n",
    "\n",
    "#Show some examples\n",
    "print(y_numpy[0])\n",
    "print(x_numpy[0])\n",
    "\n",
    "\n",
    "#Split data for training\n",
    "LengthOfData = len(x_numpy)\n",
    "start_split_val = int(round(0.40 * LengthOfData,0))\n",
    "split_val = int(round(0.95 * LengthOfData,0))\n",
    "x_train =  x_numpy[start_split_val:split_val]\n",
    "y_train = y_numpy[start_split_val:split_val]\n",
    "x_test = x_numpy[split_val:]\n",
    "y_test = y_numpy[split_val:]"
   ]
  },
  {
   "cell_type": "code",
   "execution_count": 21,
   "metadata": {
    "extensions": {
     "jupyter_dashboards": {
      "version": 1,
      "views": {
       "grid_default": {},
       "report_default": {}
      }
     }
    }
   },
   "outputs": [
    {
     "name": "stdout",
     "output_type": "stream",
     "text": [
      "Model: \"sequential_1\"\n",
      "_________________________________________________________________\n",
      "Layer (type)                 Output Shape              Param #   \n",
      "=================================================================\n",
      "dense_4 (Dense)              (None, 32)                608       \n",
      "_________________________________________________________________\n",
      "dropout_2 (Dropout)          (None, 32)                0         \n",
      "_________________________________________________________________\n",
      "dense_5 (Dense)              (None, 16)                528       \n",
      "_________________________________________________________________\n",
      "dropout_3 (Dropout)          (None, 16)                0         \n",
      "_________________________________________________________________\n",
      "dense_6 (Dense)              (None, 8)                 136       \n",
      "_________________________________________________________________\n",
      "dense_7 (Dense)              (None, 1)                 9         \n",
      "=================================================================\n",
      "Total params: 1,281\n",
      "Trainable params: 1,281\n",
      "Non-trainable params: 0\n",
      "_________________________________________________________________\n",
      "Epoch 1/500\n",
      "42/42 - 1s - loss: 0.7288 - binary_accuracy: 0.4855 - true_positives_2: 247.0000 - val_loss: 0.7003 - val_binary_accuracy: 0.4874 - val_true_positives_2: 57.0000\n",
      "Epoch 2/500\n",
      "42/42 - 0s - loss: 0.7167 - binary_accuracy: 0.4795 - true_positives_2: 390.0000 - val_loss: 0.6990 - val_binary_accuracy: 0.4874 - val_true_positives_2: 58.0000\n",
      "Epoch 3/500\n",
      "42/42 - 0s - loss: 0.7098 - binary_accuracy: 0.4962 - true_positives_2: 446.0000 - val_loss: 0.7002 - val_binary_accuracy: 0.4874 - val_true_positives_2: 58.0000\n",
      "Epoch 4/500\n",
      "42/42 - 0s - loss: 0.6999 - binary_accuracy: 0.4970 - true_positives_2: 482.0000 - val_loss: 0.6992 - val_binary_accuracy: 0.4874 - val_true_positives_2: 58.0000\n",
      "Epoch 5/500\n",
      "42/42 - 0s - loss: 0.7002 - binary_accuracy: 0.5236 - true_positives_2: 540.0000 - val_loss: 0.6997 - val_binary_accuracy: 0.4874 - val_true_positives_2: 58.0000\n",
      "Epoch 6/500\n",
      "42/42 - 0s - loss: 0.7025 - binary_accuracy: 0.5137 - true_positives_2: 549.0000 - val_loss: 0.6990 - val_binary_accuracy: 0.4874 - val_true_positives_2: 58.0000\n",
      "Epoch 7/500\n",
      "42/42 - 0s - loss: 0.6918 - binary_accuracy: 0.5274 - true_positives_2: 584.0000 - val_loss: 0.6989 - val_binary_accuracy: 0.4874 - val_true_positives_2: 58.0000\n",
      "Epoch 8/500\n",
      "42/42 - 0s - loss: 0.6920 - binary_accuracy: 0.5259 - true_positives_2: 595.0000 - val_loss: 0.6998 - val_binary_accuracy: 0.4874 - val_true_positives_2: 58.0000\n",
      "Epoch 9/500\n",
      "42/42 - 0s - loss: 0.6947 - binary_accuracy: 0.5350 - true_positives_2: 633.0000 - val_loss: 0.7006 - val_binary_accuracy: 0.4874 - val_true_positives_2: 58.0000\n",
      "Epoch 10/500\n",
      "42/42 - 0s - loss: 0.6960 - binary_accuracy: 0.5373 - true_positives_2: 653.0000 - val_loss: 0.6998 - val_binary_accuracy: 0.4874 - val_true_positives_2: 58.0000\n",
      "Epoch 11/500\n",
      "42/42 - 0s - loss: 0.6960 - binary_accuracy: 0.5244 - true_positives_2: 645.0000 - val_loss: 0.6983 - val_binary_accuracy: 0.4874 - val_true_positives_2: 58.0000\n",
      "Epoch 12/500\n",
      "42/42 - 0s - loss: 0.6989 - binary_accuracy: 0.5289 - true_positives_2: 662.0000 - val_loss: 0.6979 - val_binary_accuracy: 0.4874 - val_true_positives_2: 58.0000\n",
      "Epoch 13/500\n",
      "42/42 - 0s - loss: 0.6936 - binary_accuracy: 0.5297 - true_positives_2: 675.0000 - val_loss: 0.6978 - val_binary_accuracy: 0.4874 - val_true_positives_2: 58.0000\n",
      "Epoch 14/500\n",
      "42/42 - 0s - loss: 0.6901 - binary_accuracy: 0.5403 - true_positives_2: 688.0000 - val_loss: 0.6981 - val_binary_accuracy: 0.4874 - val_true_positives_2: 58.0000\n",
      "Epoch 15/500\n",
      "42/42 - 0s - loss: 0.6929 - binary_accuracy: 0.5373 - true_positives_2: 690.0000 - val_loss: 0.6984 - val_binary_accuracy: 0.4874 - val_true_positives_2: 58.0000\n",
      "Epoch 16/500\n",
      "42/42 - 0s - loss: 0.6903 - binary_accuracy: 0.5419 - true_positives_2: 693.0000 - val_loss: 0.6978 - val_binary_accuracy: 0.4874 - val_true_positives_2: 58.0000\n",
      "Epoch 17/500\n",
      "42/42 - 0s - loss: 0.6904 - binary_accuracy: 0.5373 - true_positives_2: 692.0000 - val_loss: 0.6979 - val_binary_accuracy: 0.4874 - val_true_positives_2: 58.0000\n",
      "Epoch 18/500\n",
      "42/42 - 0s - loss: 0.6911 - binary_accuracy: 0.5381 - true_positives_2: 696.0000 - val_loss: 0.6976 - val_binary_accuracy: 0.4874 - val_true_positives_2: 58.0000\n",
      "Epoch 19/500\n",
      "42/42 - 0s - loss: 0.6903 - binary_accuracy: 0.5411 - true_positives_2: 695.0000 - val_loss: 0.6977 - val_binary_accuracy: 0.4874 - val_true_positives_2: 58.0000\n",
      "Epoch 20/500\n",
      "42/42 - 0s - loss: 0.6921 - binary_accuracy: 0.5312 - true_positives_2: 682.0000 - val_loss: 0.6969 - val_binary_accuracy: 0.4874 - val_true_positives_2: 58.0000\n",
      "Epoch 21/500\n",
      "42/42 - 0s - loss: 0.6904 - binary_accuracy: 0.5426 - true_positives_2: 699.0000 - val_loss: 0.6968 - val_binary_accuracy: 0.4874 - val_true_positives_2: 58.0000\n",
      "Epoch 22/500\n",
      "42/42 - 0s - loss: 0.6904 - binary_accuracy: 0.5373 - true_positives_2: 689.0000 - val_loss: 0.6969 - val_binary_accuracy: 0.4874 - val_true_positives_2: 58.0000\n",
      "Epoch 23/500\n",
      "42/42 - 0s - loss: 0.6893 - binary_accuracy: 0.5419 - true_positives_2: 699.0000 - val_loss: 0.6973 - val_binary_accuracy: 0.4874 - val_true_positives_2: 58.0000\n",
      "Epoch 24/500\n",
      "42/42 - 0s - loss: 0.6919 - binary_accuracy: 0.5350 - true_positives_2: 699.0000 - val_loss: 0.6974 - val_binary_accuracy: 0.4874 - val_true_positives_2: 58.0000\n",
      "Epoch 25/500\n",
      "42/42 - 0s - loss: 0.6913 - binary_accuracy: 0.5259 - true_positives_2: 685.0000 - val_loss: 0.6971 - val_binary_accuracy: 0.4874 - val_true_positives_2: 58.0000\n",
      "Epoch 26/500\n",
      "42/42 - 0s - loss: 0.6920 - binary_accuracy: 0.5411 - true_positives_2: 703.0000 - val_loss: 0.6979 - val_binary_accuracy: 0.4874 - val_true_positives_2: 58.0000\n",
      "Epoch 27/500\n",
      "42/42 - 0s - loss: 0.6901 - binary_accuracy: 0.5411 - true_positives_2: 703.0000 - val_loss: 0.6972 - val_binary_accuracy: 0.4874 - val_true_positives_2: 58.0000\n",
      "Epoch 28/500\n",
      "42/42 - 0s - loss: 0.6905 - binary_accuracy: 0.5381 - true_positives_2: 702.0000 - val_loss: 0.6976 - val_binary_accuracy: 0.4874 - val_true_positives_2: 58.0000\n",
      "Epoch 29/500\n",
      "42/42 - 0s - loss: 0.6901 - binary_accuracy: 0.5373 - true_positives_2: 703.0000 - val_loss: 0.6975 - val_binary_accuracy: 0.4874 - val_true_positives_2: 58.0000\n",
      "Epoch 30/500\n",
      "42/42 - 0s - loss: 0.6904 - binary_accuracy: 0.5396 - true_positives_2: 703.0000 - val_loss: 0.6970 - val_binary_accuracy: 0.4874 - val_true_positives_2: 58.0000\n",
      "Epoch 31/500\n",
      "42/42 - 0s - loss: 0.6913 - binary_accuracy: 0.5381 - true_positives_2: 701.0000 - val_loss: 0.6968 - val_binary_accuracy: 0.4874 - val_true_positives_2: 58.0000\n",
      "Epoch 32/500\n",
      "42/42 - 0s - loss: 0.6904 - binary_accuracy: 0.5419 - true_positives_2: 707.0000 - val_loss: 0.6969 - val_binary_accuracy: 0.4874 - val_true_positives_2: 58.0000\n",
      "Epoch 33/500\n",
      "42/42 - 0s - loss: 0.6902 - binary_accuracy: 0.5381 - true_positives_2: 703.0000 - val_loss: 0.6968 - val_binary_accuracy: 0.4874 - val_true_positives_2: 58.0000\n",
      "Epoch 34/500\n",
      "42/42 - 0s - loss: 0.6892 - binary_accuracy: 0.5388 - true_positives_2: 706.0000 - val_loss: 0.6966 - val_binary_accuracy: 0.4874 - val_true_positives_2: 58.0000\n",
      "Epoch 35/500\n",
      "42/42 - 0s - loss: 0.6920 - binary_accuracy: 0.5381 - true_positives_2: 705.0000 - val_loss: 0.6966 - val_binary_accuracy: 0.4874 - val_true_positives_2: 58.0000\n",
      "Epoch 36/500\n",
      "42/42 - 0s - loss: 0.6898 - binary_accuracy: 0.5403 - true_positives_2: 704.0000 - val_loss: 0.6962 - val_binary_accuracy: 0.4874 - val_true_positives_2: 58.0000\n",
      "Epoch 37/500\n",
      "42/42 - 0s - loss: 0.6901 - binary_accuracy: 0.5396 - true_positives_2: 703.0000 - val_loss: 0.6963 - val_binary_accuracy: 0.4874 - val_true_positives_2: 58.0000\n",
      "Epoch 38/500\n",
      "42/42 - 0s - loss: 0.6908 - binary_accuracy: 0.5381 - true_positives_2: 706.0000 - val_loss: 0.6961 - val_binary_accuracy: 0.4874 - val_true_positives_2: 58.0000\n",
      "Epoch 39/500\n",
      "42/42 - 0s - loss: 0.6893 - binary_accuracy: 0.5388 - true_positives_2: 706.0000 - val_loss: 0.6960 - val_binary_accuracy: 0.4874 - val_true_positives_2: 58.0000\n",
      "Epoch 40/500\n",
      "42/42 - 0s - loss: 0.6888 - binary_accuracy: 0.5403 - true_positives_2: 708.0000 - val_loss: 0.6960 - val_binary_accuracy: 0.4874 - val_true_positives_2: 58.0000\n",
      "Epoch 41/500\n",
      "42/42 - 0s - loss: 0.6907 - binary_accuracy: 0.5388 - true_positives_2: 707.0000 - val_loss: 0.6961 - val_binary_accuracy: 0.4874 - val_true_positives_2: 58.0000\n"
     ]
    },
    {
     "name": "stdout",
     "output_type": "stream",
     "text": [
      "Epoch 42/500\n",
      "42/42 - 0s - loss: 0.6899 - binary_accuracy: 0.5381 - true_positives_2: 704.0000 - val_loss: 0.6959 - val_binary_accuracy: 0.4874 - val_true_positives_2: 58.0000\n",
      "Epoch 43/500\n",
      "42/42 - 0s - loss: 0.6899 - binary_accuracy: 0.5396 - true_positives_2: 705.0000 - val_loss: 0.6961 - val_binary_accuracy: 0.4874 - val_true_positives_2: 58.0000\n",
      "Epoch 44/500\n",
      "42/42 - 0s - loss: 0.6883 - binary_accuracy: 0.5388 - true_positives_2: 704.0000 - val_loss: 0.6963 - val_binary_accuracy: 0.4874 - val_true_positives_2: 58.0000\n",
      "Epoch 45/500\n",
      "42/42 - 0s - loss: 0.6908 - binary_accuracy: 0.5381 - true_positives_2: 702.0000 - val_loss: 0.6959 - val_binary_accuracy: 0.4874 - val_true_positives_2: 58.0000\n",
      "Epoch 46/500\n",
      "42/42 - 0s - loss: 0.6907 - binary_accuracy: 0.5365 - true_positives_2: 701.0000 - val_loss: 0.6960 - val_binary_accuracy: 0.4874 - val_true_positives_2: 58.0000\n",
      "Epoch 47/500\n",
      "42/42 - 0s - loss: 0.6891 - binary_accuracy: 0.5388 - true_positives_2: 704.0000 - val_loss: 0.6959 - val_binary_accuracy: 0.4874 - val_true_positives_2: 58.0000\n",
      "Epoch 48/500\n",
      "42/42 - 0s - loss: 0.6927 - binary_accuracy: 0.5365 - true_positives_2: 702.0000 - val_loss: 0.6959 - val_binary_accuracy: 0.4874 - val_true_positives_2: 58.0000\n",
      "Epoch 49/500\n",
      "42/42 - 0s - loss: 0.6892 - binary_accuracy: 0.5373 - true_positives_2: 701.0000 - val_loss: 0.6957 - val_binary_accuracy: 0.4874 - val_true_positives_2: 58.0000\n",
      "Epoch 50/500\n",
      "42/42 - 0s - loss: 0.6892 - binary_accuracy: 0.5411 - true_positives_2: 705.0000 - val_loss: 0.6959 - val_binary_accuracy: 0.4874 - val_true_positives_2: 58.0000\n",
      "Epoch 51/500\n",
      "42/42 - 0s - loss: 0.6896 - binary_accuracy: 0.5358 - true_positives_2: 703.0000 - val_loss: 0.6964 - val_binary_accuracy: 0.4874 - val_true_positives_2: 58.0000\n",
      "Epoch 52/500\n",
      "42/42 - 0s - loss: 0.6910 - binary_accuracy: 0.5381 - true_positives_2: 706.0000 - val_loss: 0.6967 - val_binary_accuracy: 0.4874 - val_true_positives_2: 58.0000\n",
      "Epoch 53/500\n",
      "42/42 - 0s - loss: 0.6889 - binary_accuracy: 0.5403 - true_positives_2: 706.0000 - val_loss: 0.6962 - val_binary_accuracy: 0.4874 - val_true_positives_2: 58.0000\n",
      "Epoch 54/500\n",
      "42/42 - 0s - loss: 0.6912 - binary_accuracy: 0.5373 - true_positives_2: 700.0000 - val_loss: 0.6960 - val_binary_accuracy: 0.4874 - val_true_positives_2: 58.0000\n",
      "Epoch 55/500\n",
      "42/42 - 0s - loss: 0.6895 - binary_accuracy: 0.5434 - true_positives_2: 705.0000 - val_loss: 0.6962 - val_binary_accuracy: 0.4874 - val_true_positives_2: 58.0000\n",
      "Epoch 56/500\n",
      "42/42 - 0s - loss: 0.6875 - binary_accuracy: 0.5396 - true_positives_2: 703.0000 - val_loss: 0.6964 - val_binary_accuracy: 0.4874 - val_true_positives_2: 58.0000\n",
      "Epoch 57/500\n",
      "42/42 - 0s - loss: 0.6898 - binary_accuracy: 0.5396 - true_positives_2: 706.0000 - val_loss: 0.6965 - val_binary_accuracy: 0.4874 - val_true_positives_2: 58.0000\n",
      "Epoch 58/500\n",
      "42/42 - 0s - loss: 0.6905 - binary_accuracy: 0.5403 - true_positives_2: 708.0000 - val_loss: 0.6967 - val_binary_accuracy: 0.4874 - val_true_positives_2: 58.0000\n",
      "Epoch 59/500\n",
      "42/42 - 0s - loss: 0.6901 - binary_accuracy: 0.5403 - true_positives_2: 707.0000 - val_loss: 0.6965 - val_binary_accuracy: 0.4874 - val_true_positives_2: 58.0000\n",
      "Epoch 60/500\n",
      "42/42 - 0s - loss: 0.6914 - binary_accuracy: 0.5388 - true_positives_2: 708.0000 - val_loss: 0.6966 - val_binary_accuracy: 0.4874 - val_true_positives_2: 58.0000\n",
      "Epoch 61/500\n",
      "42/42 - 0s - loss: 0.6886 - binary_accuracy: 0.5411 - true_positives_2: 707.0000 - val_loss: 0.6964 - val_binary_accuracy: 0.4874 - val_true_positives_2: 58.0000\n",
      "Epoch 62/500\n",
      "42/42 - 0s - loss: 0.6897 - binary_accuracy: 0.5365 - true_positives_2: 702.0000 - val_loss: 0.6968 - val_binary_accuracy: 0.4874 - val_true_positives_2: 58.0000\n",
      "Epoch 63/500\n",
      "42/42 - 0s - loss: 0.6909 - binary_accuracy: 0.5411 - true_positives_2: 707.0000 - val_loss: 0.6970 - val_binary_accuracy: 0.4874 - val_true_positives_2: 58.0000\n",
      "Epoch 64/500\n",
      "42/42 - 0s - loss: 0.6908 - binary_accuracy: 0.5388 - true_positives_2: 705.0000 - val_loss: 0.6965 - val_binary_accuracy: 0.4874 - val_true_positives_2: 58.0000\n",
      "Epoch 65/500\n",
      "42/42 - 0s - loss: 0.6904 - binary_accuracy: 0.5388 - true_positives_2: 701.0000 - val_loss: 0.6965 - val_binary_accuracy: 0.4874 - val_true_positives_2: 58.0000\n",
      "Epoch 66/500\n",
      "42/42 - 0s - loss: 0.6900 - binary_accuracy: 0.5419 - true_positives_2: 703.0000 - val_loss: 0.6969 - val_binary_accuracy: 0.4874 - val_true_positives_2: 58.0000\n",
      "Epoch 67/500\n",
      "42/42 - 0s - loss: 0.6887 - binary_accuracy: 0.5388 - true_positives_2: 703.0000 - val_loss: 0.6972 - val_binary_accuracy: 0.4874 - val_true_positives_2: 58.0000\n",
      "Epoch 68/500\n",
      "42/42 - 0s - loss: 0.6905 - binary_accuracy: 0.5396 - true_positives_2: 707.0000 - val_loss: 0.6970 - val_binary_accuracy: 0.4874 - val_true_positives_2: 58.0000\n",
      "Epoch 69/500\n",
      "42/42 - 0s - loss: 0.6898 - binary_accuracy: 0.5388 - true_positives_2: 707.0000 - val_loss: 0.6967 - val_binary_accuracy: 0.4874 - val_true_positives_2: 58.0000\n",
      "Epoch 70/500\n",
      "42/42 - 0s - loss: 0.6898 - binary_accuracy: 0.5396 - true_positives_2: 708.0000 - val_loss: 0.6964 - val_binary_accuracy: 0.4874 - val_true_positives_2: 58.0000\n",
      "Epoch 71/500\n",
      "42/42 - 0s - loss: 0.6907 - binary_accuracy: 0.5396 - true_positives_2: 708.0000 - val_loss: 0.6968 - val_binary_accuracy: 0.4874 - val_true_positives_2: 58.0000\n",
      "Epoch 72/500\n",
      "42/42 - 0s - loss: 0.6907 - binary_accuracy: 0.5365 - true_positives_2: 704.0000 - val_loss: 0.6969 - val_binary_accuracy: 0.4874 - val_true_positives_2: 58.0000\n",
      "Epoch 73/500\n",
      "42/42 - 0s - loss: 0.6905 - binary_accuracy: 0.5396 - true_positives_2: 706.0000 - val_loss: 0.6966 - val_binary_accuracy: 0.4874 - val_true_positives_2: 58.0000\n",
      "Epoch 74/500\n",
      "42/42 - 0s - loss: 0.6897 - binary_accuracy: 0.5396 - true_positives_2: 705.0000 - val_loss: 0.6970 - val_binary_accuracy: 0.4874 - val_true_positives_2: 58.0000\n",
      "Epoch 75/500\n",
      "42/42 - 0s - loss: 0.6901 - binary_accuracy: 0.5358 - true_positives_2: 702.0000 - val_loss: 0.6974 - val_binary_accuracy: 0.4874 - val_true_positives_2: 58.0000\n",
      "Epoch 76/500\n",
      "42/42 - 0s - loss: 0.6906 - binary_accuracy: 0.5373 - true_positives_2: 704.0000 - val_loss: 0.6974 - val_binary_accuracy: 0.4874 - val_true_positives_2: 58.0000\n",
      "Epoch 77/500\n",
      "42/42 - 0s - loss: 0.6889 - binary_accuracy: 0.5388 - true_positives_2: 707.0000 - val_loss: 0.6977 - val_binary_accuracy: 0.4874 - val_true_positives_2: 58.0000\n",
      "Epoch 78/500\n",
      "42/42 - 0s - loss: 0.6898 - binary_accuracy: 0.5381 - true_positives_2: 707.0000 - val_loss: 0.6973 - val_binary_accuracy: 0.4874 - val_true_positives_2: 58.0000\n",
      "Epoch 79/500\n",
      "42/42 - 0s - loss: 0.6887 - binary_accuracy: 0.5396 - true_positives_2: 708.0000 - val_loss: 0.6975 - val_binary_accuracy: 0.4874 - val_true_positives_2: 58.0000\n",
      "Epoch 80/500\n",
      "42/42 - 0s - loss: 0.6895 - binary_accuracy: 0.5403 - true_positives_2: 709.0000 - val_loss: 0.6976 - val_binary_accuracy: 0.4874 - val_true_positives_2: 58.0000\n",
      "Epoch 81/500\n",
      "42/42 - 0s - loss: 0.6881 - binary_accuracy: 0.5403 - true_positives_2: 709.0000 - val_loss: 0.6974 - val_binary_accuracy: 0.4874 - val_true_positives_2: 58.0000\n",
      "Epoch 82/500\n",
      "42/42 - 0s - loss: 0.6887 - binary_accuracy: 0.5396 - true_positives_2: 708.0000 - val_loss: 0.6980 - val_binary_accuracy: 0.4874 - val_true_positives_2: 58.0000\n",
      "Epoch 83/500\n",
      "42/42 - 0s - loss: 0.6895 - binary_accuracy: 0.5388 - true_positives_2: 706.0000 - val_loss: 0.6976 - val_binary_accuracy: 0.4874 - val_true_positives_2: 58.0000\n",
      "Epoch 84/500\n",
      "42/42 - 0s - loss: 0.6889 - binary_accuracy: 0.5381 - true_positives_2: 707.0000 - val_loss: 0.6970 - val_binary_accuracy: 0.4874 - val_true_positives_2: 58.0000\n",
      "Epoch 85/500\n",
      "42/42 - 0s - loss: 0.6889 - binary_accuracy: 0.5403 - true_positives_2: 708.0000 - val_loss: 0.6967 - val_binary_accuracy: 0.4874 - val_true_positives_2: 58.0000\n",
      "Epoch 86/500\n",
      "42/42 - 0s - loss: 0.6911 - binary_accuracy: 0.5388 - true_positives_2: 708.0000 - val_loss: 0.6960 - val_binary_accuracy: 0.4874 - val_true_positives_2: 58.0000\n",
      "Epoch 87/500\n",
      "42/42 - 0s - loss: 0.6891 - binary_accuracy: 0.5396 - true_positives_2: 708.0000 - val_loss: 0.6967 - val_binary_accuracy: 0.4874 - val_true_positives_2: 58.0000\n",
      "Epoch 88/500\n",
      "42/42 - 0s - loss: 0.6896 - binary_accuracy: 0.5411 - true_positives_2: 709.0000 - val_loss: 0.6968 - val_binary_accuracy: 0.4874 - val_true_positives_2: 58.0000\n"
     ]
    },
    {
     "name": "stdout",
     "output_type": "stream",
     "text": [
      "Epoch 89/500\n",
      "42/42 - 0s - loss: 0.6889 - binary_accuracy: 0.5403 - true_positives_2: 709.0000 - val_loss: 0.6965 - val_binary_accuracy: 0.4874 - val_true_positives_2: 58.0000\n",
      "Epoch 90/500\n",
      "42/42 - 0s - loss: 0.6891 - binary_accuracy: 0.5396 - true_positives_2: 709.0000 - val_loss: 0.6971 - val_binary_accuracy: 0.4874 - val_true_positives_2: 58.0000\n",
      "Epoch 91/500\n",
      "42/42 - 0s - loss: 0.6892 - binary_accuracy: 0.5388 - true_positives_2: 708.0000 - val_loss: 0.6969 - val_binary_accuracy: 0.4874 - val_true_positives_2: 58.0000\n",
      "Epoch 92/500\n",
      "42/42 - 0s - loss: 0.6893 - binary_accuracy: 0.5403 - true_positives_2: 709.0000 - val_loss: 0.6972 - val_binary_accuracy: 0.4874 - val_true_positives_2: 58.0000\n",
      "Epoch 93/500\n",
      "42/42 - 0s - loss: 0.6876 - binary_accuracy: 0.5396 - true_positives_2: 709.0000 - val_loss: 0.6965 - val_binary_accuracy: 0.4874 - val_true_positives_2: 58.0000\n",
      "Epoch 94/500\n",
      "42/42 - 0s - loss: 0.6896 - binary_accuracy: 0.5396 - true_positives_2: 709.0000 - val_loss: 0.6968 - val_binary_accuracy: 0.4874 - val_true_positives_2: 58.0000\n",
      "Epoch 95/500\n",
      "42/42 - 0s - loss: 0.6898 - binary_accuracy: 0.5396 - true_positives_2: 709.0000 - val_loss: 0.6969 - val_binary_accuracy: 0.4874 - val_true_positives_2: 58.0000\n",
      "Epoch 96/500\n",
      "42/42 - 0s - loss: 0.6891 - binary_accuracy: 0.5403 - true_positives_2: 709.0000 - val_loss: 0.6966 - val_binary_accuracy: 0.4874 - val_true_positives_2: 58.0000\n",
      "Epoch 97/500\n",
      "42/42 - 0s - loss: 0.6890 - binary_accuracy: 0.5396 - true_positives_2: 709.0000 - val_loss: 0.6967 - val_binary_accuracy: 0.4874 - val_true_positives_2: 58.0000\n",
      "Epoch 98/500\n",
      "42/42 - 0s - loss: 0.6900 - binary_accuracy: 0.5396 - true_positives_2: 709.0000 - val_loss: 0.6970 - val_binary_accuracy: 0.4874 - val_true_positives_2: 58.0000\n",
      "Epoch 99/500\n",
      "42/42 - 0s - loss: 0.6886 - binary_accuracy: 0.5396 - true_positives_2: 709.0000 - val_loss: 0.6965 - val_binary_accuracy: 0.4874 - val_true_positives_2: 58.0000\n",
      "Epoch 100/500\n",
      "42/42 - 0s - loss: 0.6880 - binary_accuracy: 0.5396 - true_positives_2: 709.0000 - val_loss: 0.6964 - val_binary_accuracy: 0.4874 - val_true_positives_2: 58.0000\n",
      "Epoch 101/500\n",
      "42/42 - 0s - loss: 0.6893 - binary_accuracy: 0.5396 - true_positives_2: 709.0000 - val_loss: 0.6965 - val_binary_accuracy: 0.4874 - val_true_positives_2: 58.0000\n",
      "Epoch 102/500\n",
      "42/42 - 0s - loss: 0.6893 - binary_accuracy: 0.5403 - true_positives_2: 709.0000 - val_loss: 0.6965 - val_binary_accuracy: 0.4874 - val_true_positives_2: 58.0000\n",
      "Epoch 103/500\n",
      "42/42 - 0s - loss: 0.6884 - binary_accuracy: 0.5396 - true_positives_2: 708.0000 - val_loss: 0.6961 - val_binary_accuracy: 0.4874 - val_true_positives_2: 58.0000\n",
      "Epoch 104/500\n",
      "42/42 - 0s - loss: 0.6898 - binary_accuracy: 0.5403 - true_positives_2: 709.0000 - val_loss: 0.6962 - val_binary_accuracy: 0.4874 - val_true_positives_2: 58.0000\n",
      "Epoch 105/500\n",
      "42/42 - 0s - loss: 0.6881 - binary_accuracy: 0.5403 - true_positives_2: 708.0000 - val_loss: 0.6960 - val_binary_accuracy: 0.4874 - val_true_positives_2: 58.0000\n",
      "Epoch 106/500\n",
      "42/42 - 0s - loss: 0.6893 - binary_accuracy: 0.5396 - true_positives_2: 705.0000 - val_loss: 0.6955 - val_binary_accuracy: 0.4874 - val_true_positives_2: 58.0000\n",
      "Epoch 107/500\n",
      "42/42 - 0s - loss: 0.6885 - binary_accuracy: 0.5388 - true_positives_2: 705.0000 - val_loss: 0.6953 - val_binary_accuracy: 0.4874 - val_true_positives_2: 58.0000\n",
      "Epoch 108/500\n",
      "42/42 - 0s - loss: 0.6880 - binary_accuracy: 0.5388 - true_positives_2: 704.0000 - val_loss: 0.6956 - val_binary_accuracy: 0.4874 - val_true_positives_2: 58.0000\n",
      "Epoch 109/500\n",
      "42/42 - 0s - loss: 0.6905 - binary_accuracy: 0.5396 - true_positives_2: 706.0000 - val_loss: 0.6958 - val_binary_accuracy: 0.4874 - val_true_positives_2: 58.0000\n",
      "Epoch 110/500\n",
      "42/42 - 0s - loss: 0.6907 - binary_accuracy: 0.5350 - true_positives_2: 703.0000 - val_loss: 0.6958 - val_binary_accuracy: 0.4874 - val_true_positives_2: 58.0000\n",
      "Epoch 111/500\n",
      "42/42 - 0s - loss: 0.6894 - binary_accuracy: 0.5396 - true_positives_2: 709.0000 - val_loss: 0.6956 - val_binary_accuracy: 0.4874 - val_true_positives_2: 58.0000\n",
      "Epoch 112/500\n",
      "42/42 - 0s - loss: 0.6870 - binary_accuracy: 0.5396 - true_positives_2: 709.0000 - val_loss: 0.6960 - val_binary_accuracy: 0.4874 - val_true_positives_2: 58.0000\n",
      "Epoch 113/500\n",
      "42/42 - 0s - loss: 0.6892 - binary_accuracy: 0.5396 - true_positives_2: 709.0000 - val_loss: 0.6958 - val_binary_accuracy: 0.4874 - val_true_positives_2: 58.0000\n",
      "Epoch 114/500\n",
      "42/42 - 0s - loss: 0.6877 - binary_accuracy: 0.5396 - true_positives_2: 709.0000 - val_loss: 0.6958 - val_binary_accuracy: 0.4874 - val_true_positives_2: 58.0000\n",
      "Epoch 115/500\n",
      "42/42 - 0s - loss: 0.6900 - binary_accuracy: 0.5396 - true_positives_2: 709.0000 - val_loss: 0.6947 - val_binary_accuracy: 0.4874 - val_true_positives_2: 58.0000\n",
      "Epoch 116/500\n",
      "42/42 - 0s - loss: 0.6876 - binary_accuracy: 0.5396 - true_positives_2: 709.0000 - val_loss: 0.6947 - val_binary_accuracy: 0.4874 - val_true_positives_2: 58.0000\n",
      "Epoch 117/500\n",
      "42/42 - 0s - loss: 0.6879 - binary_accuracy: 0.5396 - true_positives_2: 707.0000 - val_loss: 0.6953 - val_binary_accuracy: 0.4874 - val_true_positives_2: 58.0000\n",
      "Epoch 118/500\n",
      "42/42 - 0s - loss: 0.6891 - binary_accuracy: 0.5396 - true_positives_2: 709.0000 - val_loss: 0.6957 - val_binary_accuracy: 0.4874 - val_true_positives_2: 58.0000\n",
      "Epoch 119/500\n",
      "42/42 - 0s - loss: 0.6875 - binary_accuracy: 0.5403 - true_positives_2: 709.0000 - val_loss: 0.6959 - val_binary_accuracy: 0.4874 - val_true_positives_2: 58.0000\n",
      "Epoch 120/500\n",
      "42/42 - 0s - loss: 0.6868 - binary_accuracy: 0.5403 - true_positives_2: 708.0000 - val_loss: 0.6957 - val_binary_accuracy: 0.4874 - val_true_positives_2: 58.0000\n",
      "Epoch 121/500\n",
      "42/42 - 0s - loss: 0.6891 - binary_accuracy: 0.5403 - true_positives_2: 709.0000 - val_loss: 0.6957 - val_binary_accuracy: 0.4874 - val_true_positives_2: 58.0000\n",
      "Epoch 122/500\n",
      "42/42 - 0s - loss: 0.6889 - binary_accuracy: 0.5396 - true_positives_2: 709.0000 - val_loss: 0.6957 - val_binary_accuracy: 0.4874 - val_true_positives_2: 58.0000\n",
      "Epoch 123/500\n",
      "42/42 - 0s - loss: 0.6915 - binary_accuracy: 0.5388 - true_positives_2: 708.0000 - val_loss: 0.6957 - val_binary_accuracy: 0.4874 - val_true_positives_2: 58.0000\n",
      "Epoch 124/500\n",
      "42/42 - 0s - loss: 0.6867 - binary_accuracy: 0.5403 - true_positives_2: 709.0000 - val_loss: 0.6957 - val_binary_accuracy: 0.4874 - val_true_positives_2: 58.0000\n",
      "Epoch 125/500\n",
      "42/42 - 0s - loss: 0.6896 - binary_accuracy: 0.5403 - true_positives_2: 708.0000 - val_loss: 0.6961 - val_binary_accuracy: 0.4874 - val_true_positives_2: 58.0000\n",
      "Epoch 126/500\n",
      "42/42 - 0s - loss: 0.6874 - binary_accuracy: 0.5396 - true_positives_2: 709.0000 - val_loss: 0.6958 - val_binary_accuracy: 0.4874 - val_true_positives_2: 58.0000\n",
      "Epoch 127/500\n",
      "42/42 - 0s - loss: 0.6876 - binary_accuracy: 0.5396 - true_positives_2: 708.0000 - val_loss: 0.6961 - val_binary_accuracy: 0.4874 - val_true_positives_2: 58.0000\n",
      "Epoch 128/500\n",
      "42/42 - 0s - loss: 0.6860 - binary_accuracy: 0.5396 - true_positives_2: 709.0000 - val_loss: 0.6967 - val_binary_accuracy: 0.4874 - val_true_positives_2: 58.0000\n",
      "Epoch 129/500\n",
      "42/42 - 0s - loss: 0.6853 - binary_accuracy: 0.5403 - true_positives_2: 708.0000 - val_loss: 0.6967 - val_binary_accuracy: 0.4874 - val_true_positives_2: 58.0000\n",
      "Epoch 130/500\n",
      "42/42 - 0s - loss: 0.6904 - binary_accuracy: 0.5396 - true_positives_2: 707.0000 - val_loss: 0.6956 - val_binary_accuracy: 0.4874 - val_true_positives_2: 58.0000\n",
      "Epoch 131/500\n",
      "42/42 - 0s - loss: 0.6881 - binary_accuracy: 0.5381 - true_positives_2: 707.0000 - val_loss: 0.6953 - val_binary_accuracy: 0.4874 - val_true_positives_2: 58.0000\n",
      "Epoch 132/500\n",
      "42/42 - 0s - loss: 0.6868 - binary_accuracy: 0.5411 - true_positives_2: 707.0000 - val_loss: 0.6953 - val_binary_accuracy: 0.4874 - val_true_positives_2: 58.0000\n",
      "Epoch 133/500\n",
      "42/42 - 0s - loss: 0.6888 - binary_accuracy: 0.5388 - true_positives_2: 708.0000 - val_loss: 0.6952 - val_binary_accuracy: 0.4874 - val_true_positives_2: 58.0000\n",
      "Epoch 134/500\n",
      "42/42 - 0s - loss: 0.6873 - binary_accuracy: 0.5396 - true_positives_2: 707.0000 - val_loss: 0.6950 - val_binary_accuracy: 0.4874 - val_true_positives_2: 58.0000\n",
      "Epoch 135/500\n",
      "42/42 - 0s - loss: 0.6878 - binary_accuracy: 0.5411 - true_positives_2: 709.0000 - val_loss: 0.6956 - val_binary_accuracy: 0.4874 - val_true_positives_2: 58.0000\n"
     ]
    },
    {
     "name": "stdout",
     "output_type": "stream",
     "text": [
      "Epoch 136/500\n",
      "42/42 - 0s - loss: 0.6860 - binary_accuracy: 0.5381 - true_positives_2: 706.0000 - val_loss: 0.6953 - val_binary_accuracy: 0.4874 - val_true_positives_2: 58.0000\n",
      "Epoch 137/500\n",
      "42/42 - 0s - loss: 0.6866 - binary_accuracy: 0.5434 - true_positives_2: 709.0000 - val_loss: 0.6944 - val_binary_accuracy: 0.4874 - val_true_positives_2: 58.0000\n",
      "Epoch 138/500\n",
      "42/42 - 0s - loss: 0.6884 - binary_accuracy: 0.5396 - true_positives_2: 707.0000 - val_loss: 0.6944 - val_binary_accuracy: 0.4874 - val_true_positives_2: 58.0000\n",
      "Epoch 139/500\n",
      "42/42 - 0s - loss: 0.6853 - binary_accuracy: 0.5403 - true_positives_2: 708.0000 - val_loss: 0.6942 - val_binary_accuracy: 0.4874 - val_true_positives_2: 58.0000\n",
      "Epoch 140/500\n",
      "42/42 - 0s - loss: 0.6903 - binary_accuracy: 0.5396 - true_positives_2: 709.0000 - val_loss: 0.6945 - val_binary_accuracy: 0.4874 - val_true_positives_2: 58.0000\n",
      "Epoch 141/500\n",
      "42/42 - 0s - loss: 0.6863 - binary_accuracy: 0.5388 - true_positives_2: 707.0000 - val_loss: 0.6952 - val_binary_accuracy: 0.4874 - val_true_positives_2: 58.0000\n",
      "Epoch 142/500\n",
      "42/42 - 0s - loss: 0.6873 - binary_accuracy: 0.5411 - true_positives_2: 709.0000 - val_loss: 0.6940 - val_binary_accuracy: 0.4874 - val_true_positives_2: 58.0000\n",
      "Epoch 143/500\n",
      "42/42 - 0s - loss: 0.6886 - binary_accuracy: 0.5388 - true_positives_2: 708.0000 - val_loss: 0.6937 - val_binary_accuracy: 0.4874 - val_true_positives_2: 58.0000\n",
      "Epoch 144/500\n",
      "42/42 - 0s - loss: 0.6877 - binary_accuracy: 0.5403 - true_positives_2: 708.0000 - val_loss: 0.6938 - val_binary_accuracy: 0.4874 - val_true_positives_2: 58.0000\n",
      "Epoch 145/500\n",
      "42/42 - 0s - loss: 0.6863 - binary_accuracy: 0.5403 - true_positives_2: 709.0000 - val_loss: 0.6947 - val_binary_accuracy: 0.4874 - val_true_positives_2: 58.0000\n",
      "Epoch 146/500\n",
      "42/42 - 0s - loss: 0.6895 - binary_accuracy: 0.5411 - true_positives_2: 709.0000 - val_loss: 0.6943 - val_binary_accuracy: 0.4874 - val_true_positives_2: 58.0000\n",
      "Epoch 147/500\n",
      "42/42 - 0s - loss: 0.6851 - binary_accuracy: 0.5381 - true_positives_2: 706.0000 - val_loss: 0.6940 - val_binary_accuracy: 0.4874 - val_true_positives_2: 58.0000\n",
      "Epoch 148/500\n",
      "42/42 - 0s - loss: 0.6879 - binary_accuracy: 0.5396 - true_positives_2: 709.0000 - val_loss: 0.6947 - val_binary_accuracy: 0.4874 - val_true_positives_2: 58.0000\n",
      "Epoch 149/500\n",
      "42/42 - 0s - loss: 0.6863 - binary_accuracy: 0.5396 - true_positives_2: 708.0000 - val_loss: 0.6943 - val_binary_accuracy: 0.4874 - val_true_positives_2: 58.0000\n",
      "Epoch 150/500\n",
      "42/42 - 0s - loss: 0.6863 - binary_accuracy: 0.5388 - true_positives_2: 707.0000 - val_loss: 0.6936 - val_binary_accuracy: 0.4874 - val_true_positives_2: 58.0000\n",
      "Epoch 151/500\n",
      "42/42 - 0s - loss: 0.6860 - binary_accuracy: 0.5373 - true_positives_2: 706.0000 - val_loss: 0.6926 - val_binary_accuracy: 0.4874 - val_true_positives_2: 58.0000\n",
      "Epoch 152/500\n",
      "42/42 - 0s - loss: 0.6870 - binary_accuracy: 0.5381 - true_positives_2: 707.0000 - val_loss: 0.6927 - val_binary_accuracy: 0.4874 - val_true_positives_2: 58.0000\n",
      "Epoch 153/500\n",
      "42/42 - 0s - loss: 0.6870 - binary_accuracy: 0.5396 - true_positives_2: 708.0000 - val_loss: 0.6936 - val_binary_accuracy: 0.4874 - val_true_positives_2: 58.0000\n",
      "Epoch 154/500\n",
      "42/42 - 0s - loss: 0.6869 - binary_accuracy: 0.5396 - true_positives_2: 709.0000 - val_loss: 0.6936 - val_binary_accuracy: 0.4874 - val_true_positives_2: 58.0000\n",
      "Epoch 155/500\n",
      "42/42 - 0s - loss: 0.6845 - binary_accuracy: 0.5396 - true_positives_2: 709.0000 - val_loss: 0.6939 - val_binary_accuracy: 0.4874 - val_true_positives_2: 58.0000\n",
      "Epoch 156/500\n",
      "42/42 - 0s - loss: 0.6866 - binary_accuracy: 0.5396 - true_positives_2: 709.0000 - val_loss: 0.6921 - val_binary_accuracy: 0.4874 - val_true_positives_2: 58.0000\n",
      "Epoch 157/500\n",
      "42/42 - 0s - loss: 0.6871 - binary_accuracy: 0.5381 - true_positives_2: 707.0000 - val_loss: 0.6919 - val_binary_accuracy: 0.4874 - val_true_positives_2: 58.0000\n",
      "Epoch 158/500\n",
      "42/42 - 0s - loss: 0.6888 - binary_accuracy: 0.5403 - true_positives_2: 709.0000 - val_loss: 0.6912 - val_binary_accuracy: 0.4874 - val_true_positives_2: 58.0000\n",
      "Epoch 159/500\n",
      "42/42 - 0s - loss: 0.6876 - binary_accuracy: 0.5396 - true_positives_2: 708.0000 - val_loss: 0.6920 - val_binary_accuracy: 0.4874 - val_true_positives_2: 58.0000\n",
      "Epoch 160/500\n",
      "42/42 - 0s - loss: 0.6871 - binary_accuracy: 0.5403 - true_positives_2: 709.0000 - val_loss: 0.6914 - val_binary_accuracy: 0.4874 - val_true_positives_2: 58.0000\n",
      "Epoch 161/500\n",
      "42/42 - 0s - loss: 0.6842 - binary_accuracy: 0.5396 - true_positives_2: 709.0000 - val_loss: 0.6925 - val_binary_accuracy: 0.4874 - val_true_positives_2: 58.0000\n",
      "Epoch 162/500\n",
      "42/42 - 0s - loss: 0.6832 - binary_accuracy: 0.5403 - true_positives_2: 705.0000 - val_loss: 0.6910 - val_binary_accuracy: 0.4874 - val_true_positives_2: 58.0000\n",
      "Epoch 163/500\n",
      "42/42 - 0s - loss: 0.6842 - binary_accuracy: 0.5388 - true_positives_2: 706.0000 - val_loss: 0.6899 - val_binary_accuracy: 0.4874 - val_true_positives_2: 58.0000\n",
      "Epoch 164/500\n",
      "42/42 - 0s - loss: 0.6853 - binary_accuracy: 0.5411 - true_positives_2: 708.0000 - val_loss: 0.6909 - val_binary_accuracy: 0.4874 - val_true_positives_2: 58.0000\n",
      "Epoch 165/500\n",
      "42/42 - 0s - loss: 0.6850 - binary_accuracy: 0.5373 - true_positives_2: 705.0000 - val_loss: 0.6911 - val_binary_accuracy: 0.4874 - val_true_positives_2: 58.0000\n",
      "Epoch 166/500\n",
      "42/42 - 0s - loss: 0.6853 - binary_accuracy: 0.5396 - true_positives_2: 708.0000 - val_loss: 0.6913 - val_binary_accuracy: 0.4874 - val_true_positives_2: 58.0000\n",
      "Epoch 167/500\n",
      "42/42 - 0s - loss: 0.6882 - binary_accuracy: 0.5403 - true_positives_2: 708.0000 - val_loss: 0.6905 - val_binary_accuracy: 0.4874 - val_true_positives_2: 58.0000\n",
      "Epoch 168/500\n",
      "42/42 - 0s - loss: 0.6849 - binary_accuracy: 0.5396 - true_positives_2: 706.0000 - val_loss: 0.6913 - val_binary_accuracy: 0.4874 - val_true_positives_2: 58.0000\n",
      "Epoch 169/500\n",
      "42/42 - 0s - loss: 0.6856 - binary_accuracy: 0.5411 - true_positives_2: 704.0000 - val_loss: 0.6914 - val_binary_accuracy: 0.4874 - val_true_positives_2: 58.0000\n",
      "Epoch 170/500\n",
      "42/42 - 0s - loss: 0.6828 - binary_accuracy: 0.5396 - true_positives_2: 704.0000 - val_loss: 0.6932 - val_binary_accuracy: 0.4874 - val_true_positives_2: 58.0000\n",
      "Epoch 171/500\n",
      "42/42 - 0s - loss: 0.6886 - binary_accuracy: 0.5373 - true_positives_2: 703.0000 - val_loss: 0.6920 - val_binary_accuracy: 0.4874 - val_true_positives_2: 58.0000\n",
      "Epoch 172/500\n",
      "42/42 - 0s - loss: 0.6861 - binary_accuracy: 0.5396 - true_positives_2: 705.0000 - val_loss: 0.6938 - val_binary_accuracy: 0.4874 - val_true_positives_2: 58.0000\n",
      "Epoch 173/500\n",
      "42/42 - 0s - loss: 0.6825 - binary_accuracy: 0.5403 - true_positives_2: 705.0000 - val_loss: 0.6927 - val_binary_accuracy: 0.4874 - val_true_positives_2: 58.0000\n",
      "Epoch 174/500\n",
      "42/42 - 0s - loss: 0.6835 - binary_accuracy: 0.5426 - true_positives_2: 709.0000 - val_loss: 0.7025 - val_binary_accuracy: 0.4874 - val_true_positives_2: 58.0000\n",
      "Epoch 175/500\n",
      "42/42 - 0s - loss: 0.6861 - binary_accuracy: 0.5358 - true_positives_2: 702.0000 - val_loss: 0.6929 - val_binary_accuracy: 0.4874 - val_true_positives_2: 58.0000\n",
      "Epoch 176/500\n",
      "42/42 - 0s - loss: 0.6840 - binary_accuracy: 0.5441 - true_positives_2: 701.0000 - val_loss: 0.6927 - val_binary_accuracy: 0.4874 - val_true_positives_2: 58.0000\n",
      "Epoch 177/500\n",
      "42/42 - 0s - loss: 0.6853 - binary_accuracy: 0.5388 - true_positives_2: 695.0000 - val_loss: 0.6945 - val_binary_accuracy: 0.4874 - val_true_positives_2: 58.0000\n",
      "Epoch 178/500\n",
      "42/42 - 0s - loss: 0.6834 - binary_accuracy: 0.5396 - true_positives_2: 703.0000 - val_loss: 0.6925 - val_binary_accuracy: 0.4874 - val_true_positives_2: 58.0000\n",
      "Epoch 179/500\n",
      "42/42 - 0s - loss: 0.6836 - binary_accuracy: 0.5373 - true_positives_2: 692.0000 - val_loss: 0.6902 - val_binary_accuracy: 0.4874 - val_true_positives_2: 58.0000\n",
      "Epoch 180/500\n",
      "42/42 - 0s - loss: 0.6846 - binary_accuracy: 0.5578 - true_positives_2: 641.0000 - val_loss: 0.6887 - val_binary_accuracy: 0.5126 - val_true_positives_2: 56.0000\n",
      "Epoch 181/500\n",
      "42/42 - 0s - loss: 0.6849 - binary_accuracy: 0.5525 - true_positives_2: 675.0000 - val_loss: 0.6894 - val_binary_accuracy: 0.4958 - val_true_positives_2: 57.0000\n",
      "Epoch 182/500\n",
      "42/42 - 0s - loss: 0.6804 - binary_accuracy: 0.5495 - true_positives_2: 649.0000 - val_loss: 0.6882 - val_binary_accuracy: 0.5126 - val_true_positives_2: 56.0000\n"
     ]
    },
    {
     "name": "stdout",
     "output_type": "stream",
     "text": [
      "Epoch 183/500\n",
      "42/42 - 0s - loss: 0.6846 - binary_accuracy: 0.5548 - true_positives_2: 610.0000 - val_loss: 0.6905 - val_binary_accuracy: 0.5042 - val_true_positives_2: 55.0000\n",
      "Epoch 184/500\n",
      "42/42 - 0s - loss: 0.6794 - binary_accuracy: 0.5502 - true_positives_2: 642.0000 - val_loss: 0.6911 - val_binary_accuracy: 0.5042 - val_true_positives_2: 55.0000\n",
      "Epoch 185/500\n",
      "42/42 - 0s - loss: 0.6841 - binary_accuracy: 0.5441 - true_positives_2: 630.0000 - val_loss: 0.6916 - val_binary_accuracy: 0.4958 - val_true_positives_2: 55.0000\n",
      "Epoch 186/500\n",
      "42/42 - 0s - loss: 0.6842 - binary_accuracy: 0.5479 - true_positives_2: 658.0000 - val_loss: 0.6920 - val_binary_accuracy: 0.5042 - val_true_positives_2: 58.0000\n",
      "Epoch 187/500\n",
      "42/42 - 0s - loss: 0.6832 - binary_accuracy: 0.5396 - true_positives_2: 644.0000 - val_loss: 0.6930 - val_binary_accuracy: 0.5042 - val_true_positives_2: 58.0000\n",
      "Epoch 188/500\n",
      "42/42 - 0s - loss: 0.6816 - binary_accuracy: 0.5320 - true_positives_2: 663.0000 - val_loss: 0.6934 - val_binary_accuracy: 0.4958 - val_true_positives_2: 58.0000\n",
      "Epoch 189/500\n",
      "42/42 - 0s - loss: 0.6835 - binary_accuracy: 0.5403 - true_positives_2: 674.0000 - val_loss: 0.6939 - val_binary_accuracy: 0.5126 - val_true_positives_2: 58.0000\n",
      "Epoch 190/500\n",
      "42/42 - 0s - loss: 0.6810 - binary_accuracy: 0.5548 - true_positives_2: 681.0000 - val_loss: 0.6923 - val_binary_accuracy: 0.5126 - val_true_positives_2: 58.0000\n",
      "Epoch 191/500\n",
      "42/42 - 0s - loss: 0.6811 - binary_accuracy: 0.5525 - true_positives_2: 658.0000 - val_loss: 0.6909 - val_binary_accuracy: 0.4958 - val_true_positives_2: 54.0000\n",
      "Epoch 192/500\n",
      "42/42 - 0s - loss: 0.6823 - binary_accuracy: 0.5381 - true_positives_2: 627.0000 - val_loss: 0.6916 - val_binary_accuracy: 0.4958 - val_true_positives_2: 54.0000\n",
      "Epoch 193/500\n",
      "42/42 - 0s - loss: 0.6847 - binary_accuracy: 0.5594 - true_positives_2: 625.0000 - val_loss: 0.6929 - val_binary_accuracy: 0.5042 - val_true_positives_2: 55.0000\n",
      "Epoch 194/500\n",
      "42/42 - 0s - loss: 0.6833 - binary_accuracy: 0.5358 - true_positives_2: 588.0000 - val_loss: 0.6929 - val_binary_accuracy: 0.5042 - val_true_positives_2: 54.0000\n",
      "Epoch 195/500\n",
      "42/42 - 0s - loss: 0.6814 - binary_accuracy: 0.5639 - true_positives_2: 615.0000 - val_loss: 0.6928 - val_binary_accuracy: 0.4790 - val_true_positives_2: 51.0000\n",
      "Epoch 196/500\n",
      "42/42 - 0s - loss: 0.6817 - binary_accuracy: 0.5449 - true_positives_2: 638.0000 - val_loss: 0.6950 - val_binary_accuracy: 0.5042 - val_true_positives_2: 55.0000\n",
      "Epoch 197/500\n",
      "42/42 - 0s - loss: 0.6824 - binary_accuracy: 0.5525 - true_positives_2: 589.0000 - val_loss: 0.6929 - val_binary_accuracy: 0.4958 - val_true_positives_2: 50.0000\n",
      "Epoch 198/500\n",
      "42/42 - 0s - loss: 0.6856 - binary_accuracy: 0.5457 - true_positives_2: 538.0000 - val_loss: 0.6899 - val_binary_accuracy: 0.5042 - val_true_positives_2: 50.0000\n",
      "Epoch 199/500\n",
      "42/42 - 0s - loss: 0.6827 - binary_accuracy: 0.5419 - true_positives_2: 552.0000 - val_loss: 0.6904 - val_binary_accuracy: 0.4958 - val_true_positives_2: 51.0000\n",
      "Epoch 200/500\n",
      "42/42 - 0s - loss: 0.6856 - binary_accuracy: 0.5365 - true_positives_2: 592.0000 - val_loss: 0.6920 - val_binary_accuracy: 0.4790 - val_true_positives_2: 52.0000\n",
      "Epoch 201/500\n",
      "42/42 - 0s - loss: 0.6764 - binary_accuracy: 0.5487 - true_positives_2: 599.0000 - val_loss: 0.6889 - val_binary_accuracy: 0.5210 - val_true_positives_2: 52.0000\n",
      "Epoch 202/500\n",
      "42/42 - 0s - loss: 0.6837 - binary_accuracy: 0.5632 - true_positives_2: 605.0000 - val_loss: 0.6912 - val_binary_accuracy: 0.4874 - val_true_positives_2: 53.0000\n",
      "Epoch 203/500\n",
      "42/42 - 0s - loss: 0.6828 - binary_accuracy: 0.5464 - true_positives_2: 609.0000 - val_loss: 0.6908 - val_binary_accuracy: 0.4874 - val_true_positives_2: 53.0000\n",
      "Epoch 204/500\n",
      "42/42 - 0s - loss: 0.6800 - binary_accuracy: 0.5594 - true_positives_2: 628.0000 - val_loss: 0.6932 - val_binary_accuracy: 0.4958 - val_true_positives_2: 54.0000\n",
      "Epoch 205/500\n",
      "42/42 - 0s - loss: 0.6780 - binary_accuracy: 0.5487 - true_positives_2: 619.0000 - val_loss: 0.6923 - val_binary_accuracy: 0.4874 - val_true_positives_2: 53.0000\n",
      "Epoch 206/500\n",
      "42/42 - 0s - loss: 0.6803 - binary_accuracy: 0.5624 - true_positives_2: 624.0000 - val_loss: 0.6905 - val_binary_accuracy: 0.4958 - val_true_positives_2: 54.0000\n",
      "Epoch 207/500\n",
      "42/42 - 0s - loss: 0.6776 - binary_accuracy: 0.5457 - true_positives_2: 569.0000 - val_loss: 0.6889 - val_binary_accuracy: 0.4790 - val_true_positives_2: 51.0000\n",
      "Epoch 208/500\n",
      "42/42 - 0s - loss: 0.6834 - binary_accuracy: 0.5464 - true_positives_2: 586.0000 - val_loss: 0.6913 - val_binary_accuracy: 0.4874 - val_true_positives_2: 52.0000\n",
      "Epoch 209/500\n",
      "42/42 - 0s - loss: 0.6843 - binary_accuracy: 0.5594 - true_positives_2: 604.0000 - val_loss: 0.6940 - val_binary_accuracy: 0.4706 - val_true_positives_2: 52.0000\n",
      "Epoch 210/500\n",
      "42/42 - 0s - loss: 0.6776 - binary_accuracy: 0.5510 - true_positives_2: 613.0000 - val_loss: 0.6920 - val_binary_accuracy: 0.4874 - val_true_positives_2: 52.0000\n",
      "Epoch 211/500\n",
      "42/42 - 0s - loss: 0.6780 - binary_accuracy: 0.5426 - true_positives_2: 556.0000 - val_loss: 0.6934 - val_binary_accuracy: 0.4790 - val_true_positives_2: 51.0000\n",
      "Epoch 212/500\n",
      "42/42 - 0s - loss: 0.6817 - binary_accuracy: 0.5540 - true_positives_2: 554.0000 - val_loss: 0.6923 - val_binary_accuracy: 0.4790 - val_true_positives_2: 51.0000\n",
      "Epoch 213/500\n",
      "42/42 - 0s - loss: 0.6808 - binary_accuracy: 0.5708 - true_positives_2: 594.0000 - val_loss: 0.6917 - val_binary_accuracy: 0.4706 - val_true_positives_2: 51.0000\n",
      "Epoch 214/500\n",
      "42/42 - 0s - loss: 0.6788 - binary_accuracy: 0.5464 - true_positives_2: 602.0000 - val_loss: 0.6962 - val_binary_accuracy: 0.4874 - val_true_positives_2: 54.0000\n",
      "Epoch 215/500\n",
      "42/42 - 0s - loss: 0.6830 - binary_accuracy: 0.5426 - true_positives_2: 612.0000 - val_loss: 0.6967 - val_binary_accuracy: 0.4706 - val_true_positives_2: 52.0000\n",
      "Epoch 216/500\n",
      "42/42 - 0s - loss: 0.6806 - binary_accuracy: 0.5616 - true_positives_2: 611.0000 - val_loss: 0.6949 - val_binary_accuracy: 0.4706 - val_true_positives_2: 52.0000\n",
      "Epoch 217/500\n",
      "42/42 - 0s - loss: 0.6793 - binary_accuracy: 0.5685 - true_positives_2: 616.0000 - val_loss: 0.6909 - val_binary_accuracy: 0.4874 - val_true_positives_2: 50.0000\n",
      "Epoch 218/500\n",
      "42/42 - 0s - loss: 0.6773 - binary_accuracy: 0.5594 - true_positives_2: 586.0000 - val_loss: 0.6919 - val_binary_accuracy: 0.4790 - val_true_positives_2: 52.0000\n",
      "Epoch 219/500\n",
      "42/42 - 0s - loss: 0.6797 - binary_accuracy: 0.5578 - true_positives_2: 628.0000 - val_loss: 0.6952 - val_binary_accuracy: 0.4874 - val_true_positives_2: 52.0000\n",
      "Epoch 220/500\n",
      "42/42 - 0s - loss: 0.6807 - binary_accuracy: 0.5639 - true_positives_2: 635.0000 - val_loss: 0.6971 - val_binary_accuracy: 0.4874 - val_true_positives_2: 52.0000\n",
      "Epoch 221/500\n",
      "42/42 - 0s - loss: 0.6795 - binary_accuracy: 0.5533 - true_positives_2: 588.0000 - val_loss: 0.6982 - val_binary_accuracy: 0.4874 - val_true_positives_2: 52.0000\n",
      "Epoch 222/500\n",
      "42/42 - 0s - loss: 0.6776 - binary_accuracy: 0.5297 - true_positives_2: 576.0000 - val_loss: 0.6949 - val_binary_accuracy: 0.4874 - val_true_positives_2: 51.0000\n",
      "Epoch 223/500\n",
      "42/42 - 0s - loss: 0.6811 - binary_accuracy: 0.5670 - true_positives_2: 575.0000 - val_loss: 0.6898 - val_binary_accuracy: 0.4874 - val_true_positives_2: 51.0000\n",
      "Epoch 224/500\n",
      "42/42 - 0s - loss: 0.6779 - binary_accuracy: 0.5563 - true_positives_2: 552.0000 - val_loss: 0.6931 - val_binary_accuracy: 0.4706 - val_true_positives_2: 50.0000\n",
      "Epoch 225/500\n",
      "42/42 - 0s - loss: 0.6820 - binary_accuracy: 0.5502 - true_positives_2: 566.0000 - val_loss: 0.6917 - val_binary_accuracy: 0.4622 - val_true_positives_2: 48.0000\n",
      "Epoch 226/500\n",
      "42/42 - 0s - loss: 0.6818 - binary_accuracy: 0.5632 - true_positives_2: 563.0000 - val_loss: 0.6935 - val_binary_accuracy: 0.4454 - val_true_positives_2: 47.0000\n",
      "Epoch 227/500\n",
      "42/42 - 0s - loss: 0.6836 - binary_accuracy: 0.5350 - true_positives_2: 553.0000 - val_loss: 0.6932 - val_binary_accuracy: 0.4706 - val_true_positives_2: 50.0000\n",
      "Epoch 228/500\n",
      "42/42 - 0s - loss: 0.6771 - binary_accuracy: 0.5609 - true_positives_2: 582.0000 - val_loss: 0.6902 - val_binary_accuracy: 0.5042 - val_true_positives_2: 50.0000\n",
      "Epoch 229/500\n",
      "42/42 - 0s - loss: 0.6768 - binary_accuracy: 0.5700 - true_positives_2: 600.0000 - val_loss: 0.6931 - val_binary_accuracy: 0.4790 - val_true_positives_2: 50.0000\n"
     ]
    },
    {
     "name": "stdout",
     "output_type": "stream",
     "text": [
      "Epoch 230/500\n",
      "42/42 - 0s - loss: 0.6799 - binary_accuracy: 0.5693 - true_positives_2: 567.0000 - val_loss: 0.6907 - val_binary_accuracy: 0.4958 - val_true_positives_2: 46.0000\n",
      "Epoch 231/500\n",
      "42/42 - 0s - loss: 0.6809 - binary_accuracy: 0.5693 - true_positives_2: 549.0000 - val_loss: 0.6926 - val_binary_accuracy: 0.5042 - val_true_positives_2: 47.0000\n",
      "Epoch 232/500\n",
      "42/42 - 0s - loss: 0.6746 - binary_accuracy: 0.5495 - true_positives_2: 539.0000 - val_loss: 0.6909 - val_binary_accuracy: 0.4958 - val_true_positives_2: 47.0000\n",
      "Epoch 233/500\n",
      "42/42 - 0s - loss: 0.6798 - binary_accuracy: 0.5373 - true_positives_2: 533.0000 - val_loss: 0.6885 - val_binary_accuracy: 0.5126 - val_true_positives_2: 48.0000\n",
      "Epoch 234/500\n",
      "42/42 - 0s - loss: 0.6740 - binary_accuracy: 0.5533 - true_positives_2: 538.0000 - val_loss: 0.6893 - val_binary_accuracy: 0.5294 - val_true_positives_2: 47.0000\n",
      "Epoch 235/500\n",
      "42/42 - 0s - loss: 0.6765 - binary_accuracy: 0.5601 - true_positives_2: 509.0000 - val_loss: 0.6885 - val_binary_accuracy: 0.5210 - val_true_positives_2: 47.0000\n",
      "Epoch 236/500\n",
      "42/42 - 0s - loss: 0.6848 - binary_accuracy: 0.5479 - true_positives_2: 522.0000 - val_loss: 0.6901 - val_binary_accuracy: 0.5042 - val_true_positives_2: 47.0000\n",
      "Epoch 237/500\n",
      "42/42 - 0s - loss: 0.6813 - binary_accuracy: 0.5525 - true_positives_2: 558.0000 - val_loss: 0.6893 - val_binary_accuracy: 0.5042 - val_true_positives_2: 48.0000\n",
      "Epoch 238/500\n",
      "42/42 - 0s - loss: 0.6769 - binary_accuracy: 0.5556 - true_positives_2: 585.0000 - val_loss: 0.6940 - val_binary_accuracy: 0.4622 - val_true_positives_2: 49.0000\n",
      "Epoch 239/500\n",
      "42/42 - 0s - loss: 0.6774 - binary_accuracy: 0.5685 - true_positives_2: 613.0000 - val_loss: 0.6907 - val_binary_accuracy: 0.4790 - val_true_positives_2: 49.0000\n",
      "Epoch 240/500\n",
      "42/42 - 0s - loss: 0.6769 - binary_accuracy: 0.5624 - true_positives_2: 574.0000 - val_loss: 0.6879 - val_binary_accuracy: 0.4874 - val_true_positives_2: 46.0000\n",
      "Epoch 241/500\n",
      "42/42 - 0s - loss: 0.6715 - binary_accuracy: 0.5654 - true_positives_2: 540.0000 - val_loss: 0.6874 - val_binary_accuracy: 0.4958 - val_true_positives_2: 46.0000\n",
      "Epoch 242/500\n",
      "42/42 - 0s - loss: 0.6741 - binary_accuracy: 0.5715 - true_positives_2: 587.0000 - val_loss: 0.6890 - val_binary_accuracy: 0.5126 - val_true_positives_2: 47.0000\n",
      "Epoch 243/500\n",
      "42/42 - 0s - loss: 0.6818 - binary_accuracy: 0.5586 - true_positives_2: 521.0000 - val_loss: 0.6859 - val_binary_accuracy: 0.5462 - val_true_positives_2: 44.0000\n",
      "Epoch 244/500\n",
      "42/42 - 0s - loss: 0.6790 - binary_accuracy: 0.5670 - true_positives_2: 567.0000 - val_loss: 0.6884 - val_binary_accuracy: 0.5210 - val_true_positives_2: 47.0000\n",
      "Epoch 245/500\n",
      "42/42 - 0s - loss: 0.6803 - binary_accuracy: 0.5753 - true_positives_2: 606.0000 - val_loss: 0.6907 - val_binary_accuracy: 0.4874 - val_true_positives_2: 48.0000\n",
      "Epoch 246/500\n",
      "42/42 - 0s - loss: 0.6750 - binary_accuracy: 0.5746 - true_positives_2: 593.0000 - val_loss: 0.6962 - val_binary_accuracy: 0.4790 - val_true_positives_2: 48.0000\n",
      "Epoch 247/500\n",
      "42/42 - 0s - loss: 0.6735 - binary_accuracy: 0.5654 - true_positives_2: 555.0000 - val_loss: 0.6924 - val_binary_accuracy: 0.5126 - val_true_positives_2: 48.0000\n",
      "Epoch 248/500\n",
      "42/42 - 0s - loss: 0.6792 - binary_accuracy: 0.5700 - true_positives_2: 544.0000 - val_loss: 0.6898 - val_binary_accuracy: 0.5042 - val_true_positives_2: 46.0000\n",
      "Epoch 249/500\n",
      "42/42 - 0s - loss: 0.6763 - binary_accuracy: 0.5677 - true_positives_2: 550.0000 - val_loss: 0.6918 - val_binary_accuracy: 0.5042 - val_true_positives_2: 46.0000\n",
      "Epoch 250/500\n",
      "42/42 - 0s - loss: 0.6726 - binary_accuracy: 0.5776 - true_positives_2: 554.0000 - val_loss: 0.6879 - val_binary_accuracy: 0.5210 - val_true_positives_2: 45.0000\n",
      "Epoch 251/500\n",
      "42/42 - 0s - loss: 0.6713 - binary_accuracy: 0.5738 - true_positives_2: 521.0000 - val_loss: 0.6884 - val_binary_accuracy: 0.5126 - val_true_positives_2: 45.0000\n",
      "Epoch 252/500\n",
      "42/42 - 0s - loss: 0.6738 - binary_accuracy: 0.5624 - true_positives_2: 524.0000 - val_loss: 0.6867 - val_binary_accuracy: 0.5462 - val_true_positives_2: 44.0000\n",
      "Epoch 253/500\n",
      "42/42 - 0s - loss: 0.6809 - binary_accuracy: 0.5670 - true_positives_2: 527.0000 - val_loss: 0.6905 - val_binary_accuracy: 0.5042 - val_true_positives_2: 45.0000\n",
      "Epoch 254/500\n",
      "42/42 - 0s - loss: 0.6756 - binary_accuracy: 0.5670 - true_positives_2: 540.0000 - val_loss: 0.6974 - val_binary_accuracy: 0.5126 - val_true_positives_2: 46.0000\n",
      "Epoch 255/500\n",
      "42/42 - 0s - loss: 0.6747 - binary_accuracy: 0.5472 - true_positives_2: 533.0000 - val_loss: 0.6903 - val_binary_accuracy: 0.5210 - val_true_positives_2: 46.0000\n",
      "Epoch 256/500\n",
      "42/42 - 0s - loss: 0.6712 - binary_accuracy: 0.5746 - true_positives_2: 532.0000 - val_loss: 0.6939 - val_binary_accuracy: 0.4958 - val_true_positives_2: 46.0000\n",
      "Epoch 257/500\n",
      "42/42 - 0s - loss: 0.6754 - binary_accuracy: 0.5396 - true_positives_2: 530.0000 - val_loss: 0.6986 - val_binary_accuracy: 0.4958 - val_true_positives_2: 46.0000\n",
      "Epoch 258/500\n",
      "42/42 - 0s - loss: 0.6769 - binary_accuracy: 0.5639 - true_positives_2: 535.0000 - val_loss: 0.6908 - val_binary_accuracy: 0.5294 - val_true_positives_2: 45.0000\n",
      "Epoch 259/500\n",
      "42/42 - 0s - loss: 0.6690 - binary_accuracy: 0.5731 - true_positives_2: 525.0000 - val_loss: 0.6938 - val_binary_accuracy: 0.5126 - val_true_positives_2: 45.0000\n",
      "Epoch 260/500\n",
      "42/42 - 0s - loss: 0.6733 - binary_accuracy: 0.5563 - true_positives_2: 533.0000 - val_loss: 0.6915 - val_binary_accuracy: 0.5210 - val_true_positives_2: 46.0000\n",
      "Epoch 261/500\n",
      "42/42 - 0s - loss: 0.6734 - binary_accuracy: 0.5563 - true_positives_2: 502.0000 - val_loss: 0.6924 - val_binary_accuracy: 0.5210 - val_true_positives_2: 45.0000\n",
      "Epoch 262/500\n",
      "42/42 - 0s - loss: 0.6771 - binary_accuracy: 0.5677 - true_positives_2: 524.0000 - val_loss: 0.6839 - val_binary_accuracy: 0.5546 - val_true_positives_2: 45.0000\n",
      "Epoch 263/500\n",
      "42/42 - 0s - loss: 0.6751 - binary_accuracy: 0.5624 - true_positives_2: 499.0000 - val_loss: 0.6894 - val_binary_accuracy: 0.5042 - val_true_positives_2: 42.0000\n",
      "Epoch 264/500\n",
      "42/42 - 0s - loss: 0.6738 - binary_accuracy: 0.5563 - true_positives_2: 517.0000 - val_loss: 0.6908 - val_binary_accuracy: 0.5378 - val_true_positives_2: 44.0000\n",
      "Epoch 265/500\n",
      "42/42 - 0s - loss: 0.6731 - binary_accuracy: 0.5700 - true_positives_2: 531.0000 - val_loss: 0.6907 - val_binary_accuracy: 0.5294 - val_true_positives_2: 45.0000\n",
      "Epoch 266/500\n",
      "42/42 - 0s - loss: 0.6791 - binary_accuracy: 0.5548 - true_positives_2: 524.0000 - val_loss: 0.6936 - val_binary_accuracy: 0.5294 - val_true_positives_2: 45.0000\n",
      "Epoch 267/500\n",
      "42/42 - 0s - loss: 0.6724 - binary_accuracy: 0.5601 - true_positives_2: 534.0000 - val_loss: 0.6916 - val_binary_accuracy: 0.5294 - val_true_positives_2: 45.0000\n",
      "Epoch 268/500\n",
      "42/42 - 0s - loss: 0.6778 - binary_accuracy: 0.5327 - true_positives_2: 519.0000 - val_loss: 0.6998 - val_binary_accuracy: 0.4706 - val_true_positives_2: 46.0000\n",
      "Epoch 269/500\n",
      "42/42 - 0s - loss: 0.6697 - binary_accuracy: 0.5738 - true_positives_2: 628.0000 - val_loss: 0.6988 - val_binary_accuracy: 0.4622 - val_true_positives_2: 47.0000\n",
      "Epoch 270/500\n",
      "42/42 - 0s - loss: 0.6655 - binary_accuracy: 0.5791 - true_positives_2: 544.0000 - val_loss: 0.6930 - val_binary_accuracy: 0.5294 - val_true_positives_2: 45.0000\n",
      "Epoch 271/500\n",
      "42/42 - 0s - loss: 0.6713 - binary_accuracy: 0.5715 - true_positives_2: 554.0000 - val_loss: 0.6927 - val_binary_accuracy: 0.5210 - val_true_positives_2: 45.0000\n",
      "Epoch 272/500\n",
      "42/42 - 0s - loss: 0.6721 - binary_accuracy: 0.5670 - true_positives_2: 561.0000 - val_loss: 0.6891 - val_binary_accuracy: 0.5042 - val_true_positives_2: 45.0000\n",
      "Epoch 273/500\n",
      "42/42 - 0s - loss: 0.6737 - binary_accuracy: 0.5578 - true_positives_2: 529.0000 - val_loss: 0.6871 - val_binary_accuracy: 0.5378 - val_true_positives_2: 45.0000\n",
      "Epoch 274/500\n",
      "42/42 - 0s - loss: 0.6747 - binary_accuracy: 0.5571 - true_positives_2: 528.0000 - val_loss: 0.6871 - val_binary_accuracy: 0.5378 - val_true_positives_2: 45.0000\n",
      "Epoch 275/500\n",
      "42/42 - 0s - loss: 0.6691 - binary_accuracy: 0.5746 - true_positives_2: 511.0000 - val_loss: 0.6856 - val_binary_accuracy: 0.5294 - val_true_positives_2: 45.0000\n",
      "Epoch 276/500\n",
      "42/42 - 0s - loss: 0.6723 - binary_accuracy: 0.5601 - true_positives_2: 535.0000 - val_loss: 0.6903 - val_binary_accuracy: 0.5294 - val_true_positives_2: 45.0000\n"
     ]
    },
    {
     "name": "stdout",
     "output_type": "stream",
     "text": [
      "Epoch 277/500\n",
      "42/42 - 0s - loss: 0.6679 - binary_accuracy: 0.5723 - true_positives_2: 515.0000 - val_loss: 0.6937 - val_binary_accuracy: 0.5210 - val_true_positives_2: 45.0000\n",
      "Epoch 278/500\n",
      "42/42 - 0s - loss: 0.6711 - binary_accuracy: 0.5654 - true_positives_2: 520.0000 - val_loss: 0.6870 - val_binary_accuracy: 0.5462 - val_true_positives_2: 45.0000\n",
      "Epoch 279/500\n",
      "42/42 - 0s - loss: 0.6713 - binary_accuracy: 0.5715 - true_positives_2: 445.0000 - val_loss: 0.6904 - val_binary_accuracy: 0.5462 - val_true_positives_2: 45.0000\n",
      "Epoch 280/500\n",
      "42/42 - 0s - loss: 0.6732 - binary_accuracy: 0.5731 - true_positives_2: 469.0000 - val_loss: 0.6955 - val_binary_accuracy: 0.5294 - val_true_positives_2: 45.0000\n",
      "Epoch 281/500\n",
      "42/42 - 0s - loss: 0.6701 - binary_accuracy: 0.5677 - true_positives_2: 465.0000 - val_loss: 0.6983 - val_binary_accuracy: 0.5294 - val_true_positives_2: 45.0000\n",
      "Epoch 282/500\n",
      "42/42 - 0s - loss: 0.6666 - binary_accuracy: 0.5540 - true_positives_2: 509.0000 - val_loss: 0.6949 - val_binary_accuracy: 0.5378 - val_true_positives_2: 45.0000\n",
      "Epoch 283/500\n",
      "42/42 - 0s - loss: 0.6656 - binary_accuracy: 0.5753 - true_positives_2: 503.0000 - val_loss: 0.6943 - val_binary_accuracy: 0.5294 - val_true_positives_2: 45.0000\n",
      "Epoch 284/500\n",
      "42/42 - 0s - loss: 0.6706 - binary_accuracy: 0.5708 - true_positives_2: 512.0000 - val_loss: 0.6878 - val_binary_accuracy: 0.5378 - val_true_positives_2: 45.0000\n",
      "Epoch 285/500\n",
      "42/42 - 0s - loss: 0.6668 - binary_accuracy: 0.5799 - true_positives_2: 558.0000 - val_loss: 0.6903 - val_binary_accuracy: 0.5378 - val_true_positives_2: 45.0000\n",
      "Epoch 286/500\n",
      "42/42 - 0s - loss: 0.6675 - binary_accuracy: 0.5883 - true_positives_2: 522.0000 - val_loss: 0.6950 - val_binary_accuracy: 0.5378 - val_true_positives_2: 45.0000\n",
      "Epoch 287/500\n",
      "42/42 - 0s - loss: 0.6717 - binary_accuracy: 0.5708 - true_positives_2: 550.0000 - val_loss: 0.6899 - val_binary_accuracy: 0.5462 - val_true_positives_2: 44.0000\n",
      "Epoch 288/500\n",
      "42/42 - 0s - loss: 0.6723 - binary_accuracy: 0.5693 - true_positives_2: 514.0000 - val_loss: 0.6966 - val_binary_accuracy: 0.5210 - val_true_positives_2: 44.0000\n",
      "Epoch 289/500\n",
      "42/42 - 0s - loss: 0.6737 - binary_accuracy: 0.5586 - true_positives_2: 493.0000 - val_loss: 0.6901 - val_binary_accuracy: 0.5462 - val_true_positives_2: 41.0000\n",
      "Epoch 290/500\n",
      "42/42 - 0s - loss: 0.6707 - binary_accuracy: 0.5700 - true_positives_2: 494.0000 - val_loss: 0.6946 - val_binary_accuracy: 0.5294 - val_true_positives_2: 41.0000\n",
      "Epoch 291/500\n",
      "42/42 - 0s - loss: 0.6673 - binary_accuracy: 0.5784 - true_positives_2: 493.0000 - val_loss: 0.6961 - val_binary_accuracy: 0.5126 - val_true_positives_2: 41.0000\n",
      "Epoch 292/500\n",
      "42/42 - 0s - loss: 0.6741 - binary_accuracy: 0.5761 - true_positives_2: 481.0000 - val_loss: 0.6930 - val_binary_accuracy: 0.5378 - val_true_positives_2: 41.0000\n",
      "Epoch 293/500\n",
      "42/42 - 0s - loss: 0.6725 - binary_accuracy: 0.5632 - true_positives_2: 473.0000 - val_loss: 0.6893 - val_binary_accuracy: 0.5462 - val_true_positives_2: 41.0000\n",
      "Epoch 294/500\n",
      "42/42 - 0s - loss: 0.6717 - binary_accuracy: 0.5685 - true_positives_2: 479.0000 - val_loss: 0.6930 - val_binary_accuracy: 0.5294 - val_true_positives_2: 41.0000\n",
      "Epoch 295/500\n",
      "42/42 - 0s - loss: 0.6742 - binary_accuracy: 0.5715 - true_positives_2: 492.0000 - val_loss: 0.6888 - val_binary_accuracy: 0.5546 - val_true_positives_2: 41.0000\n",
      "Epoch 296/500\n",
      "42/42 - 0s - loss: 0.6669 - binary_accuracy: 0.5731 - true_positives_2: 491.0000 - val_loss: 0.7005 - val_binary_accuracy: 0.5210 - val_true_positives_2: 45.0000\n",
      "Epoch 297/500\n",
      "42/42 - 0s - loss: 0.6746 - binary_accuracy: 0.5563 - true_positives_2: 475.0000 - val_loss: 0.6951 - val_binary_accuracy: 0.5294 - val_true_positives_2: 44.0000\n",
      "Epoch 298/500\n",
      "42/42 - 0s - loss: 0.6753 - binary_accuracy: 0.5525 - true_positives_2: 490.0000 - val_loss: 0.6941 - val_binary_accuracy: 0.5210 - val_true_positives_2: 43.0000\n",
      "Epoch 299/500\n",
      "42/42 - 0s - loss: 0.6665 - binary_accuracy: 0.5715 - true_positives_2: 551.0000 - val_loss: 0.6991 - val_binary_accuracy: 0.5042 - val_true_positives_2: 46.0000\n",
      "Epoch 300/500\n",
      "42/42 - 0s - loss: 0.6751 - binary_accuracy: 0.5708 - true_positives_2: 529.0000 - val_loss: 0.6924 - val_binary_accuracy: 0.5462 - val_true_positives_2: 45.0000\n",
      "Epoch 301/500\n",
      "42/42 - 0s - loss: 0.6688 - binary_accuracy: 0.5746 - true_positives_2: 529.0000 - val_loss: 0.6950 - val_binary_accuracy: 0.5294 - val_true_positives_2: 44.0000\n",
      "Epoch 302/500\n",
      "42/42 - 0s - loss: 0.6734 - binary_accuracy: 0.5563 - true_positives_2: 496.0000 - val_loss: 0.6953 - val_binary_accuracy: 0.5294 - val_true_positives_2: 43.0000\n",
      "Epoch 303/500\n",
      "42/42 - 0s - loss: 0.6699 - binary_accuracy: 0.5700 - true_positives_2: 498.0000 - val_loss: 0.6970 - val_binary_accuracy: 0.5294 - val_true_positives_2: 41.0000\n",
      "Epoch 304/500\n",
      "42/42 - 0s - loss: 0.6738 - binary_accuracy: 0.5639 - true_positives_2: 472.0000 - val_loss: 0.6972 - val_binary_accuracy: 0.5210 - val_true_positives_2: 41.0000\n",
      "Epoch 305/500\n",
      "42/42 - 0s - loss: 0.6665 - binary_accuracy: 0.5746 - true_positives_2: 504.0000 - val_loss: 0.6980 - val_binary_accuracy: 0.5126 - val_true_positives_2: 42.0000\n",
      "Epoch 306/500\n",
      "42/42 - 0s - loss: 0.6671 - binary_accuracy: 0.5761 - true_positives_2: 523.0000 - val_loss: 0.6996 - val_binary_accuracy: 0.5126 - val_true_positives_2: 45.0000\n",
      "Epoch 307/500\n",
      "42/42 - 0s - loss: 0.6725 - binary_accuracy: 0.5571 - true_positives_2: 530.0000 - val_loss: 0.6990 - val_binary_accuracy: 0.5210 - val_true_positives_2: 45.0000\n",
      "Epoch 308/500\n",
      "42/42 - 0s - loss: 0.6686 - binary_accuracy: 0.5799 - true_positives_2: 528.0000 - val_loss: 0.6989 - val_binary_accuracy: 0.5126 - val_true_positives_2: 42.0000\n",
      "Epoch 309/500\n",
      "42/42 - 0s - loss: 0.6705 - binary_accuracy: 0.5449 - true_positives_2: 496.0000 - val_loss: 0.6932 - val_binary_accuracy: 0.5462 - val_true_positives_2: 42.0000\n",
      "Epoch 310/500\n",
      "42/42 - 0s - loss: 0.6615 - binary_accuracy: 0.5822 - true_positives_2: 511.0000 - val_loss: 0.7016 - val_binary_accuracy: 0.5126 - val_true_positives_2: 42.0000\n",
      "Epoch 311/500\n",
      "42/42 - 0s - loss: 0.6688 - binary_accuracy: 0.5715 - true_positives_2: 508.0000 - val_loss: 0.6907 - val_binary_accuracy: 0.5630 - val_true_positives_2: 41.0000\n",
      "Epoch 312/500\n",
      "42/42 - 0s - loss: 0.6710 - binary_accuracy: 0.5662 - true_positives_2: 485.0000 - val_loss: 0.7052 - val_binary_accuracy: 0.5378 - val_true_positives_2: 41.0000\n",
      "Epoch 313/500\n",
      "42/42 - 0s - loss: 0.6673 - binary_accuracy: 0.5677 - true_positives_2: 479.0000 - val_loss: 0.6974 - val_binary_accuracy: 0.5378 - val_true_positives_2: 41.0000\n",
      "Epoch 314/500\n",
      "42/42 - 0s - loss: 0.6705 - binary_accuracy: 0.5571 - true_positives_2: 459.0000 - val_loss: 0.6921 - val_binary_accuracy: 0.5714 - val_true_positives_2: 41.0000\n",
      "Epoch 315/500\n",
      "42/42 - 0s - loss: 0.6633 - binary_accuracy: 0.5715 - true_positives_2: 512.0000 - val_loss: 0.7111 - val_binary_accuracy: 0.5126 - val_true_positives_2: 42.0000\n",
      "Epoch 316/500\n",
      "42/42 - 0s - loss: 0.6697 - binary_accuracy: 0.5670 - true_positives_2: 469.0000 - val_loss: 0.6996 - val_binary_accuracy: 0.5798 - val_true_positives_2: 41.0000\n",
      "Epoch 317/500\n",
      "42/42 - 0s - loss: 0.6613 - binary_accuracy: 0.5791 - true_positives_2: 447.0000 - val_loss: 0.6972 - val_binary_accuracy: 0.5546 - val_true_positives_2: 41.0000\n",
      "Epoch 318/500\n",
      "42/42 - 0s - loss: 0.6612 - binary_accuracy: 0.5807 - true_positives_2: 502.0000 - val_loss: 0.7078 - val_binary_accuracy: 0.5294 - val_true_positives_2: 43.0000\n",
      "Epoch 319/500\n",
      "42/42 - 0s - loss: 0.6688 - binary_accuracy: 0.5761 - true_positives_2: 456.0000 - val_loss: 0.7153 - val_binary_accuracy: 0.5210 - val_true_positives_2: 43.0000\n",
      "Epoch 320/500\n",
      "42/42 - 0s - loss: 0.6652 - binary_accuracy: 0.5860 - true_positives_2: 434.0000 - val_loss: 0.7146 - val_binary_accuracy: 0.5210 - val_true_positives_2: 44.0000\n",
      "Epoch 321/500\n",
      "42/42 - 0s - loss: 0.6645 - binary_accuracy: 0.5814 - true_positives_2: 485.0000 - val_loss: 0.7060 - val_binary_accuracy: 0.5882 - val_true_positives_2: 43.0000\n",
      "Epoch 322/500\n",
      "42/42 - 0s - loss: 0.6687 - binary_accuracy: 0.5708 - true_positives_2: 418.0000 - val_loss: 0.6943 - val_binary_accuracy: 0.5714 - val_true_positives_2: 42.0000\n",
      "Epoch 323/500\n",
      "42/42 - 0s - loss: 0.6716 - binary_accuracy: 0.5677 - true_positives_2: 423.0000 - val_loss: 0.7048 - val_binary_accuracy: 0.5630 - val_true_positives_2: 42.0000\n"
     ]
    },
    {
     "name": "stdout",
     "output_type": "stream",
     "text": [
      "Epoch 324/500\n",
      "42/42 - 0s - loss: 0.6693 - binary_accuracy: 0.5776 - true_positives_2: 448.0000 - val_loss: 0.7041 - val_binary_accuracy: 0.5630 - val_true_positives_2: 43.0000\n",
      "Epoch 325/500\n",
      "42/42 - 0s - loss: 0.6585 - binary_accuracy: 0.5776 - true_positives_2: 455.0000 - val_loss: 0.7115 - val_binary_accuracy: 0.5714 - val_true_positives_2: 43.0000\n",
      "Epoch 326/500\n",
      "42/42 - 0s - loss: 0.6696 - binary_accuracy: 0.5898 - true_positives_2: 440.0000 - val_loss: 0.7120 - val_binary_accuracy: 0.5714 - val_true_positives_2: 42.0000\n",
      "Epoch 327/500\n",
      "42/42 - 0s - loss: 0.6684 - binary_accuracy: 0.5753 - true_positives_2: 419.0000 - val_loss: 0.7020 - val_binary_accuracy: 0.5714 - val_true_positives_2: 43.0000\n",
      "Epoch 328/500\n",
      "42/42 - 0s - loss: 0.6673 - binary_accuracy: 0.5670 - true_positives_2: 385.0000 - val_loss: 0.6965 - val_binary_accuracy: 0.5546 - val_true_positives_2: 41.0000\n",
      "Epoch 329/500\n",
      "42/42 - 0s - loss: 0.6647 - binary_accuracy: 0.5807 - true_positives_2: 378.0000 - val_loss: 0.7032 - val_binary_accuracy: 0.5546 - val_true_positives_2: 43.0000\n",
      "Epoch 330/500\n",
      "42/42 - 0s - loss: 0.6711 - binary_accuracy: 0.5700 - true_positives_2: 420.0000 - val_loss: 0.7075 - val_binary_accuracy: 0.5378 - val_true_positives_2: 43.0000\n",
      "Epoch 331/500\n",
      "42/42 - 0s - loss: 0.6637 - binary_accuracy: 0.5845 - true_positives_2: 426.0000 - val_loss: 0.7077 - val_binary_accuracy: 0.5546 - val_true_positives_2: 43.0000\n",
      "Epoch 332/500\n",
      "42/42 - 0s - loss: 0.6631 - binary_accuracy: 0.5799 - true_positives_2: 418.0000 - val_loss: 0.6975 - val_binary_accuracy: 0.5546 - val_true_positives_2: 41.0000\n",
      "Epoch 333/500\n",
      "42/42 - 0s - loss: 0.6600 - binary_accuracy: 0.6050 - true_positives_2: 473.0000 - val_loss: 0.7002 - val_binary_accuracy: 0.5378 - val_true_positives_2: 41.0000\n",
      "Epoch 334/500\n",
      "42/42 - 0s - loss: 0.6614 - binary_accuracy: 0.5685 - true_positives_2: 497.0000 - val_loss: 0.7052 - val_binary_accuracy: 0.5378 - val_true_positives_2: 41.0000\n",
      "Epoch 335/500\n",
      "42/42 - 0s - loss: 0.6674 - binary_accuracy: 0.5746 - true_positives_2: 431.0000 - val_loss: 0.7010 - val_binary_accuracy: 0.5546 - val_true_positives_2: 41.0000\n",
      "Epoch 336/500\n",
      "42/42 - 0s - loss: 0.6664 - binary_accuracy: 0.5906 - true_positives_2: 481.0000 - val_loss: 0.6983 - val_binary_accuracy: 0.5546 - val_true_positives_2: 42.0000\n",
      "Epoch 337/500\n",
      "42/42 - 0s - loss: 0.6608 - binary_accuracy: 0.5761 - true_positives_2: 407.0000 - val_loss: 0.7109 - val_binary_accuracy: 0.5378 - val_true_positives_2: 41.0000\n",
      "Epoch 338/500\n",
      "42/42 - 0s - loss: 0.6636 - binary_accuracy: 0.5837 - true_positives_2: 496.0000 - val_loss: 0.7092 - val_binary_accuracy: 0.5294 - val_true_positives_2: 41.0000\n",
      "Epoch 339/500\n",
      "42/42 - 0s - loss: 0.6550 - binary_accuracy: 0.6020 - true_positives_2: 463.0000 - val_loss: 0.7045 - val_binary_accuracy: 0.5630 - val_true_positives_2: 41.0000\n",
      "Epoch 340/500\n",
      "42/42 - 0s - loss: 0.6640 - binary_accuracy: 0.5989 - true_positives_2: 434.0000 - val_loss: 0.7077 - val_binary_accuracy: 0.5546 - val_true_positives_2: 41.0000\n",
      "Epoch 341/500\n",
      "42/42 - 0s - loss: 0.6631 - binary_accuracy: 0.5776 - true_positives_2: 375.0000 - val_loss: 0.7007 - val_binary_accuracy: 0.5630 - val_true_positives_2: 40.0000\n",
      "Epoch 342/500\n",
      "42/42 - 0s - loss: 0.6644 - binary_accuracy: 0.5814 - true_positives_2: 485.0000 - val_loss: 0.7005 - val_binary_accuracy: 0.5630 - val_true_positives_2: 41.0000\n",
      "Epoch 343/500\n",
      "42/42 - 0s - loss: 0.6733 - binary_accuracy: 0.5548 - true_positives_2: 420.0000 - val_loss: 0.6959 - val_binary_accuracy: 0.5630 - val_true_positives_2: 40.0000\n",
      "Epoch 344/500\n",
      "42/42 - 0s - loss: 0.6716 - binary_accuracy: 0.5822 - true_positives_2: 456.0000 - val_loss: 0.7047 - val_binary_accuracy: 0.5546 - val_true_positives_2: 42.0000\n",
      "Epoch 345/500\n",
      "42/42 - 0s - loss: 0.6623 - binary_accuracy: 0.5624 - true_positives_2: 456.0000 - val_loss: 0.7065 - val_binary_accuracy: 0.5462 - val_true_positives_2: 41.0000\n",
      "Epoch 346/500\n",
      "42/42 - 0s - loss: 0.6685 - binary_accuracy: 0.5609 - true_positives_2: 450.0000 - val_loss: 0.7098 - val_binary_accuracy: 0.5294 - val_true_positives_2: 45.0000\n",
      "Epoch 347/500\n",
      "42/42 - 0s - loss: 0.6640 - binary_accuracy: 0.5776 - true_positives_2: 509.0000 - val_loss: 0.7095 - val_binary_accuracy: 0.5210 - val_true_positives_2: 44.0000\n",
      "Epoch 348/500\n",
      "42/42 - 0s - loss: 0.6618 - binary_accuracy: 0.5609 - true_positives_2: 478.0000 - val_loss: 0.7123 - val_binary_accuracy: 0.5462 - val_true_positives_2: 45.0000\n",
      "Epoch 349/500\n",
      "42/42 - 0s - loss: 0.6658 - binary_accuracy: 0.5738 - true_positives_2: 512.0000 - val_loss: 0.7106 - val_binary_accuracy: 0.5462 - val_true_positives_2: 44.0000\n",
      "Epoch 350/500\n",
      "42/42 - 0s - loss: 0.6710 - binary_accuracy: 0.5594 - true_positives_2: 480.0000 - val_loss: 0.7045 - val_binary_accuracy: 0.5546 - val_true_positives_2: 45.0000\n",
      "Epoch 351/500\n",
      "42/42 - 0s - loss: 0.6616 - binary_accuracy: 0.5753 - true_positives_2: 501.0000 - val_loss: 0.7065 - val_binary_accuracy: 0.5546 - val_true_positives_2: 45.0000\n",
      "Epoch 352/500\n",
      "42/42 - 0s - loss: 0.6582 - binary_accuracy: 0.5776 - true_positives_2: 518.0000 - val_loss: 0.7159 - val_binary_accuracy: 0.5294 - val_true_positives_2: 45.0000\n",
      "Epoch 353/500\n",
      "42/42 - 0s - loss: 0.6722 - binary_accuracy: 0.5807 - true_positives_2: 476.0000 - val_loss: 0.7146 - val_binary_accuracy: 0.5378 - val_true_positives_2: 45.0000\n",
      "Epoch 354/500\n",
      "42/42 - 0s - loss: 0.6570 - binary_accuracy: 0.5830 - true_positives_2: 532.0000 - val_loss: 0.7230 - val_binary_accuracy: 0.5210 - val_true_positives_2: 45.0000\n",
      "Epoch 355/500\n",
      "42/42 - 0s - loss: 0.6731 - binary_accuracy: 0.5769 - true_positives_2: 475.0000 - val_loss: 0.7139 - val_binary_accuracy: 0.5210 - val_true_positives_2: 43.0000\n",
      "Epoch 356/500\n",
      "42/42 - 0s - loss: 0.6636 - binary_accuracy: 0.5769 - true_positives_2: 417.0000 - val_loss: 0.7216 - val_binary_accuracy: 0.5294 - val_true_positives_2: 43.0000\n",
      "Epoch 357/500\n",
      "42/42 - 0s - loss: 0.6656 - binary_accuracy: 0.5913 - true_positives_2: 447.0000 - val_loss: 0.7178 - val_binary_accuracy: 0.5378 - val_true_positives_2: 43.0000\n",
      "Epoch 358/500\n",
      "42/42 - 0s - loss: 0.6641 - binary_accuracy: 0.5685 - true_positives_2: 386.0000 - val_loss: 0.7198 - val_binary_accuracy: 0.5630 - val_true_positives_2: 43.0000\n",
      "Epoch 359/500\n",
      "42/42 - 0s - loss: 0.6670 - binary_accuracy: 0.5677 - true_positives_2: 454.0000 - val_loss: 0.7220 - val_binary_accuracy: 0.5462 - val_true_positives_2: 45.0000\n",
      "Epoch 360/500\n",
      "42/42 - 0s - loss: 0.6734 - binary_accuracy: 0.5654 - true_positives_2: 417.0000 - val_loss: 0.7101 - val_binary_accuracy: 0.5294 - val_true_positives_2: 45.0000\n",
      "Epoch 361/500\n",
      "42/42 - 0s - loss: 0.6652 - binary_accuracy: 0.5845 - true_positives_2: 439.0000 - val_loss: 0.7151 - val_binary_accuracy: 0.5126 - val_true_positives_2: 44.0000\n",
      "Epoch 362/500\n",
      "42/42 - 0s - loss: 0.6640 - binary_accuracy: 0.5807 - true_positives_2: 448.0000 - val_loss: 0.7166 - val_binary_accuracy: 0.5294 - val_true_positives_2: 44.0000\n",
      "Epoch 363/500\n",
      "42/42 - 0s - loss: 0.6579 - binary_accuracy: 0.5868 - true_positives_2: 507.0000 - val_loss: 0.7199 - val_binary_accuracy: 0.5294 - val_true_positives_2: 45.0000\n",
      "Epoch 364/500\n",
      "42/42 - 0s - loss: 0.6609 - binary_accuracy: 0.5654 - true_positives_2: 462.0000 - val_loss: 0.7271 - val_binary_accuracy: 0.5210 - val_true_positives_2: 45.0000\n",
      "Epoch 365/500\n",
      "42/42 - 0s - loss: 0.6607 - binary_accuracy: 0.5799 - true_positives_2: 473.0000 - val_loss: 0.7150 - val_binary_accuracy: 0.5378 - val_true_positives_2: 43.0000\n",
      "Epoch 366/500\n",
      "42/42 - 0s - loss: 0.6664 - binary_accuracy: 0.5830 - true_positives_2: 448.0000 - val_loss: 0.7301 - val_binary_accuracy: 0.5042 - val_true_positives_2: 43.0000\n",
      "Epoch 367/500\n",
      "42/42 - 0s - loss: 0.6690 - binary_accuracy: 0.5639 - true_positives_2: 407.0000 - val_loss: 0.7208 - val_binary_accuracy: 0.5378 - val_true_positives_2: 43.0000\n",
      "Epoch 368/500\n",
      "42/42 - 0s - loss: 0.6581 - binary_accuracy: 0.5837 - true_positives_2: 435.0000 - val_loss: 0.7257 - val_binary_accuracy: 0.5210 - val_true_positives_2: 43.0000\n",
      "Epoch 369/500\n",
      "42/42 - 0s - loss: 0.6640 - binary_accuracy: 0.5944 - true_positives_2: 470.0000 - val_loss: 0.7165 - val_binary_accuracy: 0.5546 - val_true_positives_2: 43.0000\n",
      "Epoch 370/500\n",
      "42/42 - 0s - loss: 0.6594 - binary_accuracy: 0.6005 - true_positives_2: 419.0000 - val_loss: 0.7197 - val_binary_accuracy: 0.5546 - val_true_positives_2: 43.0000\n"
     ]
    },
    {
     "name": "stdout",
     "output_type": "stream",
     "text": [
      "Epoch 371/500\n",
      "42/42 - 0s - loss: 0.6580 - binary_accuracy: 0.5852 - true_positives_2: 426.0000 - val_loss: 0.7278 - val_binary_accuracy: 0.5294 - val_true_positives_2: 43.0000\n",
      "Epoch 372/500\n",
      "42/42 - 0s - loss: 0.6588 - binary_accuracy: 0.5761 - true_positives_2: 415.0000 - val_loss: 0.7341 - val_binary_accuracy: 0.5462 - val_true_positives_2: 43.0000\n",
      "Epoch 373/500\n",
      "42/42 - 0s - loss: 0.6620 - binary_accuracy: 0.5799 - true_positives_2: 408.0000 - val_loss: 0.7364 - val_binary_accuracy: 0.5378 - val_true_positives_2: 43.0000\n",
      "Epoch 374/500\n",
      "42/42 - 0s - loss: 0.6624 - binary_accuracy: 0.5761 - true_positives_2: 421.0000 - val_loss: 0.7432 - val_binary_accuracy: 0.5294 - val_true_positives_2: 42.0000\n",
      "Epoch 375/500\n",
      "42/42 - 0s - loss: 0.6603 - binary_accuracy: 0.5830 - true_positives_2: 397.0000 - val_loss: 0.7331 - val_binary_accuracy: 0.5378 - val_true_positives_2: 43.0000\n",
      "Epoch 376/500\n",
      "42/42 - 0s - loss: 0.6543 - binary_accuracy: 0.5982 - true_positives_2: 404.0000 - val_loss: 0.7177 - val_binary_accuracy: 0.5378 - val_true_positives_2: 40.0000\n",
      "Epoch 377/500\n",
      "42/42 - 0s - loss: 0.6573 - binary_accuracy: 0.5799 - true_positives_2: 432.0000 - val_loss: 0.7258 - val_binary_accuracy: 0.5378 - val_true_positives_2: 41.0000\n",
      "Epoch 378/500\n",
      "42/42 - 0s - loss: 0.6600 - binary_accuracy: 0.5814 - true_positives_2: 380.0000 - val_loss: 0.7447 - val_binary_accuracy: 0.5462 - val_true_positives_2: 44.0000\n",
      "Epoch 379/500\n",
      "42/42 - 0s - loss: 0.6657 - binary_accuracy: 0.5799 - true_positives_2: 405.0000 - val_loss: 0.7180 - val_binary_accuracy: 0.5714 - val_true_positives_2: 43.0000\n",
      "Epoch 380/500\n",
      "42/42 - 0s - loss: 0.6651 - binary_accuracy: 0.5670 - true_positives_2: 410.0000 - val_loss: 0.7293 - val_binary_accuracy: 0.5378 - val_true_positives_2: 43.0000\n",
      "Epoch 381/500\n",
      "42/42 - 0s - loss: 0.6508 - binary_accuracy: 0.6012 - true_positives_2: 477.0000 - val_loss: 0.7349 - val_binary_accuracy: 0.5294 - val_true_positives_2: 43.0000\n",
      "Epoch 382/500\n",
      "42/42 - 0s - loss: 0.6616 - binary_accuracy: 0.5647 - true_positives_2: 379.0000 - val_loss: 0.7157 - val_binary_accuracy: 0.5378 - val_true_positives_2: 41.0000\n",
      "Epoch 383/500\n",
      "42/42 - 0s - loss: 0.6560 - binary_accuracy: 0.5951 - true_positives_2: 414.0000 - val_loss: 0.7360 - val_binary_accuracy: 0.5210 - val_true_positives_2: 42.0000\n",
      "Epoch 384/500\n",
      "42/42 - 0s - loss: 0.6609 - binary_accuracy: 0.5868 - true_positives_2: 482.0000 - val_loss: 0.7433 - val_binary_accuracy: 0.5126 - val_true_positives_2: 43.0000\n",
      "Epoch 385/500\n",
      "42/42 - 0s - loss: 0.6601 - binary_accuracy: 0.5959 - true_positives_2: 425.0000 - val_loss: 0.7369 - val_binary_accuracy: 0.5294 - val_true_positives_2: 42.0000\n",
      "Epoch 386/500\n",
      "42/42 - 0s - loss: 0.6589 - binary_accuracy: 0.5814 - true_positives_2: 436.0000 - val_loss: 0.7438 - val_binary_accuracy: 0.5210 - val_true_positives_2: 43.0000\n",
      "Epoch 387/500\n",
      "42/42 - 0s - loss: 0.6567 - binary_accuracy: 0.5921 - true_positives_2: 426.0000 - val_loss: 0.7453 - val_binary_accuracy: 0.5294 - val_true_positives_2: 43.0000\n",
      "Epoch 388/500\n",
      "42/42 - 0s - loss: 0.6628 - binary_accuracy: 0.5776 - true_positives_2: 445.0000 - val_loss: 0.7654 - val_binary_accuracy: 0.5042 - val_true_positives_2: 43.0000\n",
      "Epoch 389/500\n",
      "42/42 - 0s - loss: 0.6674 - binary_accuracy: 0.5654 - true_positives_2: 430.0000 - val_loss: 0.7372 - val_binary_accuracy: 0.5546 - val_true_positives_2: 43.0000\n",
      "Epoch 390/500\n",
      "42/42 - 0s - loss: 0.6573 - binary_accuracy: 0.5769 - true_positives_2: 429.0000 - val_loss: 0.7462 - val_binary_accuracy: 0.5462 - val_true_positives_2: 43.0000\n",
      "Epoch 391/500\n",
      "42/42 - 0s - loss: 0.6579 - binary_accuracy: 0.5967 - true_positives_2: 433.0000 - val_loss: 0.7508 - val_binary_accuracy: 0.5378 - val_true_positives_2: 43.0000\n",
      "Epoch 392/500\n",
      "42/42 - 0s - loss: 0.6648 - binary_accuracy: 0.5586 - true_positives_2: 367.0000 - val_loss: 0.7412 - val_binary_accuracy: 0.5462 - val_true_positives_2: 43.0000\n",
      "Epoch 393/500\n",
      "42/42 - 0s - loss: 0.6515 - binary_accuracy: 0.6111 - true_positives_2: 406.0000 - val_loss: 0.7419 - val_binary_accuracy: 0.5378 - val_true_positives_2: 43.0000\n",
      "Epoch 394/500\n",
      "42/42 - 0s - loss: 0.6565 - binary_accuracy: 0.5959 - true_positives_2: 437.0000 - val_loss: 0.7449 - val_binary_accuracy: 0.5294 - val_true_positives_2: 43.0000\n",
      "Epoch 395/500\n",
      "42/42 - 0s - loss: 0.6580 - binary_accuracy: 0.5906 - true_positives_2: 425.0000 - val_loss: 0.7490 - val_binary_accuracy: 0.5378 - val_true_positives_2: 43.0000\n",
      "Epoch 396/500\n",
      "42/42 - 0s - loss: 0.6570 - binary_accuracy: 0.5913 - true_positives_2: 427.0000 - val_loss: 0.7674 - val_binary_accuracy: 0.5126 - val_true_positives_2: 44.0000\n",
      "Epoch 397/500\n",
      "42/42 - 0s - loss: 0.6546 - binary_accuracy: 0.5860 - true_positives_2: 391.0000 - val_loss: 0.7639 - val_binary_accuracy: 0.5126 - val_true_positives_2: 41.0000\n",
      "Epoch 398/500\n",
      "42/42 - 0s - loss: 0.6637 - binary_accuracy: 0.5906 - true_positives_2: 407.0000 - val_loss: 0.7658 - val_binary_accuracy: 0.5294 - val_true_positives_2: 41.0000\n",
      "Epoch 399/500\n",
      "42/42 - 0s - loss: 0.6601 - binary_accuracy: 0.6012 - true_positives_2: 401.0000 - val_loss: 0.7661 - val_binary_accuracy: 0.5126 - val_true_positives_2: 42.0000\n",
      "Epoch 400/500\n",
      "42/42 - 0s - loss: 0.6534 - binary_accuracy: 0.5921 - true_positives_2: 447.0000 - val_loss: 0.7719 - val_binary_accuracy: 0.4790 - val_true_positives_2: 43.0000\n",
      "Epoch 401/500\n",
      "42/42 - 0s - loss: 0.6631 - binary_accuracy: 0.5647 - true_positives_2: 437.0000 - val_loss: 0.7700 - val_binary_accuracy: 0.5210 - val_true_positives_2: 43.0000\n",
      "Epoch 402/500\n",
      "42/42 - 0s - loss: 0.6570 - binary_accuracy: 0.5883 - true_positives_2: 426.0000 - val_loss: 0.7597 - val_binary_accuracy: 0.4790 - val_true_positives_2: 43.0000\n",
      "Epoch 403/500\n",
      "42/42 - 0s - loss: 0.6576 - binary_accuracy: 0.5685 - true_positives_2: 493.0000 - val_loss: 0.7589 - val_binary_accuracy: 0.4790 - val_true_positives_2: 43.0000\n",
      "Epoch 404/500\n",
      "42/42 - 0s - loss: 0.6596 - binary_accuracy: 0.5890 - true_positives_2: 441.0000 - val_loss: 0.7473 - val_binary_accuracy: 0.5210 - val_true_positives_2: 43.0000\n",
      "Epoch 405/500\n",
      "42/42 - 0s - loss: 0.6609 - binary_accuracy: 0.5928 - true_positives_2: 438.0000 - val_loss: 0.7536 - val_binary_accuracy: 0.5294 - val_true_positives_2: 39.0000\n",
      "Epoch 406/500\n",
      "42/42 - 0s - loss: 0.6492 - binary_accuracy: 0.6088 - true_positives_2: 412.0000 - val_loss: 0.7590 - val_binary_accuracy: 0.5126 - val_true_positives_2: 38.0000\n",
      "Epoch 407/500\n",
      "42/42 - 0s - loss: 0.6544 - binary_accuracy: 0.5852 - true_positives_2: 388.0000 - val_loss: 0.7526 - val_binary_accuracy: 0.5294 - val_true_positives_2: 38.0000\n",
      "Epoch 408/500\n",
      "42/42 - 0s - loss: 0.6592 - binary_accuracy: 0.5913 - true_positives_2: 419.0000 - val_loss: 0.7469 - val_binary_accuracy: 0.5462 - val_true_positives_2: 41.0000\n",
      "Epoch 409/500\n",
      "42/42 - 0s - loss: 0.6596 - binary_accuracy: 0.5731 - true_positives_2: 385.0000 - val_loss: 0.7534 - val_binary_accuracy: 0.5042 - val_true_positives_2: 41.0000\n",
      "Epoch 410/500\n",
      "42/42 - 0s - loss: 0.6550 - binary_accuracy: 0.5700 - true_positives_2: 411.0000 - val_loss: 0.7572 - val_binary_accuracy: 0.4958 - val_true_positives_2: 41.0000\n",
      "Epoch 411/500\n",
      "42/42 - 0s - loss: 0.6504 - binary_accuracy: 0.6157 - true_positives_2: 441.0000 - val_loss: 0.7643 - val_binary_accuracy: 0.5210 - val_true_positives_2: 44.0000\n",
      "Epoch 412/500\n",
      "42/42 - 0s - loss: 0.6497 - binary_accuracy: 0.5890 - true_positives_2: 431.0000 - val_loss: 0.7818 - val_binary_accuracy: 0.4958 - val_true_positives_2: 43.0000\n",
      "Epoch 413/500\n",
      "42/42 - 0s - loss: 0.6470 - binary_accuracy: 0.5875 - true_positives_2: 473.0000 - val_loss: 0.7975 - val_binary_accuracy: 0.5210 - val_true_positives_2: 45.0000\n",
      "Epoch 414/500\n",
      "42/42 - 0s - loss: 0.6594 - binary_accuracy: 0.5837 - true_positives_2: 392.0000 - val_loss: 0.7709 - val_binary_accuracy: 0.5378 - val_true_positives_2: 43.0000\n",
      "Epoch 415/500\n",
      "42/42 - 0s - loss: 0.6504 - binary_accuracy: 0.5875 - true_positives_2: 409.0000 - val_loss: 0.7571 - val_binary_accuracy: 0.5546 - val_true_positives_2: 44.0000\n",
      "Epoch 416/500\n",
      "42/42 - 0s - loss: 0.6524 - binary_accuracy: 0.5974 - true_positives_2: 421.0000 - val_loss: 0.7767 - val_binary_accuracy: 0.5546 - val_true_positives_2: 45.0000\n",
      "Epoch 417/500\n",
      "42/42 - 0s - loss: 0.6565 - binary_accuracy: 0.5830 - true_positives_2: 410.0000 - val_loss: 0.7812 - val_binary_accuracy: 0.5126 - val_true_positives_2: 45.0000\n"
     ]
    },
    {
     "name": "stdout",
     "output_type": "stream",
     "text": [
      "Epoch 418/500\n",
      "42/42 - 0s - loss: 0.6562 - binary_accuracy: 0.5928 - true_positives_2: 398.0000 - val_loss: 0.7776 - val_binary_accuracy: 0.5210 - val_true_positives_2: 44.0000\n",
      "Epoch 419/500\n",
      "42/42 - 0s - loss: 0.6554 - binary_accuracy: 0.5837 - true_positives_2: 406.0000 - val_loss: 0.7750 - val_binary_accuracy: 0.5210 - val_true_positives_2: 45.0000\n",
      "Epoch 420/500\n",
      "42/42 - 0s - loss: 0.6597 - binary_accuracy: 0.5852 - true_positives_2: 371.0000 - val_loss: 0.7965 - val_binary_accuracy: 0.5210 - val_true_positives_2: 46.0000\n",
      "Epoch 421/500\n",
      "42/42 - 0s - loss: 0.6671 - binary_accuracy: 0.5883 - true_positives_2: 417.0000 - val_loss: 0.7448 - val_binary_accuracy: 0.5462 - val_true_positives_2: 43.0000\n",
      "Epoch 422/500\n",
      "42/42 - 0s - loss: 0.6563 - binary_accuracy: 0.5845 - true_positives_2: 456.0000 - val_loss: 0.7458 - val_binary_accuracy: 0.5378 - val_true_positives_2: 42.0000\n",
      "Epoch 423/500\n",
      "42/42 - 0s - loss: 0.6615 - binary_accuracy: 0.5677 - true_positives_2: 367.0000 - val_loss: 0.7632 - val_binary_accuracy: 0.5378 - val_true_positives_2: 43.0000\n",
      "Epoch 424/500\n",
      "42/42 - 0s - loss: 0.6523 - binary_accuracy: 0.5906 - true_positives_2: 449.0000 - val_loss: 0.7539 - val_binary_accuracy: 0.5210 - val_true_positives_2: 43.0000\n",
      "Epoch 425/500\n",
      "42/42 - 0s - loss: 0.6598 - binary_accuracy: 0.5830 - true_positives_2: 405.0000 - val_loss: 0.7475 - val_binary_accuracy: 0.5378 - val_true_positives_2: 41.0000\n",
      "Epoch 426/500\n",
      "42/42 - 0s - loss: 0.6639 - binary_accuracy: 0.5814 - true_positives_2: 372.0000 - val_loss: 0.7429 - val_binary_accuracy: 0.5546 - val_true_positives_2: 42.0000\n",
      "Epoch 427/500\n",
      "42/42 - 0s - loss: 0.6522 - binary_accuracy: 0.5883 - true_positives_2: 442.0000 - val_loss: 0.7828 - val_binary_accuracy: 0.5126 - val_true_positives_2: 45.0000\n",
      "Epoch 428/500\n",
      "42/42 - 0s - loss: 0.6599 - binary_accuracy: 0.5784 - true_positives_2: 483.0000 - val_loss: 0.7965 - val_binary_accuracy: 0.4958 - val_true_positives_2: 44.0000\n",
      "Epoch 429/500\n",
      "42/42 - 0s - loss: 0.6512 - binary_accuracy: 0.5974 - true_positives_2: 484.0000 - val_loss: 0.8041 - val_binary_accuracy: 0.5042 - val_true_positives_2: 45.0000\n",
      "Epoch 430/500\n",
      "42/42 - 0s - loss: 0.6526 - binary_accuracy: 0.6027 - true_positives_2: 479.0000 - val_loss: 0.7890 - val_binary_accuracy: 0.4958 - val_true_positives_2: 43.0000\n",
      "Epoch 431/500\n",
      "42/42 - 0s - loss: 0.6535 - binary_accuracy: 0.5959 - true_positives_2: 404.0000 - val_loss: 0.8026 - val_binary_accuracy: 0.5126 - val_true_positives_2: 45.0000\n",
      "Epoch 432/500\n",
      "42/42 - 0s - loss: 0.6527 - binary_accuracy: 0.5906 - true_positives_2: 400.0000 - val_loss: 0.7846 - val_binary_accuracy: 0.5126 - val_true_positives_2: 43.0000\n",
      "Epoch 433/500\n",
      "42/42 - 0s - loss: 0.6497 - binary_accuracy: 0.5845 - true_positives_2: 423.0000 - val_loss: 0.7993 - val_binary_accuracy: 0.4874 - val_true_positives_2: 43.0000\n",
      "Epoch 434/500\n",
      "42/42 - 0s - loss: 0.6544 - binary_accuracy: 0.5890 - true_positives_2: 430.0000 - val_loss: 0.8118 - val_binary_accuracy: 0.5042 - val_true_positives_2: 42.0000\n",
      "Epoch 435/500\n",
      "42/42 - 0s - loss: 0.6521 - binary_accuracy: 0.5974 - true_positives_2: 406.0000 - val_loss: 0.7804 - val_binary_accuracy: 0.4958 - val_true_positives_2: 43.0000\n",
      "Epoch 436/500\n",
      "42/42 - 0s - loss: 0.6543 - binary_accuracy: 0.5753 - true_positives_2: 403.0000 - val_loss: 0.7631 - val_binary_accuracy: 0.5378 - val_true_positives_2: 44.0000\n",
      "Epoch 437/500\n",
      "42/42 - 0s - loss: 0.6542 - binary_accuracy: 0.5700 - true_positives_2: 390.0000 - val_loss: 0.7782 - val_binary_accuracy: 0.5294 - val_true_positives_2: 47.0000\n",
      "Epoch 438/500\n",
      "42/42 - 0s - loss: 0.6592 - binary_accuracy: 0.5875 - true_positives_2: 441.0000 - val_loss: 0.7875 - val_binary_accuracy: 0.5126 - val_true_positives_2: 43.0000\n",
      "Epoch 439/500\n",
      "42/42 - 0s - loss: 0.6522 - binary_accuracy: 0.6035 - true_positives_2: 439.0000 - val_loss: 0.7957 - val_binary_accuracy: 0.4958 - val_true_positives_2: 44.0000\n",
      "Epoch 440/500\n",
      "42/42 - 0s - loss: 0.6523 - binary_accuracy: 0.5875 - true_positives_2: 394.0000 - val_loss: 0.7658 - val_binary_accuracy: 0.5462 - val_true_positives_2: 42.0000\n",
      "Epoch 441/500\n",
      "42/42 - 0s - loss: 0.6549 - binary_accuracy: 0.5906 - true_positives_2: 380.0000 - val_loss: 0.7888 - val_binary_accuracy: 0.4958 - val_true_positives_2: 43.0000\n",
      "Epoch 442/500\n",
      "42/42 - 0s - loss: 0.6534 - binary_accuracy: 0.5997 - true_positives_2: 432.0000 - val_loss: 0.7923 - val_binary_accuracy: 0.5126 - val_true_positives_2: 43.0000\n",
      "Epoch 443/500\n",
      "42/42 - 0s - loss: 0.6610 - binary_accuracy: 0.5677 - true_positives_2: 381.0000 - val_loss: 0.7931 - val_binary_accuracy: 0.5210 - val_true_positives_2: 46.0000\n",
      "Epoch 444/500\n",
      "42/42 - 0s - loss: 0.6547 - binary_accuracy: 0.6012 - true_positives_2: 385.0000 - val_loss: 0.8026 - val_binary_accuracy: 0.5042 - val_true_positives_2: 44.0000\n",
      "Epoch 445/500\n",
      "42/42 - 0s - loss: 0.6541 - binary_accuracy: 0.5845 - true_positives_2: 476.0000 - val_loss: 0.8058 - val_binary_accuracy: 0.5126 - val_true_positives_2: 46.0000\n",
      "Epoch 446/500\n",
      "42/42 - 0s - loss: 0.6526 - binary_accuracy: 0.5936 - true_positives_2: 410.0000 - val_loss: 0.8078 - val_binary_accuracy: 0.4958 - val_true_positives_2: 45.0000\n",
      "Epoch 447/500\n",
      "42/42 - 0s - loss: 0.6567 - binary_accuracy: 0.5753 - true_positives_2: 443.0000 - val_loss: 0.8020 - val_binary_accuracy: 0.4874 - val_true_positives_2: 45.0000\n",
      "Epoch 448/500\n",
      "42/42 - 0s - loss: 0.6530 - binary_accuracy: 0.5959 - true_positives_2: 416.0000 - val_loss: 0.8325 - val_binary_accuracy: 0.5126 - val_true_positives_2: 46.0000\n",
      "Epoch 449/500\n",
      "42/42 - 0s - loss: 0.6551 - binary_accuracy: 0.5852 - true_positives_2: 404.0000 - val_loss: 0.8145 - val_binary_accuracy: 0.5294 - val_true_positives_2: 45.0000\n",
      "Epoch 450/500\n",
      "42/42 - 0s - loss: 0.6490 - binary_accuracy: 0.5967 - true_positives_2: 396.0000 - val_loss: 0.8326 - val_binary_accuracy: 0.4958 - val_true_positives_2: 46.0000\n",
      "Epoch 451/500\n",
      "42/42 - 0s - loss: 0.6442 - binary_accuracy: 0.5936 - true_positives_2: 397.0000 - val_loss: 0.8322 - val_binary_accuracy: 0.5042 - val_true_positives_2: 46.0000\n",
      "Epoch 452/500\n",
      "42/42 - 0s - loss: 0.6589 - binary_accuracy: 0.6035 - true_positives_2: 403.0000 - val_loss: 0.8158 - val_binary_accuracy: 0.5126 - val_true_positives_2: 44.0000\n",
      "Epoch 453/500\n",
      "42/42 - 0s - loss: 0.6566 - binary_accuracy: 0.5875 - true_positives_2: 391.0000 - val_loss: 0.8571 - val_binary_accuracy: 0.4958 - val_true_positives_2: 45.0000\n",
      "Epoch 454/500\n",
      "42/42 - 0s - loss: 0.6538 - binary_accuracy: 0.5814 - true_positives_2: 461.0000 - val_loss: 0.8481 - val_binary_accuracy: 0.4790 - val_true_positives_2: 45.0000\n",
      "Epoch 455/500\n",
      "42/42 - 0s - loss: 0.6468 - binary_accuracy: 0.5928 - true_positives_2: 440.0000 - val_loss: 0.8492 - val_binary_accuracy: 0.4958 - val_true_positives_2: 44.0000\n",
      "Epoch 456/500\n",
      "42/42 - 0s - loss: 0.6555 - binary_accuracy: 0.6005 - true_positives_2: 434.0000 - val_loss: 0.8401 - val_binary_accuracy: 0.4958 - val_true_positives_2: 45.0000\n",
      "Epoch 457/500\n",
      "42/42 - 0s - loss: 0.6428 - binary_accuracy: 0.6157 - true_positives_2: 412.0000 - val_loss: 0.8298 - val_binary_accuracy: 0.4958 - val_true_positives_2: 45.0000\n",
      "Epoch 458/500\n",
      "42/42 - 0s - loss: 0.6574 - binary_accuracy: 0.5845 - true_positives_2: 425.0000 - val_loss: 0.8459 - val_binary_accuracy: 0.5126 - val_true_positives_2: 47.0000\n",
      "Epoch 459/500\n",
      "42/42 - 0s - loss: 0.6535 - binary_accuracy: 0.6081 - true_positives_2: 417.0000 - val_loss: 0.8358 - val_binary_accuracy: 0.4874 - val_true_positives_2: 46.0000\n",
      "Epoch 460/500\n",
      "42/42 - 0s - loss: 0.6461 - binary_accuracy: 0.5951 - true_positives_2: 440.0000 - val_loss: 0.8323 - val_binary_accuracy: 0.4958 - val_true_positives_2: 46.0000\n",
      "Epoch 461/500\n",
      "42/42 - 0s - loss: 0.6545 - binary_accuracy: 0.5944 - true_positives_2: 435.0000 - val_loss: 0.8007 - val_binary_accuracy: 0.4958 - val_true_positives_2: 45.0000\n",
      "Epoch 462/500\n",
      "42/42 - 0s - loss: 0.6450 - binary_accuracy: 0.6027 - true_positives_2: 394.0000 - val_loss: 0.8438 - val_binary_accuracy: 0.4958 - val_true_positives_2: 46.0000\n",
      "Epoch 463/500\n",
      "42/42 - 0s - loss: 0.6413 - binary_accuracy: 0.6104 - true_positives_2: 467.0000 - val_loss: 0.8240 - val_binary_accuracy: 0.5042 - val_true_positives_2: 46.0000\n",
      "Epoch 464/500\n",
      "42/42 - 0s - loss: 0.6587 - binary_accuracy: 0.5807 - true_positives_2: 362.0000 - val_loss: 0.8267 - val_binary_accuracy: 0.4958 - val_true_positives_2: 44.0000\n"
     ]
    },
    {
     "name": "stdout",
     "output_type": "stream",
     "text": [
      "Epoch 465/500\n",
      "42/42 - 0s - loss: 0.6572 - binary_accuracy: 0.5852 - true_positives_2: 381.0000 - val_loss: 0.8163 - val_binary_accuracy: 0.5042 - val_true_positives_2: 46.0000\n",
      "Epoch 466/500\n",
      "42/42 - 0s - loss: 0.6553 - binary_accuracy: 0.5974 - true_positives_2: 379.0000 - val_loss: 0.8352 - val_binary_accuracy: 0.4958 - val_true_positives_2: 44.0000\n",
      "Epoch 467/500\n",
      "42/42 - 0s - loss: 0.6434 - binary_accuracy: 0.5989 - true_positives_2: 390.0000 - val_loss: 0.8611 - val_binary_accuracy: 0.5126 - val_true_positives_2: 44.0000\n",
      "Epoch 468/500\n",
      "42/42 - 0s - loss: 0.6396 - binary_accuracy: 0.6104 - true_positives_2: 418.0000 - val_loss: 0.8486 - val_binary_accuracy: 0.5042 - val_true_positives_2: 45.0000\n",
      "Epoch 469/500\n",
      "42/42 - 0s - loss: 0.6538 - binary_accuracy: 0.6050 - true_positives_2: 416.0000 - val_loss: 0.8312 - val_binary_accuracy: 0.5042 - val_true_positives_2: 45.0000\n",
      "Epoch 470/500\n",
      "42/42 - 0s - loss: 0.6583 - binary_accuracy: 0.5967 - true_positives_2: 389.0000 - val_loss: 0.8534 - val_binary_accuracy: 0.4958 - val_true_positives_2: 45.0000\n",
      "Epoch 471/500\n",
      "42/42 - 0s - loss: 0.6495 - binary_accuracy: 0.5852 - true_positives_2: 390.0000 - val_loss: 0.8578 - val_binary_accuracy: 0.5042 - val_true_positives_2: 46.0000\n",
      "Epoch 472/500\n",
      "42/42 - 0s - loss: 0.6464 - binary_accuracy: 0.5951 - true_positives_2: 422.0000 - val_loss: 0.8423 - val_binary_accuracy: 0.5042 - val_true_positives_2: 44.0000\n",
      "Epoch 473/500\n",
      "42/42 - 0s - loss: 0.6541 - binary_accuracy: 0.6043 - true_positives_2: 441.0000 - val_loss: 0.8323 - val_binary_accuracy: 0.4958 - val_true_positives_2: 43.0000\n",
      "Epoch 474/500\n",
      "42/42 - 0s - loss: 0.6474 - binary_accuracy: 0.5928 - true_positives_2: 393.0000 - val_loss: 0.8310 - val_binary_accuracy: 0.4958 - val_true_positives_2: 42.0000\n",
      "Epoch 475/500\n",
      "42/42 - 0s - loss: 0.6360 - binary_accuracy: 0.6027 - true_positives_2: 411.0000 - val_loss: 0.8451 - val_binary_accuracy: 0.4874 - val_true_positives_2: 41.0000\n",
      "Epoch 476/500\n",
      "42/42 - 0s - loss: 0.6505 - binary_accuracy: 0.5822 - true_positives_2: 397.0000 - val_loss: 0.8274 - val_binary_accuracy: 0.5042 - val_true_positives_2: 43.0000\n",
      "Epoch 477/500\n",
      "42/42 - 0s - loss: 0.6564 - binary_accuracy: 0.5883 - true_positives_2: 396.0000 - val_loss: 0.8274 - val_binary_accuracy: 0.5126 - val_true_positives_2: 44.0000\n",
      "Epoch 478/500\n",
      "42/42 - 0s - loss: 0.6478 - binary_accuracy: 0.5830 - true_positives_2: 434.0000 - val_loss: 0.8330 - val_binary_accuracy: 0.5042 - val_true_positives_2: 45.0000\n",
      "Epoch 479/500\n",
      "42/42 - 0s - loss: 0.6527 - binary_accuracy: 0.5791 - true_positives_2: 454.0000 - val_loss: 0.8621 - val_binary_accuracy: 0.4958 - val_true_positives_2: 46.0000\n",
      "Epoch 480/500\n",
      "42/42 - 0s - loss: 0.6472 - binary_accuracy: 0.5875 - true_positives_2: 408.0000 - val_loss: 0.8667 - val_binary_accuracy: 0.5042 - val_true_positives_2: 46.0000\n",
      "Epoch 481/500\n",
      "42/42 - 0s - loss: 0.6542 - binary_accuracy: 0.5989 - true_positives_2: 421.0000 - val_loss: 0.8469 - val_binary_accuracy: 0.4874 - val_true_positives_2: 45.0000\n",
      "Epoch 482/500\n",
      "42/42 - 0s - loss: 0.6522 - binary_accuracy: 0.6096 - true_positives_2: 398.0000 - val_loss: 0.8430 - val_binary_accuracy: 0.5126 - val_true_positives_2: 47.0000\n",
      "Epoch 483/500\n",
      "42/42 - 0s - loss: 0.6480 - binary_accuracy: 0.6005 - true_positives_2: 422.0000 - val_loss: 0.8872 - val_binary_accuracy: 0.5042 - val_true_positives_2: 46.0000\n",
      "Epoch 484/500\n",
      "42/42 - 0s - loss: 0.6505 - binary_accuracy: 0.5959 - true_positives_2: 420.0000 - val_loss: 0.8624 - val_binary_accuracy: 0.4790 - val_true_positives_2: 46.0000\n",
      "Epoch 485/500\n",
      "42/42 - 0s - loss: 0.6466 - binary_accuracy: 0.6058 - true_positives_2: 419.0000 - val_loss: 0.8265 - val_binary_accuracy: 0.4706 - val_true_positives_2: 45.0000\n",
      "Epoch 486/500\n",
      "42/42 - 0s - loss: 0.6558 - binary_accuracy: 0.6050 - true_positives_2: 386.0000 - val_loss: 0.8486 - val_binary_accuracy: 0.5210 - val_true_positives_2: 46.0000\n",
      "Epoch 487/500\n",
      "42/42 - 0s - loss: 0.6423 - binary_accuracy: 0.5944 - true_positives_2: 404.0000 - val_loss: 0.8436 - val_binary_accuracy: 0.5294 - val_true_positives_2: 46.0000\n",
      "Epoch 488/500\n",
      "42/42 - 0s - loss: 0.6458 - binary_accuracy: 0.5974 - true_positives_2: 421.0000 - val_loss: 0.8623 - val_binary_accuracy: 0.5210 - val_true_positives_2: 46.0000\n",
      "Epoch 489/500\n",
      "42/42 - 0s - loss: 0.6518 - binary_accuracy: 0.5974 - true_positives_2: 460.0000 - val_loss: 0.8700 - val_binary_accuracy: 0.5210 - val_true_positives_2: 46.0000\n",
      "Epoch 490/500\n",
      "42/42 - 0s - loss: 0.6446 - binary_accuracy: 0.6073 - true_positives_2: 407.0000 - val_loss: 0.8356 - val_binary_accuracy: 0.5210 - val_true_positives_2: 45.0000\n",
      "Epoch 491/500\n",
      "42/42 - 0s - loss: 0.6533 - binary_accuracy: 0.5982 - true_positives_2: 402.0000 - val_loss: 0.8409 - val_binary_accuracy: 0.5042 - val_true_positives_2: 46.0000\n",
      "Epoch 492/500\n",
      "42/42 - 0s - loss: 0.6615 - binary_accuracy: 0.5807 - true_positives_2: 419.0000 - val_loss: 0.8713 - val_binary_accuracy: 0.4790 - val_true_positives_2: 46.0000\n",
      "Epoch 493/500\n",
      "42/42 - 0s - loss: 0.6445 - binary_accuracy: 0.6073 - true_positives_2: 424.0000 - val_loss: 0.8829 - val_binary_accuracy: 0.4958 - val_true_positives_2: 46.0000\n",
      "Epoch 494/500\n",
      "42/42 - 0s - loss: 0.6540 - binary_accuracy: 0.5799 - true_positives_2: 382.0000 - val_loss: 0.8764 - val_binary_accuracy: 0.4958 - val_true_positives_2: 46.0000\n",
      "Epoch 495/500\n",
      "42/42 - 0s - loss: 0.6415 - binary_accuracy: 0.6005 - true_positives_2: 417.0000 - val_loss: 0.8666 - val_binary_accuracy: 0.4958 - val_true_positives_2: 45.0000\n",
      "Epoch 496/500\n",
      "42/42 - 0s - loss: 0.6509 - binary_accuracy: 0.5928 - true_positives_2: 369.0000 - val_loss: 0.8661 - val_binary_accuracy: 0.5042 - val_true_positives_2: 46.0000\n",
      "Epoch 497/500\n",
      "42/42 - 0s - loss: 0.6423 - binary_accuracy: 0.6081 - true_positives_2: 408.0000 - val_loss: 0.8894 - val_binary_accuracy: 0.5210 - val_true_positives_2: 49.0000\n",
      "Epoch 498/500\n",
      "42/42 - 0s - loss: 0.6604 - binary_accuracy: 0.5890 - true_positives_2: 383.0000 - val_loss: 0.8642 - val_binary_accuracy: 0.5126 - val_true_positives_2: 48.0000\n",
      "Epoch 499/500\n",
      "42/42 - 0s - loss: 0.6520 - binary_accuracy: 0.6012 - true_positives_2: 406.0000 - val_loss: 0.9114 - val_binary_accuracy: 0.5210 - val_true_positives_2: 49.0000\n",
      "Epoch 500/500\n",
      "42/42 - 0s - loss: 0.6578 - binary_accuracy: 0.5723 - true_positives_2: 459.0000 - val_loss: 0.8766 - val_binary_accuracy: 0.4958 - val_true_positives_2: 47.0000\n"
     ]
    },
    {
     "data": {
      "text/plain": [
       "<tensorflow.python.keras.callbacks.History at 0x29437cb2970>"
      ]
     },
     "execution_count": 21,
     "metadata": {},
     "output_type": "execute_result"
    }
   ],
   "source": [
    "#Train Model\n",
    "\n",
    "model = keras.Sequential(\n",
    "    [\n",
    "        keras.layers.Dense(\n",
    "            32, activation=\"relu\", input_shape=(x_train.shape[-1],)\n",
    "        ),\n",
    "#         keras.layers.Dense(34, activation=\"relu\"),\n",
    "#         keras.layers.Dropout(0.3),\n",
    "#         keras.layers.Dense(32, activation=\"relu\"),\n",
    "        keras.layers.Dropout(0.5),\n",
    "        keras.layers.Dense(16, activation=\"relu\"),\n",
    "        keras.layers.Dropout(0.5),\n",
    "#         keras.layers.Dense(16, activation=\"relu\"),\n",
    "        keras.layers.Dense(8, activation=\"relu\"),\n",
    "        keras.layers.Dense(1, activation=\"sigmoid\"),\n",
    "    ]\n",
    ")\n",
    "model.summary()\n",
    "\n",
    "\n",
    "# metrics = [\n",
    "#    keras.metrics.FalseNegatives(name=\"fn\"),\n",
    "#    keras.metrics.FalsePositives(name=\"fp\"),\n",
    "#    keras.metrics.TrueNegatives(name=\"tn\"),\n",
    "#    keras.metrics.TruePositives(name=\"tp\"),\n",
    "#    keras.metrics.Precision(name=\"precision\"),\n",
    "#    keras.metrics.Recall(name=\"recall\"),\n",
    "# ]\n",
    "\n",
    "model.compile(\n",
    "    optimizer=keras.optimizers.Adam(0.001), loss=\"binary_crossentropy\",\n",
    "    metrics=[tf.keras.metrics.BinaryAccuracy(),tf.keras.metrics.TruePositives()]\n",
    ")\n",
    "\n",
    "#callbacks = [keras.callbacks.ModelCheckpoint(\"bitcoin_pos_model_at{epoch}.h5\")]\n",
    "class_weight = {0: weights_for_0, 1: weights_for_1}\n",
    "\n",
    "\n",
    "\n",
    "###Train Model - Not needed as model is trained.\n",
    "model.fit(\n",
    "    x_train,\n",
    "    y_train,\n",
    "    batch_size=32,\n",
    "    epochs=500,\n",
    "    verbose=2,\n",
    "    validation_data=(x_test, y_test)\n",
    ")\n"
   ]
  },
  {
   "cell_type": "code",
   "execution_count": 22,
   "metadata": {
    "extensions": {
     "jupyter_dashboards": {
      "version": 1,
      "views": {
       "grid_default": {},
       "report_default": {}
      }
     }
    }
   },
   "outputs": [
    {
     "name": "stdout",
     "output_type": "stream",
     "text": [
      "Saved model to disk\n"
     ]
    }
   ],
   "source": [
    "# # serialize model to JSON\n",
    "# model_json = model.to_json()\n",
    "# with open(\"model.json\", \"w\") as json_file:\n",
    "#     json_file.write(model_json)\n",
    "\n",
    "# # serialize weights to HDF5\n",
    "# model.save_weights(\"model.h5\")\n",
    "# print(\"Saved model to disk\")\n",
    "\n",
    "# load json and create model\n",
    "json_file = open('model.json', 'r')\n",
    "loaded_model_json = json_file.read()\n",
    "json_file.close()\n",
    "model = model_from_json(loaded_model_json)\n",
    "# load weights into new model\n",
    "model.load_weights(\"model.h5\")\n",
    "model.compile(\n",
    "    optimizer=keras.optimizers.Adam(1e-2), loss=\"binary_crossentropy\",\n",
    "    metrics=[tf.keras.metrics.BinaryAccuracy(),tf.keras.metrics.TruePositives()]\n",
    ")\n",
    "print(\"Loaded model from disk\")"
   ]
  },
  {
   "cell_type": "code",
   "execution_count": 23,
   "metadata": {
    "extensions": {
     "jupyter_dashboards": {
      "version": 1,
      "views": {
       "grid_default": {},
       "report_default": {}
      }
     }
    }
   },
   "outputs": [
    {
     "name": "stdout",
     "output_type": "stream",
     "text": [
      "4/4 [==============================] - 0s 2ms/step - loss: 0.9068 - binary_accuracy: 0.5000 - true_positives_2: 38.0000\n"
     ]
    },
    {
     "data": {
      "text/plain": [
       "[0.9068194031715393, 0.5, 38.0]"
      ]
     },
     "execution_count": 23,
     "metadata": {},
     "output_type": "execute_result"
    }
   ],
   "source": [
    "#Print results from last 100 days\n",
    "model.evaluate(x_test[-100:],y_test[-100:])"
   ]
  },
  {
   "cell_type": "code",
   "execution_count": null,
   "metadata": {
    "extensions": {
     "jupyter_dashboards": {
      "version": 1,
      "views": {
       "grid_default": {},
       "report_default": {}
      }
     }
    }
   },
   "outputs": [],
   "source": [
    "#User input lookbackperiod from end of dataset\n",
    "# Lookbackperiod = 10"
   ]
  },
  {
   "cell_type": "code",
   "execution_count": 24,
   "metadata": {
    "extensions": {
     "jupyter_dashboards": {
      "version": 1,
      "views": {
       "grid_default": {},
       "report_default": {}
      }
     }
    }
   },
   "outputs": [
    {
     "data": {
      "text/plain": [
       "array([[0.99496037]], dtype=float32)"
      ]
     },
     "execution_count": 24,
     "metadata": {},
     "output_type": "execute_result"
    }
   ],
   "source": [
    "model.predict(np.array( [x_test[-1],]))"
   ]
  },
  {
   "cell_type": "code",
   "execution_count": 25,
   "metadata": {
    "extensions": {
     "jupyter_dashboards": {
      "version": 1,
      "views": {
       "grid_default": {},
       "report_default": {}
      }
     }
    }
   },
   "outputs": [],
   "source": [
    "y_true_vals = y_test[-10:]\n",
    "predictions = model.predict(x_test[-10:])"
   ]
  },
  {
   "cell_type": "code",
   "execution_count": 26,
   "metadata": {
    "extensions": {
     "jupyter_dashboards": {
      "version": 1,
      "views": {
       "grid_default": {},
       "report_default": {}
      }
     }
    }
   },
   "outputs": [
    {
     "name": "stdout",
     "output_type": "stream",
     "text": [
      "Prediction 44.6% : Actual True\n",
      "Prediction 43.4% : Actual False\n",
      "Prediction 44.9% : Actual True\n",
      "Prediction 43.7% : Actual False\n",
      "Prediction 75.0% : Actual False\n",
      "Prediction 87.6% : Actual True\n",
      "Prediction 48.3% : Actual True\n",
      "Prediction 99.6% : Actual True\n",
      "Prediction 94.2% : Actual False\n",
      "Prediction 99.5% : Actual True\n"
     ]
    }
   ],
   "source": [
    "for i in range(len(predictions)):\n",
    "    print('Prediction {}% : Actual {}'.format(np.round(predictions[i][0] * 100,1),y_true_vals[i]))\n"
   ]
  },
  {
   "cell_type": "code",
   "execution_count": 30,
   "metadata": {
    "extensions": {
     "jupyter_dashboards": {
      "version": 1,
      "views": {
       "grid_default": {},
       "report_default": {}
      }
     }
    }
   },
   "outputs": [
    {
     "name": "stdout",
     "output_type": "stream",
     "text": [
      "Last Day of Data 2021-07-06 23:59:59\n"
     ]
    }
   ],
   "source": [
    "print(\"Last Day of Data {}\".format(max(csv['Date'])))"
   ]
  },
  {
   "cell_type": "code",
   "execution_count": 28,
   "metadata": {
    "extensions": {
     "jupyter_dashboards": {
      "version": 1,
      "views": {
       "grid_default": {},
       "report_default": {}
      }
     }
    }
   },
   "outputs": [],
   "source": [
    "#Pull in raw data\n",
    "csv = pd.read_csv('coin_Bitcoin.csv')\n",
    "csv = csv[csv['Volume'] > 0]\n",
    "\n",
    "#Format data ro have model run on it\n",
    "csv['FormattedDate'] = pd.to_datetime(csv['Date'])\n",
    "csv['RollingAvg7Days'] = csv['Close'].shift().rolling(window=7).mean()\n",
    "#Add Different Rolling Averages for Closing and Volume over time\n",
    "csv['RollingNextDay'] = csv['Close'].shift(-1).rolling(window=1).mean()\n",
    "csv['RollingAvg1Days'] = csv['Close'].shift().rolling(window=1).mean()\n",
    "csv['RollingAvg3Days'] = csv['Close'].shift().rolling(window=3).mean()\n",
    "csv['RollingAvg15Days'] = csv['Close'].shift().rolling(window=15).mean()\n",
    "csv['RollingAvg30Days'] = csv['Close'].shift().rolling(window=30).mean()\n",
    "csv['RollingAvg90Days'] = csv['Close'].shift().rolling(window=90).mean()\n",
    "csv['RollingAvg180Days'] = csv['Close'].shift().rolling(window=180).mean()\n",
    "csv['RollingAvg360Days'] = csv['Close'].shift().rolling(window=360).mean()\n",
    "\n",
    "csv['RollingVolumeAvg1Days'] = csv['Volume'].shift().rolling(window=1).mean()\n",
    "csv['RollingVolumeAvg3Days'] = csv['Volume'].shift().rolling(window=3).mean()\n",
    "csv['RollingVolumeAvg7Days'] = csv['Volume'].shift().rolling(window=7).mean()\n",
    "csv['RollingVolumeAvg15Days'] = csv['Volume'].shift().rolling(window=15).mean()\n",
    "csv['RollingVolumeAvg30Days'] = csv['Volume'].shift().rolling(window=30).mean()\n",
    "csv['RollingVolumeAvg90Days'] = csv['Volume'].shift().rolling(window=90).mean()\n",
    "csv['RollingVolumeAvg180Days'] = csv['Volume'].shift().rolling(window=180).mean()\n",
    "csv['RollingVolumeAvg360Days'] = csv['Volume'].shift().rolling(window=360).mean()\n",
    "\n",
    "\n",
    "#Create the day's fluctuation given recent time periods, try to standardize\n",
    "csv['NextDayFluctuation'] = (csv['RollingNextDay'] / csv['Close']) -1\n",
    "csv['Days1Fluctuation'] = (csv['Close'] / csv['RollingAvg1Days']) -1\n",
    "csv['Days3Fluctuation'] = (csv['Close'] / csv['RollingAvg3Days']) -1\n",
    "csv['Days7Fluctuation'] = (csv['Close'] / csv['RollingAvg7Days']) -1\n",
    "csv['Days15Fluctuation'] = (csv['Close'] / csv['RollingAvg15Days']) -1\n",
    "csv['Days30Fluctuation'] = (csv['Close'] / csv['RollingAvg30Days']) -1\n",
    "csv['Days90Fluctuation'] = (csv['Close'] / csv['RollingAvg90Days']) -1\n",
    "csv['Days180Fluctuation'] = (csv['Close'] / csv['RollingAvg180Days']) -1\n",
    "csv['Days360Fluctuation'] = (csv['Close'] / csv['RollingAvg360Days']) -1\n",
    "\n",
    "#Create the same for Volume numbers, try to standardize\n",
    "csv['Days1FluctuationVolume'] = (csv['Volume'] / csv['RollingVolumeAvg1Days']) -1\n",
    "csv['Days3FluctuationVolume'] = (csv['Volume'] / csv['RollingVolumeAvg3Days']) -1\n",
    "csv['Days7FluctuationVolume'] = (csv['Volume'] / csv['RollingVolumeAvg7Days']) -1\n",
    "csv['Days15FluctuationVolume'] = (csv['Volume'] / csv['RollingVolumeAvg15Days']) -1\n",
    "csv['Days30FluctuationVolume'] = (csv['Volume'] / csv['RollingVolumeAvg30Days']) -1\n",
    "csv['Days90FluctuationVolume'] = (csv['Volume'] / csv['RollingVolumeAvg90Days']) -1\n",
    "csv['Days180FluctuationVolume'] = (csv['Volume'] / csv['RollingVolumeAvg180Days']) -1\n",
    "csv['Days360FluctuationVolume'] = (csv['Volume'] / csv['RollingVolumeAvg360Days']) -1\n",
    "\n",
    "#Add a nunmber to indicate where the close is compared to low and high\n",
    "csv['CloseToHigh'] = csv['Close']/csv['High']\n",
    "csv['CloseToLow'] = csv['Close']/csv['Low']\n",
    "\n",
    "#Create some flags for large increases and decreases\n",
    "csv['DaySawIncrease'] = csv['NextDayFluctuation'].gt(0.00)\n",
    "\n",
    "#Turn x into numpy for input into model\n",
    "x = csv[x_columns]\n",
    "x_numpy = x.to_numpy()"
   ]
  },
  {
   "cell_type": "code",
   "execution_count": 29,
   "metadata": {
    "extensions": {
     "jupyter_dashboards": {
      "version": 1,
      "views": {
       "grid_default": {},
       "report_default": {}
      }
     }
    }
   },
   "outputs": [],
   "source": [
    "#Add predictions and formatted data to xlsx\n",
    "csv['Predictions'] = model.predict(x_numpy)"
   ]
  },
  {
   "cell_type": "code",
   "execution_count": 31,
   "metadata": {
    "extensions": {
     "jupyter_dashboards": {
      "version": 1,
      "views": {
       "grid_default": {},
       "report_default": {}
      }
     }
    }
   },
   "outputs": [],
   "source": [
    "#Export processed xlsx\n",
    "csv.to_excel('csv_clean.xlsx')"
   ]
  },
  {
   "cell_type": "code",
   "execution_count": null,
   "metadata": {
    "extensions": {
     "jupyter_dashboards": {
      "version": 1,
      "views": {
       "grid_default": {},
       "report_default": {}
      }
     }
    }
   },
   "outputs": [],
   "source": []
  },
  {
   "cell_type": "code",
   "execution_count": null,
   "metadata": {},
   "outputs": [],
   "source": []
  },
  {
   "cell_type": "code",
   "execution_count": null,
   "metadata": {},
   "outputs": [],
   "source": []
  },
  {
   "cell_type": "code",
   "execution_count": null,
   "metadata": {},
   "outputs": [],
   "source": []
  }
 ],
 "metadata": {
  "extensions": {
   "jupyter_dashboards": {
    "activeView": "grid_default",
    "version": 1,
    "views": {
     "grid_default": {
      "cellMargin": 10,
      "defaultCellHeight": 20,
      "maxColumns": 12,
      "name": "grid",
      "type": "grid"
     },
     "report_default": {
      "name": "report",
      "type": "report"
     }
    }
   }
  },
  "kernelspec": {
   "display_name": "Python 3",
   "language": "python",
   "name": "python3"
  },
  "language_info": {
   "codemirror_mode": {
    "name": "ipython",
    "version": 3
   },
   "file_extension": ".py",
   "mimetype": "text/x-python",
   "name": "python",
   "nbconvert_exporter": "python",
   "pygments_lexer": "ipython3",
   "version": "3.8.10"
  }
 },
 "nbformat": 4,
 "nbformat_minor": 4
}
